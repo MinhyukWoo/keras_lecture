{
 "cells": [
  {
   "cell_type": "code",
   "execution_count": 1,
   "metadata": {},
   "outputs": [
    {
     "name": "stdout",
     "output_type": "stream",
     "text": [
      "2.9.1\n",
      "2.9.0\n"
     ]
    }
   ],
   "source": [
    "import tensorflow as tf\n",
    "import keras\n",
    "print(tf.__version__)\n",
    "print(keras.__version__)"
   ]
  },
  {
   "cell_type": "code",
   "execution_count": 2,
   "metadata": {},
   "outputs": [],
   "source": [
    "fashion_mnist = keras.datasets.fashion_mnist\n"
   ]
  },
  {
   "cell_type": "code",
   "execution_count": 3,
   "metadata": {},
   "outputs": [
    {
     "name": "stdout",
     "output_type": "stream",
     "text": [
      "(60000, 28, 28)\n",
      "uint8\n",
      "(60000,)\n",
      "uint8\n"
     ]
    }
   ],
   "source": [
    "(X_train, y_train), (X_test, y_test) = fashion_mnist.load_data()\n",
    "print(X_train.shape)\n",
    "print(X_train.dtype)\n",
    "print(y_train.shape)\n",
    "print(y_train.dtype)"
   ]
  },
  {
   "cell_type": "code",
   "execution_count": 4,
   "metadata": {},
   "outputs": [
    {
     "name": "stdout",
     "output_type": "stream",
     "text": [
      "(45000, 28, 28)\n",
      "(15000, 28, 28)\n",
      "(45000,)\n",
      "(15000,)\n"
     ]
    }
   ],
   "source": [
    "def dividedBy255(array):\n",
    "    return array / 255.0\n",
    "\n",
    "def splitTrainSimply(train_data, valid_rate=0.25):\n",
    "    data_len = train_data.shape[0]\n",
    "    border = int(data_len * valid_rate)\n",
    "    return train_data[border:], train_data[:border]\n",
    "\n",
    "X_train, X_valid = splitTrainSimply(dividedBy255(X_train))\n",
    "y_train, y_valid = splitTrainSimply(y_train)\n",
    "X_test = dividedBy255(X_test)\n",
    "print(X_train.shape)\n",
    "print(X_valid.shape)\n",
    "print(y_train.shape)\n",
    "print(y_valid.shape)"
   ]
  },
  {
   "cell_type": "code",
   "execution_count": 5,
   "metadata": {},
   "outputs": [
    {
     "name": "stdout",
     "output_type": "stream",
     "text": [
      "Model: \"sequential\"\n",
      "_________________________________________________________________\n",
      " Layer (type)                Output Shape              Param #   \n",
      "=================================================================\n",
      " flatten (Flatten)           (None, 784)               0         \n",
      "                                                                 \n",
      " dense (Dense)               (None, 300)               235500    \n",
      "                                                                 \n",
      " dense_1 (Dense)             (None, 100)               30100     \n",
      "                                                                 \n",
      " dense_2 (Dense)             (None, 10)                1010      \n",
      "                                                                 \n",
      "=================================================================\n",
      "Total params: 266,610\n",
      "Trainable params: 266,610\n",
      "Non-trainable params: 0\n",
      "_________________________________________________________________\n"
     ]
    },
    {
     "name": "stderr",
     "output_type": "stream",
     "text": [
      "2022-08-18 18:39:54.474489: I tensorflow/core/platform/cpu_feature_guard.cc:193] This TensorFlow binary is optimized with oneAPI Deep Neural Network Library (oneDNN) to use the following CPU instructions in performance-critical operations:  SSE4.1 SSE4.2 AVX AVX2 FMA\n",
      "To enable them in other operations, rebuild TensorFlow with the appropriate compiler flags.\n"
     ]
    }
   ],
   "source": [
    "\n",
    "from keras import layers\n",
    "simple_model = keras.Sequential(\n",
    "    [\n",
    "        layers.InputLayer(input_shape=[28, 28]),\n",
    "        layers.Flatten(),\n",
    "        layers.Dense(300, activation=keras.activations.relu),\n",
    "        layers.Dense(100, activation=keras.activations.relu),\n",
    "        layers.Dense(10, activation=keras.activations.softmax)\n",
    "    ]\n",
    ")\n",
    "simple_model.summary()"
   ]
  },
  {
   "cell_type": "code",
   "execution_count": 6,
   "metadata": {},
   "outputs": [
    {
     "data": {
      "text/plain": [
       "[<keras.layers.reshaping.flatten.Flatten at 0x7f6e9e083520>,\n",
       " <keras.layers.core.dense.Dense at 0x7f6e9e0833d0>,\n",
       " <keras.layers.core.dense.Dense at 0x7f6e9e083700>,\n",
       " <keras.layers.core.dense.Dense at 0x7f6e9e0839d0>]"
      ]
     },
     "execution_count": 6,
     "metadata": {},
     "output_type": "execute_result"
    }
   ],
   "source": [
    "simple_model.layers"
   ]
  },
  {
   "cell_type": "code",
   "execution_count": 7,
   "metadata": {},
   "outputs": [],
   "source": [
    "from keras import optimizers\n",
    "from keras import losses\n",
    "from keras import metrics\n",
    "simple_model.compile(\n",
    "    optimizer=optimizers.SGD(),\n",
    "    loss=losses.SparseCategoricalCrossentropy(),\n",
    "    metrics=[metrics.SparseCategoricalAccuracy()]\n",
    ")"
   ]
  },
  {
   "cell_type": "code",
   "execution_count": 8,
   "metadata": {},
   "outputs": [
    {
     "name": "stdout",
     "output_type": "stream",
     "text": [
      "Epoch 1/30\n"
     ]
    },
    {
     "name": "stderr",
     "output_type": "stream",
     "text": [
      "2022-08-18 18:39:54.929750: W tensorflow/core/framework/cpu_allocator_impl.cc:82] Allocation of 141120000 exceeds 10% of free system memory.\n"
     ]
    },
    {
     "name": "stdout",
     "output_type": "stream",
     "text": [
      "1407/1407 [==============================] - 6s 4ms/step - loss: 0.7617 - sparse_categorical_accuracy: 0.7530 - val_loss: 0.5268 - val_sparse_categorical_accuracy: 0.8204\n",
      "Epoch 2/30\n",
      "1407/1407 [==============================] - 6s 4ms/step - loss: 0.5080 - sparse_categorical_accuracy: 0.8242 - val_loss: 0.4980 - val_sparse_categorical_accuracy: 0.8242\n",
      "Epoch 3/30\n",
      "1407/1407 [==============================] - 6s 4ms/step - loss: 0.4604 - sparse_categorical_accuracy: 0.8398 - val_loss: 0.4507 - val_sparse_categorical_accuracy: 0.8422\n",
      "Epoch 4/30\n",
      "1407/1407 [==============================] - 6s 5ms/step - loss: 0.4321 - sparse_categorical_accuracy: 0.8489 - val_loss: 0.5080 - val_sparse_categorical_accuracy: 0.8211\n",
      "Epoch 5/30\n",
      "1407/1407 [==============================] - 6s 4ms/step - loss: 0.4115 - sparse_categorical_accuracy: 0.8556 - val_loss: 0.4035 - val_sparse_categorical_accuracy: 0.8590\n",
      "Epoch 6/30\n",
      "1407/1407 [==============================] - 5s 4ms/step - loss: 0.3945 - sparse_categorical_accuracy: 0.8617 - val_loss: 0.3859 - val_sparse_categorical_accuracy: 0.8626\n",
      "Epoch 7/30\n",
      "1407/1407 [==============================] - 6s 4ms/step - loss: 0.3813 - sparse_categorical_accuracy: 0.8665 - val_loss: 0.3949 - val_sparse_categorical_accuracy: 0.8589\n",
      "Epoch 8/30\n",
      "1407/1407 [==============================] - 6s 4ms/step - loss: 0.3688 - sparse_categorical_accuracy: 0.8710 - val_loss: 0.3975 - val_sparse_categorical_accuracy: 0.8568\n",
      "Epoch 9/30\n",
      "1407/1407 [==============================] - 5s 4ms/step - loss: 0.3592 - sparse_categorical_accuracy: 0.8745 - val_loss: 0.3677 - val_sparse_categorical_accuracy: 0.8679\n",
      "Epoch 10/30\n",
      "1407/1407 [==============================] - 5s 4ms/step - loss: 0.3500 - sparse_categorical_accuracy: 0.8756 - val_loss: 0.3778 - val_sparse_categorical_accuracy: 0.8615\n",
      "Epoch 11/30\n",
      "1407/1407 [==============================] - 5s 4ms/step - loss: 0.3399 - sparse_categorical_accuracy: 0.8805 - val_loss: 0.3838 - val_sparse_categorical_accuracy: 0.8599\n",
      "Epoch 12/30\n",
      "1407/1407 [==============================] - 5s 4ms/step - loss: 0.3312 - sparse_categorical_accuracy: 0.8834 - val_loss: 0.3700 - val_sparse_categorical_accuracy: 0.8669\n",
      "Epoch 13/30\n",
      "1407/1407 [==============================] - 5s 4ms/step - loss: 0.3254 - sparse_categorical_accuracy: 0.8843 - val_loss: 0.3932 - val_sparse_categorical_accuracy: 0.8525\n",
      "Epoch 14/30\n",
      "1407/1407 [==============================] - 5s 4ms/step - loss: 0.3170 - sparse_categorical_accuracy: 0.8865 - val_loss: 0.4731 - val_sparse_categorical_accuracy: 0.8256\n",
      "Epoch 15/30\n",
      "1407/1407 [==============================] - 5s 4ms/step - loss: 0.3106 - sparse_categorical_accuracy: 0.8898 - val_loss: 0.3735 - val_sparse_categorical_accuracy: 0.8634\n",
      "Epoch 16/30\n",
      "1407/1407 [==============================] - 5s 4ms/step - loss: 0.3042 - sparse_categorical_accuracy: 0.8916 - val_loss: 0.3451 - val_sparse_categorical_accuracy: 0.8743\n",
      "Epoch 17/30\n",
      "1407/1407 [==============================] - 6s 4ms/step - loss: 0.2979 - sparse_categorical_accuracy: 0.8937 - val_loss: 0.3443 - val_sparse_categorical_accuracy: 0.8719\n",
      "Epoch 18/30\n",
      "1407/1407 [==============================] - 6s 4ms/step - loss: 0.2925 - sparse_categorical_accuracy: 0.8955 - val_loss: 0.3306 - val_sparse_categorical_accuracy: 0.8803\n",
      "Epoch 19/30\n",
      "1407/1407 [==============================] - 6s 4ms/step - loss: 0.2876 - sparse_categorical_accuracy: 0.8970 - val_loss: 0.3353 - val_sparse_categorical_accuracy: 0.8779\n",
      "Epoch 20/30\n",
      "1407/1407 [==============================] - 6s 4ms/step - loss: 0.2811 - sparse_categorical_accuracy: 0.9012 - val_loss: 0.3428 - val_sparse_categorical_accuracy: 0.8745\n",
      "Epoch 21/30\n",
      "1407/1407 [==============================] - 5s 4ms/step - loss: 0.2770 - sparse_categorical_accuracy: 0.9011 - val_loss: 0.3275 - val_sparse_categorical_accuracy: 0.8773\n",
      "Epoch 22/30\n",
      "1407/1407 [==============================] - 6s 4ms/step - loss: 0.2712 - sparse_categorical_accuracy: 0.9027 - val_loss: 0.3671 - val_sparse_categorical_accuracy: 0.8696\n",
      "Epoch 23/30\n",
      "1407/1407 [==============================] - 6s 4ms/step - loss: 0.2666 - sparse_categorical_accuracy: 0.9051 - val_loss: 0.3291 - val_sparse_categorical_accuracy: 0.8815\n",
      "Epoch 24/30\n",
      "1407/1407 [==============================] - 6s 4ms/step - loss: 0.2624 - sparse_categorical_accuracy: 0.9059 - val_loss: 0.3589 - val_sparse_categorical_accuracy: 0.8725\n",
      "Epoch 25/30\n",
      "1407/1407 [==============================] - 6s 4ms/step - loss: 0.2574 - sparse_categorical_accuracy: 0.9086 - val_loss: 0.3230 - val_sparse_categorical_accuracy: 0.8807\n",
      "Epoch 26/30\n",
      "1407/1407 [==============================] - 5s 4ms/step - loss: 0.2531 - sparse_categorical_accuracy: 0.9102 - val_loss: 0.3456 - val_sparse_categorical_accuracy: 0.8761\n",
      "Epoch 27/30\n",
      "1407/1407 [==============================] - 6s 4ms/step - loss: 0.2489 - sparse_categorical_accuracy: 0.9120 - val_loss: 0.3304 - val_sparse_categorical_accuracy: 0.8825\n",
      "Epoch 28/30\n",
      "1407/1407 [==============================] - 6s 4ms/step - loss: 0.2459 - sparse_categorical_accuracy: 0.9122 - val_loss: 0.3389 - val_sparse_categorical_accuracy: 0.8778\n",
      "Epoch 29/30\n",
      "1407/1407 [==============================] - 6s 4ms/step - loss: 0.2423 - sparse_categorical_accuracy: 0.9146 - val_loss: 0.4196 - val_sparse_categorical_accuracy: 0.8457\n",
      "Epoch 30/30\n",
      "1407/1407 [==============================] - 5s 4ms/step - loss: 0.2381 - sparse_categorical_accuracy: 0.9148 - val_loss: 0.3105 - val_sparse_categorical_accuracy: 0.8891\n"
     ]
    }
   ],
   "source": [
    "history = simple_model.fit(\n",
    "    X_train, y_train, epochs=30, validation_data=(X_valid, y_valid)\n",
    ")"
   ]
  },
  {
   "cell_type": "code",
   "execution_count": 9,
   "metadata": {},
   "outputs": [
    {
     "data": {
      "image/png": "[encoded data removed]",
      "text/plain": [
       "<Figure size 640x480 with 1 Axes>"
      ]
     },
     "metadata": {},
     "output_type": "display_data"
    }
   ],
   "source": [
    "import pandas as pd\n",
    "import matplotlib.pyplot as plt\n",
    "\n",
    "pd.DataFrame(history.history).plot()\n",
    "plt.grid(True)"
   ]
  },
  {
   "cell_type": "code",
   "execution_count": 10,
   "metadata": {},
   "outputs": [
    {
     "name": "stdout",
     "output_type": "stream",
     "text": [
      "313/313 [==============================] - 1s 3ms/step - loss: 0.3407 - sparse_categorical_accuracy: 0.8799\n"
     ]
    },
    {
     "data": {
      "text/plain": [
       "[0.34067803621292114, 0.8798999786376953]"
      ]
     },
     "execution_count": 10,
     "metadata": {},
     "output_type": "execute_result"
    }
   ],
   "source": [
    "simple_model.evaluate(X_test, y_test)"
   ]
  },
  {
   "cell_type": "code",
   "execution_count": 11,
   "metadata": {},
   "outputs": [
    {
     "name": "stdout",
     "output_type": "stream",
     "text": [
      "1/1 [==============================] - 0s 92ms/step\n"
     ]
    },
    {
     "data": {
      "text/plain": [
       "array([[0.  , 0.  , 0.  , 0.  , 0.  , 0.01, 0.  , 0.03, 0.  , 0.97]],\n",
       "      dtype=float32)"
      ]
     },
     "execution_count": 11,
     "metadata": {},
     "output_type": "execute_result"
    }
   ],
   "source": [
    "p_test = simple_model.predict(X_test[:1])\n",
    "p_test.round(2)"
   ]
  }
 ],
 "metadata": {
  "kernelspec": {
   "display_name": "Python 3.10.4 64-bit ('keras')",
   "language": "python",
   "name": "python3"
  },
  "language_info": {
   "codemirror_mode": {
    "name": "ipython",
    "version": 3
   },
   "file_extension": ".py",
   "mimetype": "text/x-python",
   "name": "python",
   "nbconvert_exporter": "python",
   "pygments_lexer": "ipython3",
   "version": "3.10.5"
  },
  "orig_nbformat": 4,
  "vscode": {
   "interpreter": {
    "hash": "7ef57f6253e9a5a38a58b334dbad68aabf0ff46310a53901de635097d95696df"
   }
  }
 },
 "nbformat": 4,
 "nbformat_minor": 2
}
