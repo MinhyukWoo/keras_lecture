{
 "cells": [
  {
   "cell_type": "code",
   "execution_count": 1,
   "metadata": {},
   "outputs": [
    {
     "name": "stderr",
     "output_type": "stream",
     "text": [
      "2022-11-03 23:15:13.319115: I tensorflow/core/platform/cpu_feature_guard.cc:193] This TensorFlow binary is optimized with oneAPI Deep Neural Network Library (oneDNN) to use the following CPU instructions in performance-critical operations:  AVX2 FMA\n",
      "To enable them in other operations, rebuild TensorFlow with the appropriate compiler flags.\n",
      "2022-11-03 23:15:13.479079: E tensorflow/stream_executor/cuda/cuda_blas.cc:2981] Unable to register cuBLAS factory: Attempting to register factory for plugin cuBLAS when one has already been registered\n",
      "2022-11-03 23:15:14.169011: W tensorflow/stream_executor/platform/default/dso_loader.cc:64] Could not load dynamic library 'libnvinfer.so.7'; dlerror: libnvinfer.so.7: cannot open shared object file: No such file or directory\n",
      "2022-11-03 23:15:14.169144: W tensorflow/stream_executor/platform/default/dso_loader.cc:64] Could not load dynamic library 'libnvinfer_plugin.so.7'; dlerror: libnvinfer_plugin.so.7: cannot open shared object file: No such file or directory\n",
      "2022-11-03 23:15:14.169157: W tensorflow/compiler/tf2tensorrt/utils/py_utils.cc:38] TF-TRT Warning: Cannot dlopen some TensorRT libraries. If you would like to use Nvidia GPU with TensorRT, please make sure the missing libraries mentioned above are installed properly.\n"
     ]
    },
    {
     "name": "stdout",
     "output_type": "stream",
     "text": [
      "Found 13572 files belonging to 100 classes.\n"
     ]
    },
    {
     "name": "stderr",
     "output_type": "stream",
     "text": [
      "2022-11-03 23:15:16.963571: I tensorflow/stream_executor/cuda/cuda_gpu_executor.cc:966] could not open file to read NUMA node: /sys/bus/pci/devices/0000:42:00.0/numa_node\n",
      "Your kernel may have been built without NUMA support.\n",
      "2022-11-03 23:15:16.972026: I tensorflow/stream_executor/cuda/cuda_gpu_executor.cc:966] could not open file to read NUMA node: /sys/bus/pci/devices/0000:42:00.0/numa_node\n",
      "Your kernel may have been built without NUMA support.\n",
      "2022-11-03 23:15:16.972512: I tensorflow/stream_executor/cuda/cuda_gpu_executor.cc:966] could not open file to read NUMA node: /sys/bus/pci/devices/0000:42:00.0/numa_node\n",
      "Your kernel may have been built without NUMA support.\n",
      "2022-11-03 23:15:16.973047: I tensorflow/core/platform/cpu_feature_guard.cc:193] This TensorFlow binary is optimized with oneAPI Deep Neural Network Library (oneDNN) to use the following CPU instructions in performance-critical operations:  AVX2 FMA\n",
      "To enable them in other operations, rebuild TensorFlow with the appropriate compiler flags.\n",
      "2022-11-03 23:15:16.980065: I tensorflow/stream_executor/cuda/cuda_gpu_executor.cc:966] could not open file to read NUMA node: /sys/bus/pci/devices/0000:42:00.0/numa_node\n",
      "Your kernel may have been built without NUMA support.\n",
      "2022-11-03 23:15:16.980545: I tensorflow/stream_executor/cuda/cuda_gpu_executor.cc:966] could not open file to read NUMA node: /sys/bus/pci/devices/0000:42:00.0/numa_node\n",
      "Your kernel may have been built without NUMA support.\n",
      "2022-11-03 23:15:16.980987: I tensorflow/stream_executor/cuda/cuda_gpu_executor.cc:966] could not open file to read NUMA node: /sys/bus/pci/devices/0000:42:00.0/numa_node\n",
      "Your kernel may have been built without NUMA support.\n",
      "2022-11-03 23:15:17.612250: I tensorflow/stream_executor/cuda/cuda_gpu_executor.cc:966] could not open file to read NUMA node: /sys/bus/pci/devices/0000:42:00.0/numa_node\n",
      "Your kernel may have been built without NUMA support.\n",
      "2022-11-03 23:15:17.612725: I tensorflow/stream_executor/cuda/cuda_gpu_executor.cc:966] could not open file to read NUMA node: /sys/bus/pci/devices/0000:42:00.0/numa_node\n",
      "Your kernel may have been built without NUMA support.\n",
      "2022-11-03 23:15:17.612740: I tensorflow/core/common_runtime/gpu/gpu_device.cc:1700] Could not identify NUMA node of platform GPU id 0, defaulting to 0.  Your kernel may not have been built with NUMA support.\n",
      "2022-11-03 23:15:17.613163: I tensorflow/stream_executor/cuda/cuda_gpu_executor.cc:966] could not open file to read NUMA node: /sys/bus/pci/devices/0000:42:00.0/numa_node\n",
      "Your kernel may have been built without NUMA support.\n",
      "2022-11-03 23:15:17.613214: I tensorflow/core/common_runtime/gpu/gpu_device.cc:1616] Created device /job:localhost/replica:0/task:0/device:GPU:0 with 22124 MB memory:  -> device: 0, name: NVIDIA TITAN RTX, pci bus id: 0000:42:00.0, compute capability: 7.5\n"
     ]
    },
    {
     "name": "stdout",
     "output_type": "stream",
     "text": [
      "Found 500 files belonging to 100 classes.\n",
      "Found 500 files belonging to 100 classes.\n"
     ]
    },
    {
     "data": {
      "text/plain": [
       "<BatchDataset element_spec=(TensorSpec(shape=(None, 180, 180, 3), dtype=tf.float32, name=None), TensorSpec(shape=(None,), dtype=tf.int32, name=None))>"
      ]
     },
     "execution_count": 1,
     "metadata": {},
     "output_type": "execute_result"
    }
   ],
   "source": [
    "import tensorflow as tf\n",
    "import os\n",
    "\n",
    "TRAIN_DIR = os.path.join(\"dataset\", \"train\")\n",
    "VALIDATION_DIR = os.path.join(\"dataset\", \"valid\")\n",
    "TEST_DIR = os.path.join(\"dataset\", \"test\")\n",
    "IMAGE_SIZE = (180, 180)\n",
    "\n",
    "train_dataset = tf.keras.utils.image_dataset_from_directory(\n",
    "    TRAIN_DIR, image_size=IMAGE_SIZE\n",
    ")\n",
    "validation_dataset = tf.keras.utils.image_dataset_from_directory(\n",
    "    VALIDATION_DIR, image_size=IMAGE_SIZE\n",
    ")\n",
    "test_dataset = tf.keras.utils.image_dataset_from_directory(\n",
    "    TEST_DIR, image_size=IMAGE_SIZE\n",
    ")\n",
    "train_dataset\n"
   ]
  },
  {
   "cell_type": "code",
   "execution_count": 2,
   "metadata": {},
   "outputs": [
    {
     "data": {
      "text/plain": [
       "['air hockey',\n",
       " 'ampute football',\n",
       " 'archery',\n",
       " 'arm wrestling',\n",
       " 'axe throwing',\n",
       " 'balance beam',\n",
       " 'barell racing',\n",
       " 'baseball',\n",
       " 'basketball',\n",
       " 'baton twirling',\n",
       " 'bike polo',\n",
       " 'billiards',\n",
       " 'bmx',\n",
       " 'bobsled',\n",
       " 'bowling',\n",
       " 'boxing',\n",
       " 'bull riding',\n",
       " 'bungee jumping',\n",
       " 'canoe slamon',\n",
       " 'cheerleading',\n",
       " 'chuckwagon racing',\n",
       " 'cricket',\n",
       " 'croquet',\n",
       " 'curling',\n",
       " 'disc golf',\n",
       " 'fencing',\n",
       " 'field hockey',\n",
       " 'figure skating men',\n",
       " 'figure skating pairs',\n",
       " 'figure skating women',\n",
       " 'fly fishing',\n",
       " 'football',\n",
       " 'formula 1 racing',\n",
       " 'frisbee',\n",
       " 'gaga',\n",
       " 'giant slalom',\n",
       " 'golf',\n",
       " 'hammer throw',\n",
       " 'hang gliding',\n",
       " 'harness racing',\n",
       " 'high jump',\n",
       " 'hockey',\n",
       " 'horse jumping',\n",
       " 'horse racing',\n",
       " 'horseshoe pitching',\n",
       " 'hurdles',\n",
       " 'hydroplane racing',\n",
       " 'ice climbing',\n",
       " 'ice yachting',\n",
       " 'jai alai',\n",
       " 'javelin',\n",
       " 'jousting',\n",
       " 'judo',\n",
       " 'lacrosse',\n",
       " 'log rolling',\n",
       " 'luge',\n",
       " 'motorcycle racing',\n",
       " 'mushing',\n",
       " 'nascar racing',\n",
       " 'olympic wrestling',\n",
       " 'parallel bar',\n",
       " 'pole climbing',\n",
       " 'pole dancing',\n",
       " 'pole vault',\n",
       " 'polo',\n",
       " 'pommel horse',\n",
       " 'rings',\n",
       " 'rock climbing',\n",
       " 'roller derby',\n",
       " 'rollerblade racing',\n",
       " 'rowing',\n",
       " 'rugby',\n",
       " 'sailboat racing',\n",
       " 'shot put',\n",
       " 'shuffleboard',\n",
       " 'sidecar racing',\n",
       " 'ski jumping',\n",
       " 'sky surfing',\n",
       " 'skydiving',\n",
       " 'snow boarding',\n",
       " 'snowmobile racing',\n",
       " 'speed skating',\n",
       " 'steer wrestling',\n",
       " 'sumo wrestling',\n",
       " 'surfing',\n",
       " 'swimming',\n",
       " 'table tennis',\n",
       " 'tennis',\n",
       " 'track bicycle',\n",
       " 'trapeze',\n",
       " 'tug of war',\n",
       " 'ultimate',\n",
       " 'uneven bars',\n",
       " 'volleyball',\n",
       " 'water cycling',\n",
       " 'water polo',\n",
       " 'weightlifting',\n",
       " 'wheelchair basketball',\n",
       " 'wheelchair racing',\n",
       " 'wingsuit flying']"
      ]
     },
     "execution_count": 2,
     "metadata": {},
     "output_type": "execute_result"
    }
   ],
   "source": [
    "train_dataset.class_names\n"
   ]
  },
  {
   "cell_type": "code",
   "execution_count": 3,
   "metadata": {},
   "outputs": [
    {
     "name": "stdout",
     "output_type": "stream",
     "text": [
      "Model: \"model\"\n",
      "__________________________________________________________________________________________________\n",
      " Layer (type)                   Output Shape         Param #     Connected to                     \n",
      "==================================================================================================\n",
      " input_1 (InputLayer)           [(None, 180, 180, 3  0           []                               \n",
      "                                )]                                                                \n",
      "                                                                                                  \n",
      " conv2d (Conv2D)                (None, 176, 176, 32  2400        ['input_1[0][0]']                \n",
      "                                )                                                                 \n",
      "                                                                                                  \n",
      " batch_normalization (BatchNorm  (None, 176, 176, 32  128        ['conv2d[0][0]']                 \n",
      " alization)                     )                                                                 \n",
      "                                                                                                  \n",
      " re_lu (ReLU)                   (None, 176, 176, 32  0           ['batch_normalization[0][0]']    \n",
      "                                )                                                                 \n",
      "                                                                                                  \n",
      " separable_conv2d (SeparableCon  (None, 176, 176, 32  1312       ['re_lu[0][0]']                  \n",
      " v2D)                           )                                                                 \n",
      "                                                                                                  \n",
      " batch_normalization_1 (BatchNo  (None, 176, 176, 32  128        ['separable_conv2d[0][0]']       \n",
      " rmalization)                   )                                                                 \n",
      "                                                                                                  \n",
      " re_lu_1 (ReLU)                 (None, 176, 176, 32  0           ['batch_normalization_1[0][0]']  \n",
      "                                )                                                                 \n",
      "                                                                                                  \n",
      " separable_conv2d_1 (SeparableC  (None, 176, 176, 32  1312       ['re_lu_1[0][0]']                \n",
      " onv2D)                         )                                                                 \n",
      "                                                                                                  \n",
      " max_pooling2d (MaxPooling2D)   (None, 88, 88, 32)   0           ['separable_conv2d_1[0][0]']     \n",
      "                                                                                                  \n",
      " conv2d_1 (Conv2D)              (None, 88, 88, 32)   1024        ['conv2d[0][0]']                 \n",
      "                                                                                                  \n",
      " add (Add)                      (None, 88, 88, 32)   0           ['max_pooling2d[0][0]',          \n",
      "                                                                  'conv2d_1[0][0]']               \n",
      "                                                                                                  \n",
      " batch_normalization_2 (BatchNo  (None, 88, 88, 32)  128         ['add[0][0]']                    \n",
      " rmalization)                                                                                     \n",
      "                                                                                                  \n",
      " re_lu_2 (ReLU)                 (None, 88, 88, 32)   0           ['batch_normalization_2[0][0]']  \n",
      "                                                                                                  \n",
      " separable_conv2d_2 (SeparableC  (None, 88, 88, 64)  2336        ['re_lu_2[0][0]']                \n",
      " onv2D)                                                                                           \n",
      "                                                                                                  \n",
      " batch_normalization_3 (BatchNo  (None, 88, 88, 64)  256         ['separable_conv2d_2[0][0]']     \n",
      " rmalization)                                                                                     \n",
      "                                                                                                  \n",
      " re_lu_3 (ReLU)                 (None, 88, 88, 64)   0           ['batch_normalization_3[0][0]']  \n",
      "                                                                                                  \n",
      " separable_conv2d_3 (SeparableC  (None, 88, 88, 64)  4672        ['re_lu_3[0][0]']                \n",
      " onv2D)                                                                                           \n",
      "                                                                                                  \n",
      " max_pooling2d_1 (MaxPooling2D)  (None, 44, 44, 64)  0           ['separable_conv2d_3[0][0]']     \n",
      "                                                                                                  \n",
      " conv2d_2 (Conv2D)              (None, 44, 44, 64)   2048        ['add[0][0]']                    \n",
      "                                                                                                  \n",
      " add_1 (Add)                    (None, 44, 44, 64)   0           ['max_pooling2d_1[0][0]',        \n",
      "                                                                  'conv2d_2[0][0]']               \n",
      "                                                                                                  \n",
      " batch_normalization_4 (BatchNo  (None, 44, 44, 64)  256         ['add_1[0][0]']                  \n",
      " rmalization)                                                                                     \n",
      "                                                                                                  \n",
      " re_lu_4 (ReLU)                 (None, 44, 44, 64)   0           ['batch_normalization_4[0][0]']  \n",
      "                                                                                                  \n",
      " separable_conv2d_4 (SeparableC  (None, 44, 44, 128)  8768       ['re_lu_4[0][0]']                \n",
      " onv2D)                                                                                           \n",
      "                                                                                                  \n",
      " batch_normalization_5 (BatchNo  (None, 44, 44, 128)  512        ['separable_conv2d_4[0][0]']     \n",
      " rmalization)                                                                                     \n",
      "                                                                                                  \n",
      " re_lu_5 (ReLU)                 (None, 44, 44, 128)  0           ['batch_normalization_5[0][0]']  \n",
      "                                                                                                  \n",
      " separable_conv2d_5 (SeparableC  (None, 44, 44, 128)  17536      ['re_lu_5[0][0]']                \n",
      " onv2D)                                                                                           \n",
      "                                                                                                  \n",
      " max_pooling2d_2 (MaxPooling2D)  (None, 22, 22, 128)  0          ['separable_conv2d_5[0][0]']     \n",
      "                                                                                                  \n",
      " conv2d_3 (Conv2D)              (None, 22, 22, 128)  8192        ['add_1[0][0]']                  \n",
      "                                                                                                  \n",
      " add_2 (Add)                    (None, 22, 22, 128)  0           ['max_pooling2d_2[0][0]',        \n",
      "                                                                  'conv2d_3[0][0]']               \n",
      "                                                                                                  \n",
      " batch_normalization_6 (BatchNo  (None, 22, 22, 128)  512        ['add_2[0][0]']                  \n",
      " rmalization)                                                                                     \n",
      "                                                                                                  \n",
      " re_lu_6 (ReLU)                 (None, 22, 22, 128)  0           ['batch_normalization_6[0][0]']  \n",
      "                                                                                                  \n",
      " separable_conv2d_6 (SeparableC  (None, 22, 22, 256)  33920      ['re_lu_6[0][0]']                \n",
      " onv2D)                                                                                           \n",
      "                                                                                                  \n",
      " batch_normalization_7 (BatchNo  (None, 22, 22, 256)  1024       ['separable_conv2d_6[0][0]']     \n",
      " rmalization)                                                                                     \n",
      "                                                                                                  \n",
      " re_lu_7 (ReLU)                 (None, 22, 22, 256)  0           ['batch_normalization_7[0][0]']  \n",
      "                                                                                                  \n",
      " separable_conv2d_7 (SeparableC  (None, 22, 22, 256)  67840      ['re_lu_7[0][0]']                \n",
      " onv2D)                                                                                           \n",
      "                                                                                                  \n",
      " max_pooling2d_3 (MaxPooling2D)  (None, 11, 11, 256)  0          ['separable_conv2d_7[0][0]']     \n",
      "                                                                                                  \n",
      " conv2d_4 (Conv2D)              (None, 11, 11, 256)  32768       ['add_2[0][0]']                  \n",
      "                                                                                                  \n",
      " add_3 (Add)                    (None, 11, 11, 256)  0           ['max_pooling2d_3[0][0]',        \n",
      "                                                                  'conv2d_4[0][0]']               \n",
      "                                                                                                  \n",
      " batch_normalization_8 (BatchNo  (None, 11, 11, 256)  1024       ['add_3[0][0]']                  \n",
      " rmalization)                                                                                     \n",
      "                                                                                                  \n",
      " re_lu_8 (ReLU)                 (None, 11, 11, 256)  0           ['batch_normalization_8[0][0]']  \n",
      "                                                                                                  \n",
      " separable_conv2d_8 (SeparableC  (None, 11, 11, 512)  133376     ['re_lu_8[0][0]']                \n",
      " onv2D)                                                                                           \n",
      "                                                                                                  \n",
      " batch_normalization_9 (BatchNo  (None, 11, 11, 512)  2048       ['separable_conv2d_8[0][0]']     \n",
      " rmalization)                                                                                     \n",
      "                                                                                                  \n",
      " re_lu_9 (ReLU)                 (None, 11, 11, 512)  0           ['batch_normalization_9[0][0]']  \n",
      "                                                                                                  \n",
      " separable_conv2d_9 (SeparableC  (None, 11, 11, 512)  266752     ['re_lu_9[0][0]']                \n",
      " onv2D)                                                                                           \n",
      "                                                                                                  \n",
      " max_pooling2d_4 (MaxPooling2D)  (None, 6, 6, 512)   0           ['separable_conv2d_9[0][0]']     \n",
      "                                                                                                  \n",
      " conv2d_5 (Conv2D)              (None, 6, 6, 512)    131072      ['add_3[0][0]']                  \n",
      "                                                                                                  \n",
      " add_4 (Add)                    (None, 6, 6, 512)    0           ['max_pooling2d_4[0][0]',        \n",
      "                                                                  'conv2d_5[0][0]']               \n",
      "                                                                                                  \n",
      " global_average_pooling2d (Glob  (None, 512)         0           ['add_4[0][0]']                  \n",
      " alAveragePooling2D)                                                                              \n",
      "                                                                                                  \n",
      " dropout (Dropout)              (None, 512)          0           ['global_average_pooling2d[0][0]'\n",
      "                                                                 ]                                \n",
      "                                                                                                  \n",
      " dense (Dense)                  (None, 100)          51300       ['dropout[0][0]']                \n",
      "                                                                                                  \n",
      " softmax (Softmax)              (None, 100)          0           ['dense[0][0]']                  \n",
      "                                                                                                  \n",
      "==================================================================================================\n",
      "Total params: 772,644\n",
      "Trainable params: 769,636\n",
      "Non-trainable params: 3,008\n",
      "__________________________________________________________________________________________________\n"
     ]
    }
   ],
   "source": [
    "def get_my_xception_model(image_size, num_classes):\n",
    "    model_in = tf.keras.layers.Input((*image_size, 3))\n",
    "    # Data augmentation\n",
    "    # x = tf.keras.layers.experimental.preprocessing.RandomFlip(\"horizontal\")(model_in)\n",
    "    # x = tf.keras.layers.experimental.preprocessing.RandomRotation(0.1)(x)\n",
    "    # x = tf.keras.layers.experimental.preprocessing.RandomZoom(0.1)(x)\n",
    "    # Extraction\n",
    "    # x = tf.keras.layers.Rescaling(1.0 / 255)(x)\n",
    "    x = model_in\n",
    "    x = tf.keras.layers.Conv2D(32, 5, use_bias=False)(x)\n",
    "    block_in = x\n",
    "    for channel in [32, 64, 128, 256, 512]:\n",
    "        x = tf.keras.layers.BatchNormalization()(block_in)\n",
    "        x = tf.keras.layers.ReLU()(x)\n",
    "        x = tf.keras.layers.SeparableConv2D(channel, 3, padding=\"same\", use_bias=False)(\n",
    "            x\n",
    "        )\n",
    "        x = tf.keras.layers.BatchNormalization()(x)\n",
    "        x = tf.keras.layers.ReLU()(x)\n",
    "        x = tf.keras.layers.SeparableConv2D(channel, 3, padding=\"same\", use_bias=False)(\n",
    "            x\n",
    "        )\n",
    "        x = tf.keras.layers.MaxPool2D(3, strides=2, padding=\"same\")(x)\n",
    "        y = tf.keras.layers.Conv2D(\n",
    "            channel, 1, strides=2, padding=\"same\", use_bias=False\n",
    "        )(block_in)\n",
    "        block_out = tf.keras.layers.add([x, y])\n",
    "        block_in = block_out\n",
    "    x = tf.keras.layers.GlobalAveragePooling2D()(block_out)\n",
    "    x = tf.keras.layers.Dropout(0.5)(x)\n",
    "    x = tf.keras.layers.Dense(num_classes)(x)\n",
    "    model_out = tf.keras.layers.Softmax()(x)\n",
    "    return tf.keras.Model(inputs=[model_in], outputs=[model_out])\n",
    "\n",
    "\n",
    "my_model = get_my_xception_model(IMAGE_SIZE, len(train_dataset.class_names))\n",
    "my_model.summary()\n"
   ]
  },
  {
   "cell_type": "code",
   "execution_count": 4,
   "metadata": {},
   "outputs": [],
   "source": [
    "my_model.compile(\n",
    "    optimizer=\"rmsprop\",\n",
    "    loss=tf.keras.losses.SparseCategoricalCrossentropy(),\n",
    "    metrics=[tf.keras.metrics.SparseCategoricalAccuracy()],\n",
    ")\n"
   ]
  },
  {
   "cell_type": "code",
   "execution_count": 5,
   "metadata": {},
   "outputs": [
    {
     "name": "stdout",
     "output_type": "stream",
     "text": [
      "Epoch 1/200\n"
     ]
    },
    {
     "name": "stderr",
     "output_type": "stream",
     "text": [
      "2022-11-03 23:15:25.866518: I tensorflow/stream_executor/cuda/cuda_dnn.cc:384] Loaded cuDNN version 8101\n",
      "2022-11-03 23:15:26.542067: I tensorflow/core/platform/default/subprocess.cc:304] Start cannot spawn child process: No such file or directory\n"
     ]
    },
    {
     "name": "stdout",
     "output_type": "stream",
     "text": [
      "425/425 [==============================] - ETA: 0s - loss: 7.4578 - sparse_categorical_accuracy: 0.0253"
     ]
    },
    {
     "name": "stderr",
     "output_type": "stream",
     "text": [
      "WARNING:absl:Found untraced functions such as _jit_compiled_convolution_op, _jit_compiled_convolution_op, _jit_compiled_convolution_op, _jit_compiled_convolution_op, _jit_compiled_convolution_op while saving (showing 5 of 16). These functions will not be directly callable after loading.\n"
     ]
    },
    {
     "name": "stdout",
     "output_type": "stream",
     "text": [
      "INFO:tensorflow:Assets written to: model_weight/assets\n"
     ]
    },
    {
     "name": "stderr",
     "output_type": "stream",
     "text": [
      "INFO:tensorflow:Assets written to: model_weight/assets\n"
     ]
    },
    {
     "name": "stdout",
     "output_type": "stream",
     "text": [
      "425/425 [==============================] - 44s 90ms/step - loss: 7.4578 - sparse_categorical_accuracy: 0.0253 - val_loss: 5.3148 - val_sparse_categorical_accuracy: 0.0280\n",
      "Epoch 2/200\n",
      "424/425 [============================>.] - ETA: 0s - loss: 4.3245 - sparse_categorical_accuracy: 0.0602"
     ]
    },
    {
     "name": "stderr",
     "output_type": "stream",
     "text": [
      "WARNING:absl:Found untraced functions such as _jit_compiled_convolution_op, _jit_compiled_convolution_op, _jit_compiled_convolution_op, _jit_compiled_convolution_op, _jit_compiled_convolution_op while saving (showing 5 of 16). These functions will not be directly callable after loading.\n"
     ]
    },
    {
     "name": "stdout",
     "output_type": "stream",
     "text": [
      "INFO:tensorflow:Assets written to: model_weight/assets\n"
     ]
    },
    {
     "name": "stderr",
     "output_type": "stream",
     "text": [
      "INFO:tensorflow:Assets written to: model_weight/assets\n"
     ]
    },
    {
     "name": "stdout",
     "output_type": "stream",
     "text": [
      "425/425 [==============================] - 37s 87ms/step - loss: 4.3244 - sparse_categorical_accuracy: 0.0602 - val_loss: 4.7965 - val_sparse_categorical_accuracy: 0.0360\n",
      "Epoch 3/200\n",
      "425/425 [==============================] - 33s 76ms/step - loss: 3.7751 - sparse_categorical_accuracy: 0.1149 - val_loss: 5.9774 - val_sparse_categorical_accuracy: 0.0220\n",
      "Epoch 4/200\n",
      "424/425 [============================>.] - ETA: 0s - loss: 3.4022 - sparse_categorical_accuracy: 0.1716"
     ]
    },
    {
     "name": "stderr",
     "output_type": "stream",
     "text": [
      "WARNING:absl:Found untraced functions such as _jit_compiled_convolution_op, _jit_compiled_convolution_op, _jit_compiled_convolution_op, _jit_compiled_convolution_op, _jit_compiled_convolution_op while saving (showing 5 of 16). These functions will not be directly callable after loading.\n"
     ]
    },
    {
     "name": "stdout",
     "output_type": "stream",
     "text": [
      "INFO:tensorflow:Assets written to: model_weight/assets\n"
     ]
    },
    {
     "name": "stderr",
     "output_type": "stream",
     "text": [
      "INFO:tensorflow:Assets written to: model_weight/assets\n"
     ]
    },
    {
     "name": "stdout",
     "output_type": "stream",
     "text": [
      "425/425 [==============================] - 37s 88ms/step - loss: 3.4023 - sparse_categorical_accuracy: 0.1716 - val_loss: 5.6894 - val_sparse_categorical_accuracy: 0.0580\n",
      "Epoch 5/200\n",
      "425/425 [==============================] - 33s 76ms/step - loss: 3.0845 - sparse_categorical_accuracy: 0.2401 - val_loss: 7.2416 - val_sparse_categorical_accuracy: 0.0460\n",
      "Epoch 6/200\n",
      "425/425 [==============================] - 32s 76ms/step - loss: 2.7831 - sparse_categorical_accuracy: 0.2975 - val_loss: 10.5119 - val_sparse_categorical_accuracy: 0.0200\n",
      "Epoch 7/200\n",
      "424/425 [============================>.] - ETA: 0s - loss: 2.5443 - sparse_categorical_accuracy: 0.3501"
     ]
    },
    {
     "name": "stderr",
     "output_type": "stream",
     "text": [
      "WARNING:absl:Found untraced functions such as _jit_compiled_convolution_op, _jit_compiled_convolution_op, _jit_compiled_convolution_op, _jit_compiled_convolution_op, _jit_compiled_convolution_op while saving (showing 5 of 16). These functions will not be directly callable after loading.\n"
     ]
    },
    {
     "name": "stdout",
     "output_type": "stream",
     "text": [
      "INFO:tensorflow:Assets written to: model_weight/assets\n"
     ]
    },
    {
     "name": "stderr",
     "output_type": "stream",
     "text": [
      "INFO:tensorflow:Assets written to: model_weight/assets\n"
     ]
    },
    {
     "name": "stdout",
     "output_type": "stream",
     "text": [
      "425/425 [==============================] - 37s 87ms/step - loss: 2.5445 - sparse_categorical_accuracy: 0.3501 - val_loss: 4.5962 - val_sparse_categorical_accuracy: 0.1080\n",
      "Epoch 8/200\n",
      "425/425 [==============================] - 32s 76ms/step - loss: 2.3032 - sparse_categorical_accuracy: 0.4034 - val_loss: 8.9020 - val_sparse_categorical_accuracy: 0.0300\n",
      "Epoch 9/200\n",
      "424/425 [============================>.] - ETA: 0s - loss: 2.1348 - sparse_categorical_accuracy: 0.4405"
     ]
    },
    {
     "name": "stderr",
     "output_type": "stream",
     "text": [
      "WARNING:absl:Found untraced functions such as _jit_compiled_convolution_op, _jit_compiled_convolution_op, _jit_compiled_convolution_op, _jit_compiled_convolution_op, _jit_compiled_convolution_op while saving (showing 5 of 16). These functions will not be directly callable after loading.\n"
     ]
    },
    {
     "name": "stdout",
     "output_type": "stream",
     "text": [
      "INFO:tensorflow:Assets written to: model_weight/assets\n"
     ]
    },
    {
     "name": "stderr",
     "output_type": "stream",
     "text": [
      "INFO:tensorflow:Assets written to: model_weight/assets\n"
     ]
    },
    {
     "name": "stdout",
     "output_type": "stream",
     "text": [
      "425/425 [==============================] - 37s 87ms/step - loss: 2.1351 - sparse_categorical_accuracy: 0.4404 - val_loss: 3.9791 - val_sparse_categorical_accuracy: 0.1520\n",
      "Epoch 10/200\n",
      "425/425 [==============================] - 32s 76ms/step - loss: 1.9485 - sparse_categorical_accuracy: 0.4890 - val_loss: 7.7917 - val_sparse_categorical_accuracy: 0.0420\n",
      "Epoch 11/200\n",
      "425/425 [==============================] - 32s 76ms/step - loss: 1.7941 - sparse_categorical_accuracy: 0.5231 - val_loss: 5.6333 - val_sparse_categorical_accuracy: 0.0800\n",
      "Epoch 12/200\n",
      "425/425 [==============================] - 32s 76ms/step - loss: 1.6451 - sparse_categorical_accuracy: 0.5609 - val_loss: 5.0725 - val_sparse_categorical_accuracy: 0.1060\n",
      "Epoch 13/200\n",
      "424/425 [============================>.] - ETA: 0s - loss: 1.5264 - sparse_categorical_accuracy: 0.5875"
     ]
    },
    {
     "name": "stderr",
     "output_type": "stream",
     "text": [
      "WARNING:absl:Found untraced functions such as _jit_compiled_convolution_op, _jit_compiled_convolution_op, _jit_compiled_convolution_op, _jit_compiled_convolution_op, _jit_compiled_convolution_op while saving (showing 5 of 16). These functions will not be directly callable after loading.\n"
     ]
    },
    {
     "name": "stdout",
     "output_type": "stream",
     "text": [
      "INFO:tensorflow:Assets written to: model_weight/assets\n"
     ]
    },
    {
     "name": "stderr",
     "output_type": "stream",
     "text": [
      "INFO:tensorflow:Assets written to: model_weight/assets\n"
     ]
    },
    {
     "name": "stdout",
     "output_type": "stream",
     "text": [
      "425/425 [==============================] - 37s 87ms/step - loss: 1.5266 - sparse_categorical_accuracy: 0.5875 - val_loss: 4.4205 - val_sparse_categorical_accuracy: 0.1880\n",
      "Epoch 14/200\n",
      "425/425 [==============================] - 33s 77ms/step - loss: 1.4183 - sparse_categorical_accuracy: 0.6159 - val_loss: 7.3735 - val_sparse_categorical_accuracy: 0.0480\n",
      "Epoch 15/200\n",
      "425/425 [==============================] - 33s 77ms/step - loss: 1.3108 - sparse_categorical_accuracy: 0.6421 - val_loss: 5.2665 - val_sparse_categorical_accuracy: 0.1280\n",
      "Epoch 16/200\n",
      "425/425 [==============================] - 33s 77ms/step - loss: 1.1936 - sparse_categorical_accuracy: 0.6644 - val_loss: 5.2018 - val_sparse_categorical_accuracy: 0.1560\n",
      "Epoch 17/200\n",
      "425/425 [==============================] - 33s 76ms/step - loss: 1.1382 - sparse_categorical_accuracy: 0.6821 - val_loss: 6.0213 - val_sparse_categorical_accuracy: 0.1160\n",
      "Epoch 18/200\n",
      "424/425 [============================>.] - ETA: 0s - loss: 1.0306 - sparse_categorical_accuracy: 0.7095"
     ]
    },
    {
     "name": "stderr",
     "output_type": "stream",
     "text": [
      "WARNING:absl:Found untraced functions such as _jit_compiled_convolution_op, _jit_compiled_convolution_op, _jit_compiled_convolution_op, _jit_compiled_convolution_op, _jit_compiled_convolution_op while saving (showing 5 of 16). These functions will not be directly callable after loading.\n"
     ]
    },
    {
     "name": "stdout",
     "output_type": "stream",
     "text": [
      "INFO:tensorflow:Assets written to: model_weight/assets\n"
     ]
    },
    {
     "name": "stderr",
     "output_type": "stream",
     "text": [
      "INFO:tensorflow:Assets written to: model_weight/assets\n"
     ]
    },
    {
     "name": "stdout",
     "output_type": "stream",
     "text": [
      "425/425 [==============================] - 37s 87ms/step - loss: 1.0307 - sparse_categorical_accuracy: 0.7095 - val_loss: 3.9577 - val_sparse_categorical_accuracy: 0.2320\n",
      "Epoch 19/200\n",
      "424/425 [============================>.] - ETA: 0s - loss: 0.9691 - sparse_categorical_accuracy: 0.7296"
     ]
    },
    {
     "name": "stderr",
     "output_type": "stream",
     "text": [
      "WARNING:absl:Found untraced functions such as _jit_compiled_convolution_op, _jit_compiled_convolution_op, _jit_compiled_convolution_op, _jit_compiled_convolution_op, _jit_compiled_convolution_op while saving (showing 5 of 16). These functions will not be directly callable after loading.\n"
     ]
    },
    {
     "name": "stdout",
     "output_type": "stream",
     "text": [
      "INFO:tensorflow:Assets written to: model_weight/assets\n"
     ]
    },
    {
     "name": "stderr",
     "output_type": "stream",
     "text": [
      "INFO:tensorflow:Assets written to: model_weight/assets\n"
     ]
    },
    {
     "name": "stdout",
     "output_type": "stream",
     "text": [
      "425/425 [==============================] - 37s 88ms/step - loss: 0.9690 - sparse_categorical_accuracy: 0.7297 - val_loss: 3.2607 - val_sparse_categorical_accuracy: 0.2860\n",
      "Epoch 20/200\n",
      "425/425 [==============================] - 33s 77ms/step - loss: 0.8927 - sparse_categorical_accuracy: 0.7467 - val_loss: 5.4602 - val_sparse_categorical_accuracy: 0.1680\n",
      "Epoch 21/200\n",
      "424/425 [============================>.] - ETA: 0s - loss: 0.8267 - sparse_categorical_accuracy: 0.7594"
     ]
    },
    {
     "name": "stderr",
     "output_type": "stream",
     "text": [
      "WARNING:absl:Found untraced functions such as _jit_compiled_convolution_op, _jit_compiled_convolution_op, _jit_compiled_convolution_op, _jit_compiled_convolution_op, _jit_compiled_convolution_op while saving (showing 5 of 16). These functions will not be directly callable after loading.\n"
     ]
    },
    {
     "name": "stdout",
     "output_type": "stream",
     "text": [
      "INFO:tensorflow:Assets written to: model_weight/assets\n"
     ]
    },
    {
     "name": "stderr",
     "output_type": "stream",
     "text": [
      "INFO:tensorflow:Assets written to: model_weight/assets\n"
     ]
    },
    {
     "name": "stdout",
     "output_type": "stream",
     "text": [
      "425/425 [==============================] - 37s 88ms/step - loss: 0.8266 - sparse_categorical_accuracy: 0.7594 - val_loss: 3.1455 - val_sparse_categorical_accuracy: 0.3700\n",
      "Epoch 22/200\n",
      "425/425 [==============================] - 32s 76ms/step - loss: 0.7652 - sparse_categorical_accuracy: 0.7773 - val_loss: 3.5416 - val_sparse_categorical_accuracy: 0.2960\n",
      "Epoch 23/200\n",
      "424/425 [============================>.] - ETA: 0s - loss: 0.7198 - sparse_categorical_accuracy: 0.7876"
     ]
    },
    {
     "name": "stderr",
     "output_type": "stream",
     "text": [
      "WARNING:absl:Found untraced functions such as _jit_compiled_convolution_op, _jit_compiled_convolution_op, _jit_compiled_convolution_op, _jit_compiled_convolution_op, _jit_compiled_convolution_op while saving (showing 5 of 16). These functions will not be directly callable after loading.\n"
     ]
    },
    {
     "name": "stdout",
     "output_type": "stream",
     "text": [
      "INFO:tensorflow:Assets written to: model_weight/assets\n"
     ]
    },
    {
     "name": "stderr",
     "output_type": "stream",
     "text": [
      "INFO:tensorflow:Assets written to: model_weight/assets\n"
     ]
    },
    {
     "name": "stdout",
     "output_type": "stream",
     "text": [
      "425/425 [==============================] - 37s 87ms/step - loss: 0.7198 - sparse_categorical_accuracy: 0.7876 - val_loss: 2.2496 - val_sparse_categorical_accuracy: 0.4820\n",
      "Epoch 24/200\n",
      "425/425 [==============================] - 33s 77ms/step - loss: 0.6724 - sparse_categorical_accuracy: 0.8045 - val_loss: 6.3457 - val_sparse_categorical_accuracy: 0.1860\n",
      "Epoch 25/200\n",
      "425/425 [==============================] - 32s 76ms/step - loss: 0.6106 - sparse_categorical_accuracy: 0.8168 - val_loss: 3.0406 - val_sparse_categorical_accuracy: 0.3600\n",
      "Epoch 26/200\n",
      "425/425 [==============================] - 32s 76ms/step - loss: 0.5938 - sparse_categorical_accuracy: 0.8226 - val_loss: 3.4883 - val_sparse_categorical_accuracy: 0.3320\n",
      "Epoch 27/200\n",
      "425/425 [==============================] - 33s 77ms/step - loss: 0.5442 - sparse_categorical_accuracy: 0.8389 - val_loss: 3.7745 - val_sparse_categorical_accuracy: 0.3160\n",
      "Epoch 28/200\n",
      "425/425 [==============================] - 32s 76ms/step - loss: 0.5147 - sparse_categorical_accuracy: 0.8406 - val_loss: 3.1850 - val_sparse_categorical_accuracy: 0.3660\n",
      "Epoch 29/200\n",
      "425/425 [==============================] - 32s 76ms/step - loss: 0.4954 - sparse_categorical_accuracy: 0.8507 - val_loss: 4.2565 - val_sparse_categorical_accuracy: 0.2700\n",
      "Epoch 30/200\n",
      "425/425 [==============================] - 32s 76ms/step - loss: 0.4743 - sparse_categorical_accuracy: 0.8553 - val_loss: 2.8161 - val_sparse_categorical_accuracy: 0.4300\n",
      "Epoch 31/200\n",
      "425/425 [==============================] - 32s 76ms/step - loss: 0.4587 - sparse_categorical_accuracy: 0.8596 - val_loss: 3.3378 - val_sparse_categorical_accuracy: 0.4080\n",
      "Epoch 32/200\n",
      "425/425 [==============================] - 32s 76ms/step - loss: 0.4430 - sparse_categorical_accuracy: 0.8648 - val_loss: 2.9545 - val_sparse_categorical_accuracy: 0.4520\n",
      "Epoch 33/200\n",
      "425/425 [==============================] - 32s 76ms/step - loss: 0.4144 - sparse_categorical_accuracy: 0.8738 - val_loss: 3.8037 - val_sparse_categorical_accuracy: 0.3000\n"
     ]
    }
   ],
   "source": [
    "num_epochs = 200\n",
    "my_model_history = my_model.fit(\n",
    "    train_dataset,\n",
    "    batch_size=32,\n",
    "    epochs=num_epochs,\n",
    "    validation_data=validation_dataset,\n",
    "    callbacks=[\n",
    "        tf.keras.callbacks.EarlyStopping(\n",
    "            monitor=\"val_sparse_categorical_accuracy\",\n",
    "            patience=10,\n",
    "            restore_best_weights=True,\n",
    "        ),\n",
    "        tf.keras.callbacks.ModelCheckpoint(\n",
    "            \"model_weight\",\n",
    "            monitor=\"val_sparse_categorical_accuracy\",\n",
    "            save_best_only=True,\n",
    "        ),\n",
    "    ],\n",
    ")\n"
   ]
  },
  {
   "cell_type": "code",
   "execution_count": 6,
   "metadata": {},
   "outputs": [
    {
     "data": {
      "image/png": "[encoded data removed]",
      "text/plain": [
       "<Figure size 640x480 with 1 Axes>"
      ]
     },
     "metadata": {},
     "output_type": "display_data"
    }
   ],
   "source": [
    "import matplotlib.pyplot as plt\n",
    "epoch_range = range(1, len(my_model_history.history[\"sparse_categorical_accuracy\"]) + 1)\n",
    "plt.plot(epoch_range, my_model_history.history[\"sparse_categorical_accuracy\"], \"b--\", label=\"Train Accuracy\")\n",
    "plt.plot(epoch_range, my_model_history.history[\"val_sparse_categorical_accuracy\"], \"r\", label=\"Validation Accuracy\")\n",
    "plt.title(\"Simple Model Accuracy Graph\")\n",
    "plt.legend()\n",
    "plt.xlabel(\"Epoch\")\n",
    "plt.ylabel(\"Accuracy\")\n",
    "plt.show()"
   ]
  }
 ],
 "metadata": {
  "kernelspec": {
   "display_name": "Python 3.9.13 ('keras')",
   "language": "python",
   "name": "python3"
  },
  "language_info": {
   "codemirror_mode": {
    "name": "ipython",
    "version": 3
   },
   "file_extension": ".py",
   "mimetype": "text/x-python",
   "name": "python",
   "nbconvert_exporter": "python",
   "pygments_lexer": "ipython3",
   "version": "3.9.13"
  },
  "orig_nbformat": 4,
  "vscode": {
   "interpreter": {
    "hash": "1adc45b2727d29ffe2ebdf1744bac2997f1014da1e47286e1a4198fcda79fd8a"
   }
  }
 },
 "nbformat": 4,
 "nbformat_minor": 2
}
