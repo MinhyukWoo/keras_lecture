{
 "cells": [
  {
   "cell_type": "code",
   "execution_count": 16,
   "metadata": {},
   "outputs": [
    {
     "data": {
      "text/html": [
       "<div>\n",
       "<style scoped>\n",
       "    .dataframe tbody tr th:only-of-type {\n",
       "        vertical-align: middle;\n",
       "    }\n",
       "\n",
       "    .dataframe tbody tr th {\n",
       "        vertical-align: top;\n",
       "    }\n",
       "\n",
       "    .dataframe thead th {\n",
       "        text-align: right;\n",
       "    }\n",
       "</style>\n",
       "<table border=\"1\" class=\"dataframe\">\n",
       "  <thead>\n",
       "    <tr style=\"text-align: right;\">\n",
       "      <th></th>\n",
       "      <th>Date Time</th>\n",
       "      <th>p (mbar)</th>\n",
       "      <th>T (degC)</th>\n",
       "      <th>Tpot (K)</th>\n",
       "      <th>Tdew (degC)</th>\n",
       "      <th>rh (%)</th>\n",
       "      <th>VPmax (mbar)</th>\n",
       "      <th>VPact (mbar)</th>\n",
       "      <th>VPdef (mbar)</th>\n",
       "      <th>sh (g/kg)</th>\n",
       "      <th>H2OC (mmol/mol)</th>\n",
       "      <th>rho (g/m**3)</th>\n",
       "      <th>wv (m/s)</th>\n",
       "      <th>max. wv (m/s)</th>\n",
       "      <th>wd (deg)</th>\n",
       "    </tr>\n",
       "  </thead>\n",
       "  <tbody>\n",
       "    <tr>\n",
       "      <th>0</th>\n",
       "      <td>01.01.2009 00:10:00</td>\n",
       "      <td>996.52</td>\n",
       "      <td>-8.02</td>\n",
       "      <td>265.40</td>\n",
       "      <td>-8.90</td>\n",
       "      <td>93.3</td>\n",
       "      <td>3.33</td>\n",
       "      <td>3.11</td>\n",
       "      <td>0.22</td>\n",
       "      <td>1.94</td>\n",
       "      <td>3.12</td>\n",
       "      <td>1307.75</td>\n",
       "      <td>1.03</td>\n",
       "      <td>1.75</td>\n",
       "      <td>152.3</td>\n",
       "    </tr>\n",
       "    <tr>\n",
       "      <th>1</th>\n",
       "      <td>01.01.2009 00:20:00</td>\n",
       "      <td>996.57</td>\n",
       "      <td>-8.41</td>\n",
       "      <td>265.01</td>\n",
       "      <td>-9.28</td>\n",
       "      <td>93.4</td>\n",
       "      <td>3.23</td>\n",
       "      <td>3.02</td>\n",
       "      <td>0.21</td>\n",
       "      <td>1.89</td>\n",
       "      <td>3.03</td>\n",
       "      <td>1309.80</td>\n",
       "      <td>0.72</td>\n",
       "      <td>1.50</td>\n",
       "      <td>136.1</td>\n",
       "    </tr>\n",
       "    <tr>\n",
       "      <th>2</th>\n",
       "      <td>01.01.2009 00:30:00</td>\n",
       "      <td>996.53</td>\n",
       "      <td>-8.51</td>\n",
       "      <td>264.91</td>\n",
       "      <td>-9.31</td>\n",
       "      <td>93.9</td>\n",
       "      <td>3.21</td>\n",
       "      <td>3.01</td>\n",
       "      <td>0.20</td>\n",
       "      <td>1.88</td>\n",
       "      <td>3.02</td>\n",
       "      <td>1310.24</td>\n",
       "      <td>0.19</td>\n",
       "      <td>0.63</td>\n",
       "      <td>171.6</td>\n",
       "    </tr>\n",
       "    <tr>\n",
       "      <th>3</th>\n",
       "      <td>01.01.2009 00:40:00</td>\n",
       "      <td>996.51</td>\n",
       "      <td>-8.31</td>\n",
       "      <td>265.12</td>\n",
       "      <td>-9.07</td>\n",
       "      <td>94.2</td>\n",
       "      <td>3.26</td>\n",
       "      <td>3.07</td>\n",
       "      <td>0.19</td>\n",
       "      <td>1.92</td>\n",
       "      <td>3.08</td>\n",
       "      <td>1309.19</td>\n",
       "      <td>0.34</td>\n",
       "      <td>0.50</td>\n",
       "      <td>198.0</td>\n",
       "    </tr>\n",
       "    <tr>\n",
       "      <th>4</th>\n",
       "      <td>01.01.2009 00:50:00</td>\n",
       "      <td>996.51</td>\n",
       "      <td>-8.27</td>\n",
       "      <td>265.15</td>\n",
       "      <td>-9.04</td>\n",
       "      <td>94.1</td>\n",
       "      <td>3.27</td>\n",
       "      <td>3.08</td>\n",
       "      <td>0.19</td>\n",
       "      <td>1.92</td>\n",
       "      <td>3.09</td>\n",
       "      <td>1309.00</td>\n",
       "      <td>0.32</td>\n",
       "      <td>0.63</td>\n",
       "      <td>214.3</td>\n",
       "    </tr>\n",
       "  </tbody>\n",
       "</table>\n",
       "</div>"
      ],
      "text/plain": [
       "             Date Time  p (mbar)  T (degC)  Tpot (K)  Tdew (degC)  rh (%)  \\\n",
       "0  01.01.2009 00:10:00    996.52     -8.02    265.40        -8.90    93.3   \n",
       "1  01.01.2009 00:20:00    996.57     -8.41    265.01        -9.28    93.4   \n",
       "2  01.01.2009 00:30:00    996.53     -8.51    264.91        -9.31    93.9   \n",
       "3  01.01.2009 00:40:00    996.51     -8.31    265.12        -9.07    94.2   \n",
       "4  01.01.2009 00:50:00    996.51     -8.27    265.15        -9.04    94.1   \n",
       "\n",
       "   VPmax (mbar)  VPact (mbar)  VPdef (mbar)  sh (g/kg)  H2OC (mmol/mol)  \\\n",
       "0          3.33          3.11          0.22       1.94             3.12   \n",
       "1          3.23          3.02          0.21       1.89             3.03   \n",
       "2          3.21          3.01          0.20       1.88             3.02   \n",
       "3          3.26          3.07          0.19       1.92             3.08   \n",
       "4          3.27          3.08          0.19       1.92             3.09   \n",
       "\n",
       "   rho (g/m**3)  wv (m/s)  max. wv (m/s)  wd (deg)  \n",
       "0       1307.75      1.03           1.75     152.3  \n",
       "1       1309.80      0.72           1.50     136.1  \n",
       "2       1310.24      0.19           0.63     171.6  \n",
       "3       1309.19      0.34           0.50     198.0  \n",
       "4       1309.00      0.32           0.63     214.3  "
      ]
     },
     "execution_count": 16,
     "metadata": {},
     "output_type": "execute_result"
    }
   ],
   "source": [
    "import os\n",
    "import pandas as pd\n",
    "\n",
    "CSV_PATH = os.path.join(\"dataset\", \"jena_climate_2009_2016.csv\")\n",
    "\n",
    "dataset = pd.read_csv(CSV_PATH)\n",
    "dataset.head(5)\n"
   ]
  },
  {
   "cell_type": "code",
   "execution_count": 17,
   "metadata": {},
   "outputs": [
    {
     "data": {
      "text/plain": [
       "Date Time           object\n",
       "p (mbar)           float64\n",
       "T (degC)           float64\n",
       "Tpot (K)           float64\n",
       "Tdew (degC)        float64\n",
       "rh (%)             float64\n",
       "VPmax (mbar)       float64\n",
       "VPact (mbar)       float64\n",
       "VPdef (mbar)       float64\n",
       "sh (g/kg)          float64\n",
       "H2OC (mmol/mol)    float64\n",
       "rho (g/m**3)       float64\n",
       "wv (m/s)           float64\n",
       "max. wv (m/s)      float64\n",
       "wd (deg)           float64\n",
       "dtype: object"
      ]
     },
     "execution_count": 17,
     "metadata": {},
     "output_type": "execute_result"
    }
   ],
   "source": [
    "dataset.dtypes\n"
   ]
  },
  {
   "cell_type": "code",
   "execution_count": 18,
   "metadata": {},
   "outputs": [
    {
     "data": {
      "text/plain": [
       "0   -8.02\n",
       "1   -8.41\n",
       "2   -8.51\n",
       "3   -8.31\n",
       "4   -8.27\n",
       "Name: T (degC), dtype: float64"
      ]
     },
     "execution_count": 18,
     "metadata": {},
     "output_type": "execute_result"
    }
   ],
   "source": [
    "temperature = dataset.iloc[:, 2]\n",
    "temperature.head()\n"
   ]
  },
  {
   "cell_type": "code",
   "execution_count": 19,
   "metadata": {},
   "outputs": [
    {
     "data": {
      "text/html": [
       "<div>\n",
       "<style scoped>\n",
       "    .dataframe tbody tr th:only-of-type {\n",
       "        vertical-align: middle;\n",
       "    }\n",
       "\n",
       "    .dataframe tbody tr th {\n",
       "        vertical-align: top;\n",
       "    }\n",
       "\n",
       "    .dataframe thead th {\n",
       "        text-align: right;\n",
       "    }\n",
       "</style>\n",
       "<table border=\"1\" class=\"dataframe\">\n",
       "  <thead>\n",
       "    <tr style=\"text-align: right;\">\n",
       "      <th></th>\n",
       "      <th>p (mbar)</th>\n",
       "      <th>T (degC)</th>\n",
       "      <th>Tpot (K)</th>\n",
       "      <th>Tdew (degC)</th>\n",
       "      <th>rh (%)</th>\n",
       "      <th>VPmax (mbar)</th>\n",
       "      <th>VPact (mbar)</th>\n",
       "      <th>VPdef (mbar)</th>\n",
       "      <th>sh (g/kg)</th>\n",
       "      <th>H2OC (mmol/mol)</th>\n",
       "      <th>rho (g/m**3)</th>\n",
       "      <th>wv (m/s)</th>\n",
       "      <th>max. wv (m/s)</th>\n",
       "      <th>wd (deg)</th>\n",
       "    </tr>\n",
       "  </thead>\n",
       "  <tbody>\n",
       "    <tr>\n",
       "      <th>0</th>\n",
       "      <td>996.52</td>\n",
       "      <td>-8.02</td>\n",
       "      <td>265.40</td>\n",
       "      <td>-8.90</td>\n",
       "      <td>93.3</td>\n",
       "      <td>3.33</td>\n",
       "      <td>3.11</td>\n",
       "      <td>0.22</td>\n",
       "      <td>1.94</td>\n",
       "      <td>3.12</td>\n",
       "      <td>1307.75</td>\n",
       "      <td>1.03</td>\n",
       "      <td>1.75</td>\n",
       "      <td>152.3</td>\n",
       "    </tr>\n",
       "    <tr>\n",
       "      <th>1</th>\n",
       "      <td>996.57</td>\n",
       "      <td>-8.41</td>\n",
       "      <td>265.01</td>\n",
       "      <td>-9.28</td>\n",
       "      <td>93.4</td>\n",
       "      <td>3.23</td>\n",
       "      <td>3.02</td>\n",
       "      <td>0.21</td>\n",
       "      <td>1.89</td>\n",
       "      <td>3.03</td>\n",
       "      <td>1309.80</td>\n",
       "      <td>0.72</td>\n",
       "      <td>1.50</td>\n",
       "      <td>136.1</td>\n",
       "    </tr>\n",
       "    <tr>\n",
       "      <th>2</th>\n",
       "      <td>996.53</td>\n",
       "      <td>-8.51</td>\n",
       "      <td>264.91</td>\n",
       "      <td>-9.31</td>\n",
       "      <td>93.9</td>\n",
       "      <td>3.21</td>\n",
       "      <td>3.01</td>\n",
       "      <td>0.20</td>\n",
       "      <td>1.88</td>\n",
       "      <td>3.02</td>\n",
       "      <td>1310.24</td>\n",
       "      <td>0.19</td>\n",
       "      <td>0.63</td>\n",
       "      <td>171.6</td>\n",
       "    </tr>\n",
       "    <tr>\n",
       "      <th>3</th>\n",
       "      <td>996.51</td>\n",
       "      <td>-8.31</td>\n",
       "      <td>265.12</td>\n",
       "      <td>-9.07</td>\n",
       "      <td>94.2</td>\n",
       "      <td>3.26</td>\n",
       "      <td>3.07</td>\n",
       "      <td>0.19</td>\n",
       "      <td>1.92</td>\n",
       "      <td>3.08</td>\n",
       "      <td>1309.19</td>\n",
       "      <td>0.34</td>\n",
       "      <td>0.50</td>\n",
       "      <td>198.0</td>\n",
       "    </tr>\n",
       "    <tr>\n",
       "      <th>4</th>\n",
       "      <td>996.51</td>\n",
       "      <td>-8.27</td>\n",
       "      <td>265.15</td>\n",
       "      <td>-9.04</td>\n",
       "      <td>94.1</td>\n",
       "      <td>3.27</td>\n",
       "      <td>3.08</td>\n",
       "      <td>0.19</td>\n",
       "      <td>1.92</td>\n",
       "      <td>3.09</td>\n",
       "      <td>1309.00</td>\n",
       "      <td>0.32</td>\n",
       "      <td>0.63</td>\n",
       "      <td>214.3</td>\n",
       "    </tr>\n",
       "  </tbody>\n",
       "</table>\n",
       "</div>"
      ],
      "text/plain": [
       "   p (mbar)  T (degC)  Tpot (K)  Tdew (degC)  rh (%)  VPmax (mbar)  \\\n",
       "0    996.52     -8.02    265.40        -8.90    93.3          3.33   \n",
       "1    996.57     -8.41    265.01        -9.28    93.4          3.23   \n",
       "2    996.53     -8.51    264.91        -9.31    93.9          3.21   \n",
       "3    996.51     -8.31    265.12        -9.07    94.2          3.26   \n",
       "4    996.51     -8.27    265.15        -9.04    94.1          3.27   \n",
       "\n",
       "   VPact (mbar)  VPdef (mbar)  sh (g/kg)  H2OC (mmol/mol)  rho (g/m**3)  \\\n",
       "0          3.11          0.22       1.94             3.12       1307.75   \n",
       "1          3.02          0.21       1.89             3.03       1309.80   \n",
       "2          3.01          0.20       1.88             3.02       1310.24   \n",
       "3          3.07          0.19       1.92             3.08       1309.19   \n",
       "4          3.08          0.19       1.92             3.09       1309.00   \n",
       "\n",
       "   wv (m/s)  max. wv (m/s)  wd (deg)  \n",
       "0      1.03           1.75     152.3  \n",
       "1      0.72           1.50     136.1  \n",
       "2      0.19           0.63     171.6  \n",
       "3      0.34           0.50     198.0  \n",
       "4      0.32           0.63     214.3  "
      ]
     },
     "execution_count": 19,
     "metadata": {},
     "output_type": "execute_result"
    }
   ],
   "source": [
    "raw_data = dataset.iloc[:, 1:]\n",
    "raw_data.head()\n"
   ]
  },
  {
   "cell_type": "code",
   "execution_count": 20,
   "metadata": {},
   "outputs": [
    {
     "data": {
      "image/png": "[encoded data removed]",
      "text/plain": [
       "<Figure size 640x480 with 1 Axes>"
      ]
     },
     "metadata": {},
     "output_type": "display_data"
    }
   ],
   "source": [
    "import matplotlib.pyplot as plt\n",
    "\n",
    "plt.plot(range(len(temperature)), temperature)\n",
    "plt.show()\n"
   ]
  },
  {
   "cell_type": "code",
   "execution_count": 21,
   "metadata": {},
   "outputs": [
    {
     "data": {
      "image/png": "[encoded data removed]",
      "text/plain": [
       "<Figure size 640x480 with 1 Axes>"
      ]
     },
     "metadata": {},
     "output_type": "display_data"
    }
   ],
   "source": [
    "plt.plot(range(3000), temperature[:3000])\n",
    "plt.show()\n"
   ]
  },
  {
   "cell_type": "code",
   "execution_count": 22,
   "metadata": {},
   "outputs": [
    {
     "name": "stdout",
     "output_type": "stream",
     "text": [
      "210225\n",
      "105112\n"
     ]
    }
   ],
   "source": [
    "import tensorflow as tf\n",
    "\n",
    "train_size = int(0.5 * len(raw_data))\n",
    "validation_size = int(0.25 * len(raw_data))\n",
    "print(train_size)\n",
    "print(validation_size)\n"
   ]
  },
  {
   "cell_type": "code",
   "execution_count": 23,
   "metadata": {},
   "outputs": [
    {
     "name": "stdout",
     "output_type": "stream",
     "text": [
      "p (mbar)            988.749295\n",
      "T (degC)              8.825903\n",
      "Tpot (K)            282.905072\n",
      "Tdew (degC)           4.313319\n",
      "rh (%)               75.872755\n",
      "VPmax (mbar)         13.145699\n",
      "VPact (mbar)          9.194142\n",
      "VPdef (mbar)          3.951482\n",
      "sh (g/kg)             5.810507\n",
      "H2OC (mmol/mol)       9.302089\n",
      "rho (g/m**3)       1218.452040\n",
      "wv (m/s)              2.149775\n",
      "max. wv (m/s)         3.560480\n",
      "wd (deg)            176.440523\n",
      "dtype: float64\n",
      "p (mbar)            8.505129\n",
      "T (degC)            8.771004\n",
      "Tpot (K)            8.865626\n",
      "Tdew (degC)         7.080129\n",
      "rh (%)             16.628819\n",
      "VPmax (mbar)        7.601314\n",
      "VPact (mbar)        4.146907\n",
      "VPdef (mbar)        4.769622\n",
      "sh (g/kg)           2.632779\n",
      "H2OC (mmol/mol)     4.199699\n",
      "rho (g/m**3)       42.039375\n",
      "wv (m/s)            1.533592\n",
      "max. wv (m/s)       2.323061\n",
      "wd (deg)           85.850525\n",
      "dtype: float64\n"
     ]
    }
   ],
   "source": [
    "train_mean = raw_data[:train_size].mean(axis=0)\n",
    "train_std = raw_data[:train_size].std(axis=0)\n",
    "print(train_mean)\n",
    "print(train_std)\n"
   ]
  },
  {
   "cell_type": "code",
   "execution_count": 24,
   "metadata": {},
   "outputs": [
    {
     "data": {
      "text/html": [
       "<div>\n",
       "<style scoped>\n",
       "    .dataframe tbody tr th:only-of-type {\n",
       "        vertical-align: middle;\n",
       "    }\n",
       "\n",
       "    .dataframe tbody tr th {\n",
       "        vertical-align: top;\n",
       "    }\n",
       "\n",
       "    .dataframe thead th {\n",
       "        text-align: right;\n",
       "    }\n",
       "</style>\n",
       "<table border=\"1\" class=\"dataframe\">\n",
       "  <thead>\n",
       "    <tr style=\"text-align: right;\">\n",
       "      <th></th>\n",
       "      <th>p (mbar)</th>\n",
       "      <th>T (degC)</th>\n",
       "      <th>Tpot (K)</th>\n",
       "      <th>Tdew (degC)</th>\n",
       "      <th>rh (%)</th>\n",
       "      <th>VPmax (mbar)</th>\n",
       "      <th>VPact (mbar)</th>\n",
       "      <th>VPdef (mbar)</th>\n",
       "      <th>sh (g/kg)</th>\n",
       "      <th>H2OC (mmol/mol)</th>\n",
       "      <th>rho (g/m**3)</th>\n",
       "      <th>wv (m/s)</th>\n",
       "      <th>max. wv (m/s)</th>\n",
       "      <th>wd (deg)</th>\n",
       "    </tr>\n",
       "  </thead>\n",
       "  <tbody>\n",
       "    <tr>\n",
       "      <th>0</th>\n",
       "      <td>0.913649</td>\n",
       "      <td>-1.920636</td>\n",
       "      <td>-1.974488</td>\n",
       "      <td>-1.866254</td>\n",
       "      <td>1.048015</td>\n",
       "      <td>-1.291316</td>\n",
       "      <td>-1.467152</td>\n",
       "      <td>-0.782343</td>\n",
       "      <td>-1.470122</td>\n",
       "      <td>-1.472032</td>\n",
       "      <td>2.124151</td>\n",
       "      <td>-0.730165</td>\n",
       "      <td>-0.779351</td>\n",
       "      <td>-0.281192</td>\n",
       "    </tr>\n",
       "    <tr>\n",
       "      <th>1</th>\n",
       "      <td>0.919528</td>\n",
       "      <td>-1.965100</td>\n",
       "      <td>-2.018478</td>\n",
       "      <td>-1.919925</td>\n",
       "      <td>1.054028</td>\n",
       "      <td>-1.304472</td>\n",
       "      <td>-1.488855</td>\n",
       "      <td>-0.784440</td>\n",
       "      <td>-1.489114</td>\n",
       "      <td>-1.493462</td>\n",
       "      <td>2.172914</td>\n",
       "      <td>-0.932305</td>\n",
       "      <td>-0.886968</td>\n",
       "      <td>-0.469893</td>\n",
       "    </tr>\n",
       "    <tr>\n",
       "      <th>2</th>\n",
       "      <td>0.914825</td>\n",
       "      <td>-1.976501</td>\n",
       "      <td>-2.029758</td>\n",
       "      <td>-1.924162</td>\n",
       "      <td>1.084097</td>\n",
       "      <td>-1.307103</td>\n",
       "      <td>-1.491266</td>\n",
       "      <td>-0.786537</td>\n",
       "      <td>-1.492912</td>\n",
       "      <td>-1.495843</td>\n",
       "      <td>2.183381</td>\n",
       "      <td>-1.277899</td>\n",
       "      <td>-1.261473</td>\n",
       "      <td>-0.056383</td>\n",
       "    </tr>\n",
       "    <tr>\n",
       "      <th>3</th>\n",
       "      <td>0.912474</td>\n",
       "      <td>-1.953699</td>\n",
       "      <td>-2.006071</td>\n",
       "      <td>-1.890265</td>\n",
       "      <td>1.102138</td>\n",
       "      <td>-1.300525</td>\n",
       "      <td>-1.476798</td>\n",
       "      <td>-0.788633</td>\n",
       "      <td>-1.477719</td>\n",
       "      <td>-1.481556</td>\n",
       "      <td>2.158404</td>\n",
       "      <td>-1.180089</td>\n",
       "      <td>-1.317434</td>\n",
       "      <td>0.251128</td>\n",
       "    </tr>\n",
       "    <tr>\n",
       "      <th>4</th>\n",
       "      <td>0.912474</td>\n",
       "      <td>-1.949139</td>\n",
       "      <td>-2.002687</td>\n",
       "      <td>-1.886027</td>\n",
       "      <td>1.096124</td>\n",
       "      <td>-1.299210</td>\n",
       "      <td>-1.474386</td>\n",
       "      <td>-0.788633</td>\n",
       "      <td>-1.477719</td>\n",
       "      <td>-1.479175</td>\n",
       "      <td>2.153885</td>\n",
       "      <td>-1.193130</td>\n",
       "      <td>-1.261473</td>\n",
       "      <td>0.440993</td>\n",
       "    </tr>\n",
       "  </tbody>\n",
       "</table>\n",
       "</div>"
      ],
      "text/plain": [
       "   p (mbar)  T (degC)  Tpot (K)  Tdew (degC)    rh (%)  VPmax (mbar)  \\\n",
       "0  0.913649 -1.920636 -1.974488    -1.866254  1.048015     -1.291316   \n",
       "1  0.919528 -1.965100 -2.018478    -1.919925  1.054028     -1.304472   \n",
       "2  0.914825 -1.976501 -2.029758    -1.924162  1.084097     -1.307103   \n",
       "3  0.912474 -1.953699 -2.006071    -1.890265  1.102138     -1.300525   \n",
       "4  0.912474 -1.949139 -2.002687    -1.886027  1.096124     -1.299210   \n",
       "\n",
       "   VPact (mbar)  VPdef (mbar)  sh (g/kg)  H2OC (mmol/mol)  rho (g/m**3)  \\\n",
       "0     -1.467152     -0.782343  -1.470122        -1.472032      2.124151   \n",
       "1     -1.488855     -0.784440  -1.489114        -1.493462      2.172914   \n",
       "2     -1.491266     -0.786537  -1.492912        -1.495843      2.183381   \n",
       "3     -1.476798     -0.788633  -1.477719        -1.481556      2.158404   \n",
       "4     -1.474386     -0.788633  -1.477719        -1.479175      2.153885   \n",
       "\n",
       "   wv (m/s)  max. wv (m/s)  wd (deg)  \n",
       "0 -0.730165      -0.779351 -0.281192  \n",
       "1 -0.932305      -0.886968 -0.469893  \n",
       "2 -1.277899      -1.261473 -0.056383  \n",
       "3 -1.180089      -1.317434  0.251128  \n",
       "4 -1.193130      -1.261473  0.440993  "
      ]
     },
     "execution_count": 24,
     "metadata": {},
     "output_type": "execute_result"
    }
   ],
   "source": [
    "scaled_data = (raw_data - train_mean) / train_std\n",
    "scaled_data.head()\n"
   ]
  },
  {
   "cell_type": "code",
   "execution_count": 25,
   "metadata": {},
   "outputs": [
    {
     "name": "stdout",
     "output_type": "stream",
     "text": [
      "<BatchDataset element_spec=(TensorSpec(shape=(None, None, 14), dtype=tf.float64, name=None), TensorSpec(shape=(None,), dtype=tf.float64, name=None))>\n",
      "<BatchDataset element_spec=(TensorSpec(shape=(None, None, 14), dtype=tf.float64, name=None), TensorSpec(shape=(None,), dtype=tf.float64, name=None))>\n",
      "<BatchDataset element_spec=(TensorSpec(shape=(None, None, 14), dtype=tf.float64, name=None), TensorSpec(shape=(None,), dtype=tf.float64, name=None))>\n"
     ]
    }
   ],
   "source": [
    "sampling_rate = 6\n",
    "sequence_length = 5 * 24\n",
    "delay = sampling_rate * (sequence_length + 24 - 1)\n",
    "batch_size = 256\n",
    "\n",
    "train_dataset = tf.keras.utils.timeseries_dataset_from_array(\n",
    "    data=scaled_data[:-delay],\n",
    "    targets=temperature[delay:],\n",
    "    sampling_rate=sampling_rate,\n",
    "    sequence_length=sequence_length,\n",
    "    shuffle=True,\n",
    "    batch_size=batch_size,\n",
    "    start_index=0,\n",
    "    end_index=train_size,\n",
    ")\n",
    "validation_dataset = tf.keras.utils.timeseries_dataset_from_array(\n",
    "    data=scaled_data[:-delay],\n",
    "    targets=temperature[delay:],\n",
    "    sampling_rate=sampling_rate,\n",
    "    sequence_length=sequence_length,\n",
    "    shuffle=True,\n",
    "    batch_size=batch_size,\n",
    "    start_index=train_size,\n",
    "    end_index=train_size + validation_size,\n",
    ")\n",
    "test_dataset = tf.keras.utils.timeseries_dataset_from_array(\n",
    "    data=scaled_data[:-delay],\n",
    "    targets=temperature[delay:],\n",
    "    sampling_rate=sampling_rate,\n",
    "    sequence_length=sequence_length,\n",
    "    shuffle=True,\n",
    "    batch_size=batch_size,\n",
    "    start_index=train_size + validation_size,\n",
    ")\n",
    "\n",
    "print(train_dataset)\n",
    "print(validation_dataset)\n",
    "print(test_dataset)\n"
   ]
  },
  {
   "cell_type": "code",
   "execution_count": 26,
   "metadata": {},
   "outputs": [
    {
     "name": "stdout",
     "output_type": "stream",
     "text": [
      "train_data: (256, 120, 14)\n",
      "train_label: (256,)\n",
      "validation_data: (256, 120, 14)\n",
      "validation_label: (256,)\n"
     ]
    }
   ],
   "source": [
    "for data, label in train_dataset:\n",
    "    print(\"train_data:\", data.shape)\n",
    "    print(\"train_label:\",label.shape)\n",
    "    break\n",
    "\n",
    "for data, label in validation_dataset:\n",
    "    print(\"validation_data:\",data.shape)\n",
    "    print(\"validation_label:\",label.shape)\n",
    "    break"
   ]
  },
  {
   "cell_type": "code",
   "execution_count": 27,
   "metadata": {},
   "outputs": [
    {
     "name": "stdout",
     "output_type": "stream",
     "text": [
      "Navie Method Validation MAE: 2.441735748565519\n"
     ]
    }
   ],
   "source": [
    "import numpy as np\n",
    "\n",
    "\n",
    "def evaluate_naive_method(dataset):\n",
    "    total_abs_err = 0\n",
    "    data_seen = 0\n",
    "    for data, label in dataset:\n",
    "        preds = data[:, -1, 1] * train_std[1] + train_mean[1]\n",
    "        total_abs_err += np.sum(np.abs(preds - label))\n",
    "        data_seen += data.shape[0]\n",
    "    return total_abs_err / data_seen\n",
    "\n",
    "\n",
    "print(\"Navie Method Validation MAE:\", evaluate_naive_method(validation_dataset))\n"
   ]
  },
  {
   "cell_type": "code",
   "execution_count": 28,
   "metadata": {},
   "outputs": [
    {
     "name": "stdout",
     "output_type": "stream",
     "text": [
      "Model: \"model_1\"\n",
      "_________________________________________________________________\n",
      " Layer (type)                Output Shape              Param #   \n",
      "=================================================================\n",
      " input_2 (InputLayer)        [(None, 120, 14)]         0         \n",
      "                                                                 \n",
      " simple_rnn_1 (SimpleRNN)    (None, 16)                496       \n",
      "                                                                 \n",
      " dense_1 (Dense)             (None, 1)                 17        \n",
      "                                                                 \n",
      "=================================================================\n",
      "Total params: 513\n",
      "Trainable params: 513\n",
      "Non-trainable params: 0\n",
      "_________________________________________________________________\n"
     ]
    }
   ],
   "source": [
    "def get_simple_lstm(sequence_length, column_length):\n",
    "    model_in = tf.keras.Input(shape=(sequence_length, column_length))\n",
    "    x = tf.keras.layers.SimpleRNN(16)(model_in)\n",
    "    model_out = tf.keras.layers.Dense(1)(x)\n",
    "    return tf.keras.Model(inputs=model_in, outputs=model_out)\n",
    "\n",
    "simple_lstm = get_simple_lstm(sequence_length, len(scaled_data.columns))\n",
    "simple_lstm.summary()"
   ]
  },
  {
   "cell_type": "code",
   "execution_count": 29,
   "metadata": {},
   "outputs": [],
   "source": [
    "simple_lstm.compile(\n",
    "    optimizer=\"rmsprop\", loss=\"mse\", metrics=[\"mae\"]\n",
    ")"
   ]
  },
  {
   "cell_type": "code",
   "execution_count": 30,
   "metadata": {},
   "outputs": [
    {
     "name": "stdout",
     "output_type": "stream",
     "text": [
      "Epoch 1/10\n",
      "819/819 [==============================] - 180s 218ms/step - loss: 46.7606 - mae: 5.0142 - val_loss: 13.3025 - val_mae: 2.7130\n",
      "Epoch 2/10\n",
      "819/819 [==============================] - 178s 217ms/step - loss: 11.3979 - mae: 2.6111 - val_loss: 9.3495 - val_mae: 2.3718\n",
      "Epoch 3/10\n",
      "819/819 [==============================] - 175s 214ms/step - loss: 10.4291 - mae: 2.5180 - val_loss: 9.1261 - val_mae: 2.3481\n",
      "Epoch 4/10\n",
      "819/819 [==============================] - 175s 214ms/step - loss: 10.2762 - mae: 2.5013 - val_loss: 9.0618 - val_mae: 2.3414\n",
      "Epoch 5/10\n",
      "819/819 [==============================] - 176s 215ms/step - loss: 10.1901 - mae: 2.4908 - val_loss: 8.9474 - val_mae: 2.3258\n",
      "Epoch 6/10\n",
      "819/819 [==============================] - 176s 214ms/step - loss: 10.1098 - mae: 2.4810 - val_loss: 9.0896 - val_mae: 2.3447\n",
      "Epoch 7/10\n",
      "819/819 [==============================] - 175s 213ms/step - loss: 10.0427 - mae: 2.4734 - val_loss: 8.9480 - val_mae: 2.3218\n",
      "Epoch 8/10\n",
      "819/819 [==============================] - 173s 211ms/step - loss: 9.9777 - mae: 2.4654 - val_loss: 9.1172 - val_mae: 2.3485\n",
      "Epoch 9/10\n",
      "819/819 [==============================] - 174s 212ms/step - loss: 9.9320 - mae: 2.4581 - val_loss: 8.9194 - val_mae: 2.3198\n",
      "Epoch 10/10\n",
      "819/819 [==============================] - 173s 211ms/step - loss: 9.8900 - mae: 2.4511 - val_loss: 8.9369 - val_mae: 2.3219\n"
     ]
    }
   ],
   "source": [
    "simple_lstm_history = simple_lstm.fit(train_dataset, epochs=10, validation_data=validation_dataset)"
   ]
  },
  {
   "cell_type": "code",
   "execution_count": 40,
   "metadata": {},
   "outputs": [
    {
     "data": {
      "image/png": "[encoded data removed]",
      "text/plain": [
       "<Figure size 640x480 with 1 Axes>"
      ]
     },
     "metadata": {},
     "output_type": "display_data"
    }
   ],
   "source": [
    "import matplotlib.pyplot as plt\n",
    "plt.plot(range(1, 11), simple_lstm_history.history[\"mae\"], \"b--\", label=\"Train MAE\")\n",
    "plt.plot(range(1, 11), simple_lstm_history.history[\"val_mae\"], \"r-\", label=\"Test MAE\")\n",
    "plt.title(\"Simple RNN MAE\")\n",
    "plt.ylim(2, 3)\n",
    "plt.legend()\n",
    "plt.xlabel(\"Epoch\")\n",
    "plt.ylabel(\"MAE\")\n",
    "plt.show()\n"
   ]
  },
  {
   "cell_type": "code",
   "execution_count": null,
   "metadata": {},
   "outputs": [],
   "source": []
  }
 ],
 "metadata": {
  "kernelspec": {
   "display_name": "Python 3.9.13 ('keras')",
   "language": "python",
   "name": "python3"
  },
  "language_info": {
   "codemirror_mode": {
    "name": "ipython",
    "version": 3
   },
   "file_extension": ".py",
   "mimetype": "text/x-python",
   "name": "python",
   "nbconvert_exporter": "python",
   "pygments_lexer": "ipython3",
   "version": "3.9.13"
  },
  "orig_nbformat": 4,
  "vscode": {
   "interpreter": {
    "hash": "1adc45b2727d29ffe2ebdf1744bac2997f1014da1e47286e1a4198fcda79fd8a"
   }
  }
 },
 "nbformat": 4,
 "nbformat_minor": 2
}
