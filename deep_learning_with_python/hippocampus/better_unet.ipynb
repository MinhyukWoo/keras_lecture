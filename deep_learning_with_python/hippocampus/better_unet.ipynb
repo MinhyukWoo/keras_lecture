{
 "cells": [
  {
   "cell_type": "code",
   "execution_count": 1,
   "metadata": {},
   "outputs": [
    {
     "name": "stderr",
     "output_type": "stream",
     "text": [
      "2022-11-20 15:57:48.753874: I tensorflow/core/platform/cpu_feature_guard.cc:193] This TensorFlow binary is optimized with oneAPI Deep Neural Network Library (oneDNN) to use the following CPU instructions in performance-critical operations:  AVX2 FMA\n",
      "To enable them in other operations, rebuild TensorFlow with the appropriate compiler flags.\n",
      "2022-11-20 15:57:48.919566: E tensorflow/stream_executor/cuda/cuda_blas.cc:2981] Unable to register cuBLAS factory: Attempting to register factory for plugin cuBLAS when one has already been registered\n",
      "2022-11-20 15:57:49.577350: W tensorflow/stream_executor/platform/default/dso_loader.cc:64] Could not load dynamic library 'libnvinfer.so.7'; dlerror: libnvinfer.so.7: cannot open shared object file: No such file or directory\n",
      "2022-11-20 15:57:49.577441: W tensorflow/stream_executor/platform/default/dso_loader.cc:64] Could not load dynamic library 'libnvinfer_plugin.so.7'; dlerror: libnvinfer_plugin.so.7: cannot open shared object file: No such file or directory\n",
      "2022-11-20 15:57:49.577450: W tensorflow/compiler/tf2tensorrt/utils/py_utils.cc:38] TF-TRT Warning: Cannot dlopen some TensorRT libraries. If you would like to use Nvidia GPU with TensorRT, please make sure the missing libraries mentioned above are installed properly.\n"
     ]
    }
   ],
   "source": [
    "import tensorflow as tf\n",
    "\n",
    "IMAGE_SIZE = (256, 256)\n",
    "NUM_CLASSES = 3\n",
    "\n",
    "import tensorflow as tf\n",
    "import random\n",
    "import numpy as np\n",
    "import os\n",
    "\n",
    "SEED = 1998\n",
    "random.seed(SEED)\n",
    "np.random.seed(SEED)\n",
    "os.environ[\"PYTHONHASHSEED\"] = str(SEED)\n",
    "tf.random.set_seed(SEED)\n"
   ]
  },
  {
   "cell_type": "markdown",
   "metadata": {},
   "source": [
    "### 모델\n",
    "\n",
    "UNET가 유사한 모델로 구성함  \n",
    "* 1/10000로 스케일링함  \n",
    "* 채널 수와 깊이를 줄임\n",
    "* Dropout을 0.2로 추가함\n"
   ]
  },
  {
   "cell_type": "code",
   "execution_count": 2,
   "metadata": {},
   "outputs": [
    {
     "name": "stderr",
     "output_type": "stream",
     "text": [
      "2022-11-20 15:57:50.632721: I tensorflow/stream_executor/cuda/cuda_gpu_executor.cc:966] could not open file to read NUMA node: /sys/bus/pci/devices/0000:42:00.0/numa_node\n",
      "Your kernel may have been built without NUMA support.\n",
      "2022-11-20 15:57:50.642983: I tensorflow/stream_executor/cuda/cuda_gpu_executor.cc:966] could not open file to read NUMA node: /sys/bus/pci/devices/0000:42:00.0/numa_node\n",
      "Your kernel may have been built without NUMA support.\n",
      "2022-11-20 15:57:50.643569: I tensorflow/stream_executor/cuda/cuda_gpu_executor.cc:966] could not open file to read NUMA node: /sys/bus/pci/devices/0000:42:00.0/numa_node\n",
      "Your kernel may have been built without NUMA support.\n",
      "2022-11-20 15:57:50.644601: I tensorflow/core/platform/cpu_feature_guard.cc:193] This TensorFlow binary is optimized with oneAPI Deep Neural Network Library (oneDNN) to use the following CPU instructions in performance-critical operations:  AVX2 FMA\n",
      "To enable them in other operations, rebuild TensorFlow with the appropriate compiler flags.\n",
      "2022-11-20 15:57:50.653119: I tensorflow/stream_executor/cuda/cuda_gpu_executor.cc:966] could not open file to read NUMA node: /sys/bus/pci/devices/0000:42:00.0/numa_node\n",
      "Your kernel may have been built without NUMA support.\n",
      "2022-11-20 15:57:50.653594: I tensorflow/stream_executor/cuda/cuda_gpu_executor.cc:966] could not open file to read NUMA node: /sys/bus/pci/devices/0000:42:00.0/numa_node\n",
      "Your kernel may have been built without NUMA support.\n",
      "2022-11-20 15:57:50.654034: I tensorflow/stream_executor/cuda/cuda_gpu_executor.cc:966] could not open file to read NUMA node: /sys/bus/pci/devices/0000:42:00.0/numa_node\n",
      "Your kernel may have been built without NUMA support.\n",
      "2022-11-20 15:57:51.482720: I tensorflow/stream_executor/cuda/cuda_gpu_executor.cc:966] could not open file to read NUMA node: /sys/bus/pci/devices/0000:42:00.0/numa_node\n",
      "Your kernel may have been built without NUMA support.\n",
      "2022-11-20 15:57:51.483284: I tensorflow/stream_executor/cuda/cuda_gpu_executor.cc:966] could not open file to read NUMA node: /sys/bus/pci/devices/0000:42:00.0/numa_node\n",
      "Your kernel may have been built without NUMA support.\n",
      "2022-11-20 15:57:51.483301: I tensorflow/core/common_runtime/gpu/gpu_device.cc:1700] Could not identify NUMA node of platform GPU id 0, defaulting to 0.  Your kernel may not have been built with NUMA support.\n",
      "2022-11-20 15:57:51.483722: I tensorflow/stream_executor/cuda/cuda_gpu_executor.cc:966] could not open file to read NUMA node: /sys/bus/pci/devices/0000:42:00.0/numa_node\n",
      "Your kernel may have been built without NUMA support.\n",
      "2022-11-20 15:57:51.483786: I tensorflow/core/common_runtime/gpu/gpu_device.cc:1616] Created device /job:localhost/replica:0/task:0/device:GPU:0 with 22124 MB memory:  -> device: 0, name: NVIDIA TITAN RTX, pci bus id: 0000:42:00.0, compute capability: 7.5\n"
     ]
    },
    {
     "name": "stdout",
     "output_type": "stream",
     "text": [
      "Model: \"model\"\n",
      "__________________________________________________________________________________________________\n",
      " Layer (type)                   Output Shape         Param #     Connected to                     \n",
      "==================================================================================================\n",
      " input_1 (InputLayer)           [(None, 256, 256, 1  0           []                               \n",
      "                                )]                                                                \n",
      "                                                                                                  \n",
      " rescaling (Rescaling)          (None, 256, 256, 1)  0           ['input_1[0][0]']                \n",
      "                                                                                                  \n",
      " conv2d (Conv2D)                (None, 256, 256, 64  640         ['rescaling[0][0]']              \n",
      "                                )                                                                 \n",
      "                                                                                                  \n",
      " dropout (Dropout)              (None, 256, 256, 64  0           ['conv2d[0][0]']                 \n",
      "                                )                                                                 \n",
      "                                                                                                  \n",
      " conv2d_1 (Conv2D)              (None, 256, 256, 64  36928       ['dropout[0][0]']                \n",
      "                                )                                                                 \n",
      "                                                                                                  \n",
      " dropout_1 (Dropout)            (None, 256, 256, 64  0           ['conv2d_1[0][0]']               \n",
      "                                )                                                                 \n",
      "                                                                                                  \n",
      " max_pooling2d (MaxPooling2D)   (None, 128, 128, 64  0           ['dropout_1[0][0]']              \n",
      "                                )                                                                 \n",
      "                                                                                                  \n",
      " conv2d_2 (Conv2D)              (None, 128, 128, 12  73856       ['max_pooling2d[0][0]']          \n",
      "                                8)                                                                \n",
      "                                                                                                  \n",
      " dropout_2 (Dropout)            (None, 128, 128, 12  0           ['conv2d_2[0][0]']               \n",
      "                                8)                                                                \n",
      "                                                                                                  \n",
      " conv2d_3 (Conv2D)              (None, 128, 128, 12  147584      ['dropout_2[0][0]']              \n",
      "                                8)                                                                \n",
      "                                                                                                  \n",
      " dropout_3 (Dropout)            (None, 128, 128, 12  0           ['conv2d_3[0][0]']               \n",
      "                                8)                                                                \n",
      "                                                                                                  \n",
      " max_pooling2d_1 (MaxPooling2D)  (None, 64, 64, 128)  0          ['dropout_3[0][0]']              \n",
      "                                                                                                  \n",
      " conv2d_4 (Conv2D)              (None, 64, 64, 256)  295168      ['max_pooling2d_1[0][0]']        \n",
      "                                                                                                  \n",
      " dropout_4 (Dropout)            (None, 64, 64, 256)  0           ['conv2d_4[0][0]']               \n",
      "                                                                                                  \n",
      " conv2d_5 (Conv2D)              (None, 64, 64, 256)  590080      ['dropout_4[0][0]']              \n",
      "                                                                                                  \n",
      " dropout_5 (Dropout)            (None, 64, 64, 256)  0           ['conv2d_5[0][0]']               \n",
      "                                                                                                  \n",
      " max_pooling2d_2 (MaxPooling2D)  (None, 32, 32, 256)  0          ['dropout_5[0][0]']              \n",
      "                                                                                                  \n",
      " conv2d_6 (Conv2D)              (None, 32, 32, 512)  1180160     ['max_pooling2d_2[0][0]']        \n",
      "                                                                                                  \n",
      " dropout_6 (Dropout)            (None, 32, 32, 512)  0           ['conv2d_6[0][0]']               \n",
      "                                                                                                  \n",
      " conv2d_7 (Conv2D)              (None, 32, 32, 512)  2359808     ['dropout_6[0][0]']              \n",
      "                                                                                                  \n",
      " dropout_7 (Dropout)            (None, 32, 32, 512)  0           ['conv2d_7[0][0]']               \n",
      "                                                                                                  \n",
      " max_pooling2d_3 (MaxPooling2D)  (None, 16, 16, 512)  0          ['dropout_7[0][0]']              \n",
      "                                                                                                  \n",
      " conv2d_8 (Conv2D)              (None, 16, 16, 256)  1179904     ['max_pooling2d_3[0][0]']        \n",
      "                                                                                                  \n",
      " dropout_8 (Dropout)            (None, 16, 16, 256)  0           ['conv2d_8[0][0]']               \n",
      "                                                                                                  \n",
      " conv2d_9 (Conv2D)              (None, 16, 16, 256)  590080      ['dropout_8[0][0]']              \n",
      "                                                                                                  \n",
      " dropout_9 (Dropout)            (None, 16, 16, 256)  0           ['conv2d_9[0][0]']               \n",
      "                                                                                                  \n",
      " up_sampling2d (UpSampling2D)   (None, 32, 32, 256)  0           ['dropout_9[0][0]']              \n",
      "                                                                                                  \n",
      " conv2d_10 (Conv2D)             (None, 32, 32, 128)  131200      ['up_sampling2d[0][0]']          \n",
      "                                                                                                  \n",
      " concatenate (Concatenate)      (None, 32, 32, 640)  0           ['dropout_7[0][0]',              \n",
      "                                                                  'conv2d_10[0][0]']              \n",
      "                                                                                                  \n",
      " conv2d_11 (Conv2D)             (None, 32, 32, 128)  737408      ['concatenate[0][0]']            \n",
      "                                                                                                  \n",
      " dropout_10 (Dropout)           (None, 32, 32, 128)  0           ['conv2d_11[0][0]']              \n",
      "                                                                                                  \n",
      " conv2d_12 (Conv2D)             (None, 32, 32, 128)  147584      ['dropout_10[0][0]']             \n",
      "                                                                                                  \n",
      " dropout_11 (Dropout)           (None, 32, 32, 128)  0           ['conv2d_12[0][0]']              \n",
      "                                                                                                  \n",
      " up_sampling2d_1 (UpSampling2D)  (None, 64, 64, 128)  0          ['dropout_11[0][0]']             \n",
      "                                                                                                  \n",
      " conv2d_13 (Conv2D)             (None, 64, 64, 64)   32832       ['up_sampling2d_1[0][0]']        \n",
      "                                                                                                  \n",
      " concatenate_1 (Concatenate)    (None, 64, 64, 320)  0           ['dropout_5[0][0]',              \n",
      "                                                                  'conv2d_13[0][0]']              \n",
      "                                                                                                  \n",
      " conv2d_14 (Conv2D)             (None, 64, 64, 64)   184384      ['concatenate_1[0][0]']          \n",
      "                                                                                                  \n",
      " dropout_12 (Dropout)           (None, 64, 64, 64)   0           ['conv2d_14[0][0]']              \n",
      "                                                                                                  \n",
      " conv2d_15 (Conv2D)             (None, 64, 64, 64)   36928       ['dropout_12[0][0]']             \n",
      "                                                                                                  \n",
      " dropout_13 (Dropout)           (None, 64, 64, 64)   0           ['conv2d_15[0][0]']              \n",
      "                                                                                                  \n",
      " up_sampling2d_2 (UpSampling2D)  (None, 128, 128, 64  0          ['dropout_13[0][0]']             \n",
      "                                )                                                                 \n",
      "                                                                                                  \n",
      " conv2d_16 (Conv2D)             (None, 128, 128, 32  8224        ['up_sampling2d_2[0][0]']        \n",
      "                                )                                                                 \n",
      "                                                                                                  \n",
      " concatenate_2 (Concatenate)    (None, 128, 128, 16  0           ['dropout_3[0][0]',              \n",
      "                                0)                                'conv2d_16[0][0]']              \n",
      "                                                                                                  \n",
      " conv2d_17 (Conv2D)             (None, 128, 128, 32  46112       ['concatenate_2[0][0]']          \n",
      "                                )                                                                 \n",
      "                                                                                                  \n",
      " dropout_14 (Dropout)           (None, 128, 128, 32  0           ['conv2d_17[0][0]']              \n",
      "                                )                                                                 \n",
      "                                                                                                  \n",
      " conv2d_18 (Conv2D)             (None, 128, 128, 32  9248        ['dropout_14[0][0]']             \n",
      "                                )                                                                 \n",
      "                                                                                                  \n",
      " dropout_15 (Dropout)           (None, 128, 128, 32  0           ['conv2d_18[0][0]']              \n",
      "                                )                                                                 \n",
      "                                                                                                  \n",
      " up_sampling2d_3 (UpSampling2D)  (None, 256, 256, 32  0          ['dropout_15[0][0]']             \n",
      "                                )                                                                 \n",
      "                                                                                                  \n",
      " conv2d_19 (Conv2D)             (None, 256, 256, 16  2064        ['up_sampling2d_3[0][0]']        \n",
      "                                )                                                                 \n",
      "                                                                                                  \n",
      " concatenate_3 (Concatenate)    (None, 256, 256, 80  0           ['dropout_1[0][0]',              \n",
      "                                )                                 'conv2d_19[0][0]']              \n",
      "                                                                                                  \n",
      " conv2d_20 (Conv2D)             (None, 256, 256, 16  11536       ['concatenate_3[0][0]']          \n",
      "                                )                                                                 \n",
      "                                                                                                  \n",
      " dropout_16 (Dropout)           (None, 256, 256, 16  0           ['conv2d_20[0][0]']              \n",
      "                                )                                                                 \n",
      "                                                                                                  \n",
      " conv2d_21 (Conv2D)             (None, 256, 256, 16  2320        ['dropout_16[0][0]']             \n",
      "                                )                                                                 \n",
      "                                                                                                  \n",
      " dropout_17 (Dropout)           (None, 256, 256, 16  0           ['conv2d_21[0][0]']              \n",
      "                                )                                                                 \n",
      "                                                                                                  \n",
      " conv2d_22 (Conv2D)             (None, 256, 256, 3)  435         ['dropout_17[0][0]']             \n",
      "                                                                                                  \n",
      " conv2d_23 (Conv2D)             (None, 256, 256, 3)  12          ['conv2d_22[0][0]']              \n",
      "                                                                                                  \n",
      "==================================================================================================\n",
      "Total params: 7,804,495\n",
      "Trainable params: 7,804,495\n",
      "Non-trainable params: 0\n",
      "__________________________________________________________________________________________________\n"
     ]
    }
   ],
   "source": [
    "import tensorflow as tf\n",
    "\n",
    "# https://github.com/zhixuhao/unet/blob/master/model.py\n",
    "def unet(input_size=(256, 256, 1), num_classes=3):\n",
    "    inputs = tf.keras.Input(input_size)\n",
    "    x = tf.keras.layers.experimental.preprocessing.Rescaling(1.0 / 10000)(inputs)\n",
    "    conv1 = tf.keras.layers.Conv2D(\n",
    "        64, 3, activation=\"relu\", padding=\"same\", kernel_initializer=\"he_normal\"\n",
    "    )(x)\n",
    "    conv1 = tf.keras.layers.Dropout(0.2)(conv1)\n",
    "    conv1 = tf.keras.layers.Conv2D(\n",
    "        64, 3, activation=\"relu\", padding=\"same\", kernel_initializer=\"he_normal\"\n",
    "    )(conv1)\n",
    "    conv1 = tf.keras.layers.Dropout(0.2)(conv1)\n",
    "    pool1 = tf.keras.layers.MaxPooling2D(pool_size=(2, 2))(conv1)\n",
    "\n",
    "    conv2 = tf.keras.layers.Conv2D(\n",
    "        128, 3, activation=\"relu\", padding=\"same\", kernel_initializer=\"he_normal\"\n",
    "    )(pool1)\n",
    "    conv2 = tf.keras.layers.Dropout(0.2)(conv2)\n",
    "    conv2 = tf.keras.layers.Conv2D(\n",
    "        128, 3, activation=\"relu\", padding=\"same\", kernel_initializer=\"he_normal\"\n",
    "    )(conv2)\n",
    "    conv2 = tf.keras.layers.Dropout(0.2)(conv2)\n",
    "    pool2 = tf.keras.layers.MaxPooling2D(pool_size=(2, 2))(conv2)\n",
    "\n",
    "    conv3 = tf.keras.layers.Conv2D(\n",
    "        256, 3, activation=\"relu\", padding=\"same\", kernel_initializer=\"he_normal\"\n",
    "    )(pool2)\n",
    "    conv3 = tf.keras.layers.Dropout(0.2)(conv3)\n",
    "    conv3 = tf.keras.layers.Conv2D(\n",
    "        256, 3, activation=\"relu\", padding=\"same\", kernel_initializer=\"he_normal\"\n",
    "    )(conv3)\n",
    "    conv3 = tf.keras.layers.Dropout(0.2)(conv3)\n",
    "    pool3 = tf.keras.layers.MaxPooling2D(pool_size=(2, 2))(conv3)\n",
    "\n",
    "    conv4 = tf.keras.layers.Conv2D(\n",
    "        512, 3, activation=\"relu\", padding=\"same\", kernel_initializer=\"he_normal\"\n",
    "    )(pool3)\n",
    "    conv4 = tf.keras.layers.Dropout(0.2)(conv4)\n",
    "    conv4 = tf.keras.layers.Conv2D(\n",
    "        512, 3, activation=\"relu\", padding=\"same\", kernel_initializer=\"he_normal\"\n",
    "    )(conv4)\n",
    "    conv4 = tf.keras.layers.Dropout(0.2)(conv4)\n",
    "    pool4 = tf.keras.layers.MaxPooling2D(pool_size=(2, 2))(conv4)\n",
    "\n",
    "    conv5 = tf.keras.layers.Conv2D(\n",
    "        256, 3, activation=\"relu\", padding=\"same\", kernel_initializer=\"he_normal\"\n",
    "    )(pool4)\n",
    "    conv5 = tf.keras.layers.Dropout(0.2)(conv5)\n",
    "    conv5 = tf.keras.layers.Conv2D(\n",
    "        256, 3, activation=\"relu\", padding=\"same\", kernel_initializer=\"he_normal\"\n",
    "    )(conv5)\n",
    "    conv5 = tf.keras.layers.Dropout(0.2)(conv5)\n",
    "\n",
    "    up6 = tf.keras.layers.Conv2D(\n",
    "        128, 2, activation=\"relu\", padding=\"same\", kernel_initializer=\"he_normal\"\n",
    "    )(tf.keras.layers.UpSampling2D(size=(2, 2))(conv5))\n",
    "    merge6 = tf.keras.layers.concatenate([conv4, up6], axis=3)\n",
    "    conv6 = tf.keras.layers.Conv2D(\n",
    "        128, 3, activation=\"relu\", padding=\"same\", kernel_initializer=\"he_normal\"\n",
    "    )(merge6)\n",
    "    conv6 = tf.keras.layers.Dropout(0.2)(conv6)\n",
    "    conv6 = tf.keras.layers.Conv2D(\n",
    "        128, 3, activation=\"relu\", padding=\"same\", kernel_initializer=\"he_normal\"\n",
    "    )(conv6)\n",
    "    conv6 = tf.keras.layers.Dropout(0.2)(conv6)\n",
    "\n",
    "    up7 = tf.keras.layers.Conv2D(\n",
    "        64, 2, activation=\"relu\", padding=\"same\", kernel_initializer=\"he_normal\"\n",
    "    )(tf.keras.layers.UpSampling2D(size=(2, 2))(conv6))\n",
    "    merge7 = tf.keras.layers.concatenate([conv3, up7], axis=3)\n",
    "    conv7 = tf.keras.layers.Conv2D(\n",
    "        64, 3, activation=\"relu\", padding=\"same\", kernel_initializer=\"he_normal\"\n",
    "    )(merge7)\n",
    "    conv7 = tf.keras.layers.Dropout(0.2)(conv7)\n",
    "    conv7 = tf.keras.layers.Conv2D(\n",
    "        64, 3, activation=\"relu\", padding=\"same\", kernel_initializer=\"he_normal\"\n",
    "    )(conv7)\n",
    "    conv7 = tf.keras.layers.Dropout(0.2)(conv7)\n",
    "\n",
    "    up8 = tf.keras.layers.Conv2D(\n",
    "        32, 2, activation=\"relu\", padding=\"same\", kernel_initializer=\"he_normal\"\n",
    "    )(tf.keras.layers.UpSampling2D(size=(2, 2))(conv7))\n",
    "    merge8 = tf.keras.layers.concatenate([conv2, up8], axis=3)\n",
    "    conv8 = tf.keras.layers.Conv2D(\n",
    "        32, 3, activation=\"relu\", padding=\"same\", kernel_initializer=\"he_normal\"\n",
    "    )(merge8)\n",
    "    conv8 = tf.keras.layers.Dropout(0.2)(conv8)\n",
    "    conv8 = tf.keras.layers.Conv2D(\n",
    "        32, 3, activation=\"relu\", padding=\"same\", kernel_initializer=\"he_normal\"\n",
    "    )(conv8)\n",
    "    conv8 = tf.keras.layers.Dropout(0.2)(conv8)\n",
    "\n",
    "    up9 = tf.keras.layers.Conv2D(\n",
    "        16, 2, activation=\"relu\", padding=\"same\", kernel_initializer=\"he_normal\"\n",
    "    )(tf.keras.layers.UpSampling2D(size=(2, 2))(conv8))\n",
    "    merge9 = tf.keras.layers.concatenate([conv1, up9], axis=3)\n",
    "    conv9 = tf.keras.layers.Conv2D(\n",
    "        16, 3, activation=\"relu\", padding=\"same\", kernel_initializer=\"he_normal\"\n",
    "    )(merge9)\n",
    "    conv9 = tf.keras.layers.Dropout(0.2)(conv9)\n",
    "    conv9 = tf.keras.layers.Conv2D(\n",
    "        16, 3, activation=\"relu\", padding=\"same\", kernel_initializer=\"he_normal\"\n",
    "    )(conv9)\n",
    "    conv9 = tf.keras.layers.Dropout(0.2)(conv9)\n",
    "    conv9 = tf.keras.layers.Conv2D(\n",
    "        num_classes,\n",
    "        3,\n",
    "        activation=\"relu\",\n",
    "        padding=\"same\",\n",
    "        kernel_initializer=\"he_normal\",\n",
    "    )(conv9)\n",
    "    conv10 = tf.keras.layers.Conv2D(num_classes, 1, activation=\"softmax\")(conv9)\n",
    "\n",
    "    model = tf.keras.Model(inputs=inputs, outputs=conv10)\n",
    "\n",
    "    return model\n",
    "\n",
    "\n",
    "model = unet()\n",
    "model.summary()\n"
   ]
  },
  {
   "cell_type": "code",
   "execution_count": 3,
   "metadata": {},
   "outputs": [
    {
     "data": {
      "text/plain": [
       "['HFH_001_051.npy',\n",
       " 'HFH_001_052.npy',\n",
       " 'HFH_001_053.npy',\n",
       " 'HFH_001_054.npy',\n",
       " 'HFH_001_055.npy',\n",
       " 'HFH_001_056.npy',\n",
       " 'HFH_001_057.npy',\n",
       " 'HFH_001_058.npy',\n",
       " 'HFH_001_059.npy',\n",
       " 'HFH_001_060.npy',\n",
       " 'HFH_001_061.npy',\n",
       " 'HFH_001_062.npy',\n",
       " 'HFH_001_063.npy',\n",
       " 'HFH_001_064.npy',\n",
       " 'HFH_001_065.npy',\n",
       " 'HFH_001_066.npy',\n",
       " 'HFH_001_067.npy',\n",
       " 'HFH_001_068.npy',\n",
       " 'HFH_001_069.npy',\n",
       " 'HFH_001_070.npy',\n",
       " 'HFH_002_047.npy',\n",
       " 'HFH_002_048.npy',\n",
       " 'HFH_002_049.npy',\n",
       " 'HFH_002_050.npy',\n",
       " 'HFH_002_051.npy',\n",
       " 'HFH_002_052.npy',\n",
       " 'HFH_002_053.npy',\n",
       " 'HFH_002_054.npy',\n",
       " 'HFH_002_055.npy',\n",
       " 'HFH_002_056.npy',\n",
       " 'HFH_002_057.npy',\n",
       " 'HFH_002_058.npy',\n",
       " 'HFH_002_059.npy',\n",
       " 'HFH_002_060.npy',\n",
       " 'HFH_002_061.npy',\n",
       " 'HFH_002_062.npy',\n",
       " 'HFH_002_063.npy',\n",
       " 'HFH_002_064.npy',\n",
       " 'HFH_003_048.npy',\n",
       " 'HFH_003_049.npy',\n",
       " 'HFH_003_050.npy',\n",
       " 'HFH_003_051.npy',\n",
       " 'HFH_003_052.npy',\n",
       " 'HFH_003_053.npy',\n",
       " 'HFH_003_054.npy',\n",
       " 'HFH_003_055.npy',\n",
       " 'HFH_003_056.npy',\n",
       " 'HFH_003_057.npy',\n",
       " 'HFH_003_058.npy',\n",
       " 'HFH_003_059.npy',\n",
       " 'HFH_003_060.npy',\n",
       " 'HFH_003_061.npy',\n",
       " 'HFH_003_062.npy',\n",
       " 'HFH_003_063.npy',\n",
       " 'HFH_003_064.npy',\n",
       " 'HFH_003_065.npy',\n",
       " 'HFH_004_044.npy',\n",
       " 'HFH_004_045.npy',\n",
       " 'HFH_004_046.npy',\n",
       " 'HFH_004_047.npy',\n",
       " 'HFH_004_048.npy',\n",
       " 'HFH_004_049.npy',\n",
       " 'HFH_004_050.npy',\n",
       " 'HFH_004_051.npy',\n",
       " 'HFH_004_052.npy',\n",
       " 'HFH_004_053.npy',\n",
       " 'HFH_004_054.npy',\n",
       " 'HFH_004_055.npy',\n",
       " 'HFH_004_056.npy',\n",
       " 'HFH_004_057.npy',\n",
       " 'HFH_004_058.npy',\n",
       " 'HFH_004_059.npy',\n",
       " 'HFH_004_060.npy',\n",
       " 'HFH_004_061.npy',\n",
       " 'HFH_004_062.npy',\n",
       " 'HFH_004_063.npy',\n",
       " 'HFH_005_053.npy',\n",
       " 'HFH_005_054.npy',\n",
       " 'HFH_005_055.npy',\n",
       " 'HFH_005_056.npy',\n",
       " 'HFH_005_057.npy',\n",
       " 'HFH_005_058.npy',\n",
       " 'HFH_005_059.npy',\n",
       " 'HFH_005_060.npy',\n",
       " 'HFH_005_061.npy',\n",
       " 'HFH_005_062.npy',\n",
       " 'HFH_005_063.npy',\n",
       " 'HFH_005_064.npy',\n",
       " 'HFH_005_065.npy',\n",
       " 'HFH_005_066.npy',\n",
       " 'HFH_005_067.npy',\n",
       " 'HFH_005_068.npy',\n",
       " 'HFH_005_069.npy',\n",
       " 'HFH_005_070.npy',\n",
       " 'HFH_006_050.npy',\n",
       " 'HFH_006_051.npy',\n",
       " 'HFH_006_052.npy',\n",
       " 'HFH_006_053.npy',\n",
       " 'HFH_006_054.npy',\n",
       " 'HFH_006_055.npy',\n",
       " 'HFH_006_056.npy',\n",
       " 'HFH_006_057.npy',\n",
       " 'HFH_006_058.npy',\n",
       " 'HFH_006_059.npy',\n",
       " 'HFH_006_060.npy',\n",
       " 'HFH_006_061.npy',\n",
       " 'HFH_006_062.npy',\n",
       " 'HFH_006_063.npy',\n",
       " 'HFH_006_064.npy',\n",
       " 'HFH_006_065.npy',\n",
       " 'HFH_007_041.npy',\n",
       " 'HFH_007_042.npy',\n",
       " 'HFH_007_043.npy',\n",
       " 'HFH_007_044.npy',\n",
       " 'HFH_007_045.npy',\n",
       " 'HFH_007_046.npy',\n",
       " 'HFH_007_047.npy',\n",
       " 'HFH_007_048.npy',\n",
       " 'HFH_007_049.npy',\n",
       " 'HFH_007_050.npy',\n",
       " 'HFH_007_051.npy',\n",
       " 'HFH_007_052.npy',\n",
       " 'HFH_007_053.npy',\n",
       " 'HFH_007_054.npy',\n",
       " 'HFH_007_055.npy',\n",
       " 'HFH_007_056.npy',\n",
       " 'HFH_007_057.npy',\n",
       " 'HFH_008_047.npy',\n",
       " 'HFH_008_048.npy',\n",
       " 'HFH_008_049.npy',\n",
       " 'HFH_008_050.npy',\n",
       " 'HFH_008_051.npy',\n",
       " 'HFH_008_052.npy',\n",
       " 'HFH_008_053.npy',\n",
       " 'HFH_008_054.npy',\n",
       " 'HFH_008_055.npy',\n",
       " 'HFH_008_056.npy',\n",
       " 'HFH_008_057.npy',\n",
       " 'HFH_008_058.npy',\n",
       " 'HFH_008_059.npy',\n",
       " 'HFH_008_060.npy',\n",
       " 'HFH_008_061.npy',\n",
       " 'HFH_008_062.npy',\n",
       " 'HFH_009_043.npy',\n",
       " 'HFH_009_044.npy',\n",
       " 'HFH_009_045.npy',\n",
       " 'HFH_009_046.npy',\n",
       " 'HFH_009_047.npy',\n",
       " 'HFH_009_048.npy',\n",
       " 'HFH_009_049.npy',\n",
       " 'HFH_009_050.npy',\n",
       " 'HFH_009_051.npy',\n",
       " 'HFH_009_052.npy',\n",
       " 'HFH_009_053.npy',\n",
       " 'HFH_009_054.npy',\n",
       " 'HFH_009_055.npy',\n",
       " 'HFH_009_056.npy',\n",
       " 'HFH_009_057.npy',\n",
       " 'HFH_009_058.npy',\n",
       " 'HFH_009_059.npy',\n",
       " 'HFH_009_060.npy',\n",
       " 'HFH_009_061.npy',\n",
       " 'HFH_009_062.npy',\n",
       " 'HFH_010_049.npy',\n",
       " 'HFH_010_050.npy',\n",
       " 'HFH_010_051.npy',\n",
       " 'HFH_010_052.npy',\n",
       " 'HFH_010_053.npy',\n",
       " 'HFH_010_054.npy',\n",
       " 'HFH_010_055.npy',\n",
       " 'HFH_010_056.npy',\n",
       " 'HFH_010_057.npy',\n",
       " 'HFH_010_058.npy',\n",
       " 'HFH_010_059.npy',\n",
       " 'HFH_010_060.npy',\n",
       " 'HFH_010_061.npy',\n",
       " 'HFH_010_062.npy',\n",
       " 'HFH_010_063.npy',\n",
       " 'HFH_010_064.npy',\n",
       " 'HFH_010_065.npy',\n",
       " 'HFH_010_066.npy',\n",
       " 'HFH_010_067.npy',\n",
       " 'HFH_010_068.npy',\n",
       " 'HFH_011_044.npy',\n",
       " 'HFH_011_045.npy',\n",
       " 'HFH_011_046.npy',\n",
       " 'HFH_011_047.npy',\n",
       " 'HFH_011_048.npy',\n",
       " 'HFH_011_049.npy',\n",
       " 'HFH_011_050.npy',\n",
       " 'HFH_011_051.npy',\n",
       " 'HFH_011_052.npy',\n",
       " 'HFH_011_053.npy',\n",
       " 'HFH_011_054.npy',\n",
       " 'HFH_011_055.npy',\n",
       " 'HFH_011_056.npy',\n",
       " 'HFH_011_057.npy',\n",
       " 'HFH_011_058.npy',\n",
       " 'HFH_011_059.npy',\n",
       " 'HFH_011_060.npy',\n",
       " 'HFH_011_061.npy',\n",
       " 'HFH_011_062.npy',\n",
       " 'HFH_012_048.npy',\n",
       " 'HFH_012_049.npy',\n",
       " 'HFH_012_050.npy',\n",
       " 'HFH_012_051.npy',\n",
       " 'HFH_012_052.npy',\n",
       " 'HFH_012_053.npy',\n",
       " 'HFH_012_054.npy',\n",
       " 'HFH_012_055.npy',\n",
       " 'HFH_012_056.npy',\n",
       " 'HFH_012_057.npy',\n",
       " 'HFH_012_058.npy',\n",
       " 'HFH_012_059.npy',\n",
       " 'HFH_012_060.npy',\n",
       " 'HFH_012_061.npy',\n",
       " 'HFH_012_062.npy',\n",
       " 'HFH_012_063.npy',\n",
       " 'HFH_012_064.npy',\n",
       " 'HFH_012_065.npy',\n",
       " 'HFH_012_066.npy',\n",
       " 'HFH_013_048.npy',\n",
       " 'HFH_013_049.npy',\n",
       " 'HFH_013_050.npy',\n",
       " 'HFH_013_051.npy',\n",
       " 'HFH_013_052.npy',\n",
       " 'HFH_013_053.npy',\n",
       " 'HFH_013_054.npy',\n",
       " 'HFH_013_055.npy',\n",
       " 'HFH_013_056.npy',\n",
       " 'HFH_013_057.npy',\n",
       " 'HFH_013_058.npy',\n",
       " 'HFH_013_059.npy',\n",
       " 'HFH_013_060.npy',\n",
       " 'HFH_013_061.npy',\n",
       " 'HFH_013_062.npy',\n",
       " 'HFH_013_063.npy',\n",
       " 'HFH_013_064.npy',\n",
       " 'HFH_013_065.npy',\n",
       " 'HFH_014_041.npy',\n",
       " 'HFH_014_042.npy',\n",
       " 'HFH_014_043.npy',\n",
       " 'HFH_014_044.npy',\n",
       " 'HFH_014_045.npy',\n",
       " 'HFH_014_046.npy',\n",
       " 'HFH_014_047.npy',\n",
       " 'HFH_014_048.npy',\n",
       " 'HFH_014_049.npy',\n",
       " 'HFH_014_050.npy',\n",
       " 'HFH_014_051.npy',\n",
       " 'HFH_014_052.npy',\n",
       " 'HFH_014_053.npy',\n",
       " 'HFH_014_054.npy',\n",
       " 'HFH_014_055.npy',\n",
       " 'HFH_014_056.npy',\n",
       " 'HFH_014_057.npy',\n",
       " 'HFH_014_058.npy',\n",
       " 'HFH_014_059.npy',\n",
       " 'HFH_014_060.npy',\n",
       " 'HFH_014_061.npy',\n",
       " 'HFH_015_055.npy',\n",
       " 'HFH_015_056.npy',\n",
       " 'HFH_015_057.npy',\n",
       " 'HFH_015_058.npy',\n",
       " 'HFH_015_059.npy',\n",
       " 'HFH_015_060.npy',\n",
       " 'HFH_015_061.npy',\n",
       " 'HFH_015_062.npy',\n",
       " 'HFH_015_063.npy',\n",
       " 'HFH_015_064.npy',\n",
       " 'HFH_015_065.npy',\n",
       " 'HFH_015_066.npy',\n",
       " 'HFH_015_067.npy',\n",
       " 'HFH_015_068.npy',\n",
       " 'HFH_015_069.npy',\n",
       " 'HFH_015_070.npy',\n",
       " 'HFH_016_051.npy',\n",
       " 'HFH_016_052.npy',\n",
       " 'HFH_016_053.npy',\n",
       " 'HFH_016_054.npy',\n",
       " 'HFH_016_055.npy',\n",
       " 'HFH_016_056.npy',\n",
       " 'HFH_016_057.npy',\n",
       " 'HFH_016_058.npy',\n",
       " 'HFH_016_059.npy',\n",
       " 'HFH_016_060.npy',\n",
       " 'HFH_016_061.npy',\n",
       " 'HFH_016_062.npy',\n",
       " 'HFH_016_063.npy',\n",
       " 'HFH_016_064.npy',\n",
       " 'HFH_016_065.npy',\n",
       " 'HFH_016_066.npy',\n",
       " 'HFH_016_067.npy',\n",
       " 'HFH_016_068.npy',\n",
       " 'HFH_016_069.npy',\n",
       " 'HFH_016_070.npy',\n",
       " 'HFH_016_071.npy',\n",
       " 'HFH_016_072.npy',\n",
       " 'HFH_016_073.npy',\n",
       " 'HFH_017_039.npy',\n",
       " 'HFH_017_040.npy',\n",
       " 'HFH_017_041.npy',\n",
       " 'HFH_017_042.npy',\n",
       " 'HFH_017_043.npy',\n",
       " 'HFH_017_044.npy',\n",
       " 'HFH_017_045.npy',\n",
       " 'HFH_017_046.npy',\n",
       " 'HFH_017_047.npy',\n",
       " 'HFH_017_048.npy',\n",
       " 'HFH_017_049.npy',\n",
       " 'HFH_017_050.npy',\n",
       " 'HFH_017_051.npy',\n",
       " 'HFH_017_052.npy',\n",
       " 'HFH_017_053.npy',\n",
       " 'HFH_017_054.npy',\n",
       " 'HFH_017_055.npy',\n",
       " 'HFH_018_042.npy',\n",
       " 'HFH_018_043.npy',\n",
       " 'HFH_018_044.npy',\n",
       " 'HFH_018_045.npy',\n",
       " 'HFH_018_046.npy',\n",
       " 'HFH_018_047.npy',\n",
       " 'HFH_018_048.npy',\n",
       " 'HFH_018_049.npy',\n",
       " 'HFH_018_050.npy',\n",
       " 'HFH_018_051.npy',\n",
       " 'HFH_018_052.npy',\n",
       " 'HFH_018_053.npy',\n",
       " 'HFH_018_054.npy',\n",
       " 'HFH_018_055.npy',\n",
       " 'HFH_018_056.npy',\n",
       " 'HFH_018_057.npy',\n",
       " 'HFH_018_058.npy',\n",
       " 'HFH_018_059.npy',\n",
       " 'HFH_018_060.npy',\n",
       " 'HFH_019_043.npy',\n",
       " 'HFH_019_044.npy',\n",
       " 'HFH_019_045.npy',\n",
       " 'HFH_019_046.npy',\n",
       " 'HFH_019_047.npy',\n",
       " 'HFH_019_048.npy',\n",
       " 'HFH_019_049.npy',\n",
       " 'HFH_019_050.npy',\n",
       " 'HFH_019_051.npy',\n",
       " 'HFH_019_052.npy',\n",
       " 'HFH_019_053.npy',\n",
       " 'HFH_019_054.npy',\n",
       " 'HFH_019_055.npy',\n",
       " 'HFH_019_056.npy',\n",
       " 'HFH_019_057.npy',\n",
       " 'HFH_019_058.npy',\n",
       " 'HFH_019_059.npy',\n",
       " 'HFH_019_060.npy',\n",
       " 'HFH_020_043.npy',\n",
       " 'HFH_020_044.npy',\n",
       " 'HFH_020_045.npy',\n",
       " 'HFH_020_046.npy',\n",
       " 'HFH_020_047.npy',\n",
       " 'HFH_020_048.npy',\n",
       " 'HFH_020_049.npy',\n",
       " 'HFH_020_050.npy',\n",
       " 'HFH_020_051.npy',\n",
       " 'HFH_020_052.npy',\n",
       " 'HFH_020_053.npy',\n",
       " 'HFH_020_054.npy',\n",
       " 'HFH_020_055.npy',\n",
       " 'HFH_020_056.npy',\n",
       " 'HFH_020_057.npy',\n",
       " 'HFH_020_058.npy',\n",
       " 'HFH_020_059.npy',\n",
       " 'HFH_020_060.npy',\n",
       " 'HFH_020_061.npy',\n",
       " 'HFH_021_051.npy',\n",
       " 'HFH_021_052.npy',\n",
       " 'HFH_021_053.npy',\n",
       " 'HFH_021_054.npy',\n",
       " 'HFH_021_055.npy',\n",
       " 'HFH_021_056.npy',\n",
       " 'HFH_021_057.npy',\n",
       " 'HFH_021_058.npy',\n",
       " 'HFH_021_059.npy',\n",
       " 'HFH_021_060.npy',\n",
       " 'HFH_021_061.npy',\n",
       " 'HFH_021_062.npy',\n",
       " 'HFH_021_063.npy',\n",
       " 'HFH_021_064.npy',\n",
       " 'HFH_021_065.npy',\n",
       " 'HFH_022_040.npy',\n",
       " 'HFH_022_041.npy',\n",
       " 'HFH_022_042.npy',\n",
       " 'HFH_022_043.npy',\n",
       " 'HFH_022_044.npy',\n",
       " 'HFH_022_045.npy',\n",
       " 'HFH_022_046.npy',\n",
       " 'HFH_022_047.npy',\n",
       " 'HFH_022_048.npy',\n",
       " 'HFH_022_049.npy',\n",
       " 'HFH_022_050.npy',\n",
       " 'HFH_022_051.npy',\n",
       " 'HFH_022_052.npy',\n",
       " 'HFH_022_053.npy',\n",
       " 'HFH_022_054.npy',\n",
       " 'HFH_022_055.npy',\n",
       " 'HFH_022_056.npy',\n",
       " 'HFH_022_057.npy',\n",
       " 'HFH_023_050.npy',\n",
       " 'HFH_023_051.npy',\n",
       " 'HFH_023_052.npy',\n",
       " 'HFH_023_053.npy',\n",
       " 'HFH_023_054.npy',\n",
       " 'HFH_023_055.npy',\n",
       " 'HFH_023_056.npy',\n",
       " 'HFH_023_057.npy',\n",
       " 'HFH_023_058.npy',\n",
       " 'HFH_023_059.npy',\n",
       " 'HFH_023_060.npy',\n",
       " 'HFH_023_061.npy',\n",
       " 'HFH_023_062.npy',\n",
       " 'HFH_023_063.npy',\n",
       " 'HFH_023_064.npy',\n",
       " 'HFH_023_065.npy',\n",
       " 'HFH_023_066.npy',\n",
       " 'HFH_024_048.npy',\n",
       " 'HFH_024_049.npy',\n",
       " 'HFH_024_050.npy',\n",
       " 'HFH_024_051.npy',\n",
       " 'HFH_024_052.npy',\n",
       " 'HFH_024_053.npy',\n",
       " 'HFH_024_054.npy',\n",
       " 'HFH_024_055.npy',\n",
       " 'HFH_024_056.npy',\n",
       " 'HFH_024_057.npy',\n",
       " 'HFH_024_058.npy',\n",
       " 'HFH_024_059.npy',\n",
       " 'HFH_024_060.npy',\n",
       " 'HFH_024_061.npy',\n",
       " 'HFH_024_062.npy',\n",
       " 'HFH_024_063.npy',\n",
       " 'HFH_024_064.npy',\n",
       " 'HFH_024_065.npy',\n",
       " 'HFH_024_066.npy',\n",
       " 'HFH_025_043.npy',\n",
       " 'HFH_025_044.npy',\n",
       " 'HFH_025_045.npy',\n",
       " 'HFH_025_046.npy',\n",
       " 'HFH_025_047.npy',\n",
       " 'HFH_025_048.npy',\n",
       " 'HFH_025_049.npy',\n",
       " 'HFH_025_050.npy',\n",
       " 'HFH_025_051.npy',\n",
       " 'HFH_025_052.npy',\n",
       " 'HFH_025_053.npy',\n",
       " 'HFH_025_054.npy',\n",
       " 'HFH_025_055.npy',\n",
       " 'HFH_025_056.npy',\n",
       " 'HFH_025_057.npy',\n",
       " 'HFH_025_058.npy',\n",
       " 'HFH_025_059.npy',\n",
       " 'HFH_025_060.npy']"
      ]
     },
     "execution_count": 3,
     "metadata": {},
     "output_type": "execute_result"
    }
   ],
   "source": [
    "import os\n",
    "\n",
    "TRAIN_DATA_DIR = os.path.join(os.curdir, \"dataset\", \"train\", \"data\")\n",
    "TRAIN_LABEL_DIR = os.path.join(os.curdir, \"dataset\", \"train\", \"label\")\n",
    "VAL_DATA_DIR = os.path.join(os.curdir, \"dataset\", \"validation\", \"data\")\n",
    "VAL_LABEL_DIR = os.path.join(os.curdir, \"dataset\", \"validation\", \"label\")\n",
    "\n",
    "\n",
    "def get_filenames(data_dir):\n",
    "    return [filename for filename in sorted(os.listdir(data_dir))]\n",
    "\n",
    "\n",
    "get_filenames(TRAIN_DATA_DIR)\n"
   ]
  },
  {
   "cell_type": "code",
   "execution_count": 4,
   "metadata": {},
   "outputs": [
    {
     "name": "stdout",
     "output_type": "stream",
     "text": [
      "94\n",
      "89\n",
      "93\n",
      "96\n",
      "87\n"
     ]
    }
   ],
   "source": [
    "def get_filenames_5fold(filenames):\n",
    "    filenames_5fold = []\n",
    "    for _ in range(5):\n",
    "        filenames_5fold.append([])\n",
    "    for filename in filenames:\n",
    "        index = (int(filename.split(\"_\")[1]) - 1) // 5\n",
    "        filenames_5fold[index].append(filename)\n",
    "    return filenames_5fold\n",
    "\n",
    "\n",
    "for item in get_filenames_5fold(get_filenames(TRAIN_DATA_DIR)):\n",
    "    print(len(item))\n"
   ]
  },
  {
   "cell_type": "code",
   "execution_count": 5,
   "metadata": {},
   "outputs": [
    {
     "name": "stdout",
     "output_type": "stream",
     "text": [
      "(256, 256, 1) float32\n",
      "1.0     15334\n",
      "2.0     14017\n",
      "3.0     10434\n",
      "0.0     10041\n",
      "4.0      6672\n",
      "5.0      4229\n",
      "6.0      2310\n",
      "7.0      1315\n",
      "8.0       682\n",
      "9.0       291\n",
      "10.0      125\n",
      "11.0       53\n",
      "12.0       23\n",
      "13.0        6\n",
      "14.0        2\n",
      "16.0        1\n",
      "15.0        1\n",
      "dtype: int64\n"
     ]
    }
   ],
   "source": [
    "import numpy as np\n",
    "import pandas as pd\n",
    "\n",
    "\n",
    "def yield_dataset_in(filenames_5fold, index, data_dir, label_dir):\n",
    "    for filename in filenames_5fold[index]:\n",
    "        with open(os.path.join(data_dir, filename), \"rb\") as f:\n",
    "            data = np.load(f).astype(np.float32)[..., np.newaxis]\n",
    "        with open(os.path.join(label_dir, filename), \"rb\") as f:\n",
    "            label = np.load(f).astype(int)\n",
    "        yield data, label\n",
    "\n",
    "\n",
    "for data, label in yield_dataset_in(\n",
    "    get_filenames_5fold(get_filenames(VAL_DATA_DIR)), 1, VAL_DATA_DIR, VAL_LABEL_DIR\n",
    "):\n",
    "    print(data.shape, data.dtype)\n",
    "    print(pd.Series(data.flatten()).value_counts())\n",
    "    break\n"
   ]
  },
  {
   "cell_type": "code",
   "execution_count": 6,
   "metadata": {},
   "outputs": [
    {
     "name": "stdout",
     "output_type": "stream",
     "text": [
      "(256, 256, 1) float32\n",
      "1.0      3220\n",
      "2.0      3053\n",
      "3.0      3005\n",
      "4.0      2644\n",
      "5.0      2493\n",
      "         ... \n",
      "257.0       1\n",
      "263.0       1\n",
      "226.0       1\n",
      "234.0       1\n",
      "237.0       1\n",
      "Length: 253, dtype: int64\n",
      "(256, 256, 3) float32\n",
      "0    131072\n",
      "1     65536\n",
      "dtype: int64\n"
     ]
    }
   ],
   "source": [
    "import numpy as np\n",
    "import pandas as pd\n",
    "\n",
    "\n",
    "def yield_dataset_except(filenames_5fold, index, data_dir, label_dir):\n",
    "    for filenames in filenames_5fold[:index] + filenames_5fold[index + 1 :]:\n",
    "        for filename in filenames:\n",
    "            with open(os.path.join(data_dir, filename), \"rb\") as f:\n",
    "                data = np.load(f).astype(np.float32)[..., np.newaxis]\n",
    "            with open(os.path.join(label_dir, filename), \"rb\") as f:\n",
    "                label = np.load(f).astype(int)\n",
    "            yield data, label\n",
    "\n",
    "\n",
    "for data, label in yield_dataset_except(\n",
    "    get_filenames_5fold(get_filenames(TRAIN_DATA_DIR)), 1, TRAIN_DATA_DIR, TRAIN_LABEL_DIR\n",
    "):\n",
    "    print(data.shape, data.dtype)\n",
    "    print(pd.Series(data.flatten()).value_counts())\n",
    "    print(label.shape, data.dtype)\n",
    "    print(pd.Series(label.flatten()).value_counts())\n",
    "    break\n"
   ]
  },
  {
   "cell_type": "code",
   "execution_count": 7,
   "metadata": {},
   "outputs": [
    {
     "data": {
      "text/plain": [
       "<FlatMapDataset element_spec=(TensorSpec(shape=(256, 256, 1), dtype=tf.float32, name=None), TensorSpec(shape=(256, 256, 3), dtype=tf.float32, name=None))>"
      ]
     },
     "execution_count": 7,
     "metadata": {},
     "output_type": "execute_result"
    }
   ],
   "source": [
    "import tensorflow as tf\n",
    "\n",
    "\n",
    "def get_dataset_in(filenames_5fold, index, data_dir, label_dir):\n",
    "    output_signature = (\n",
    "        tf.TensorSpec(shape=(*IMAGE_SIZE, 1)),\n",
    "        tf.TensorSpec(shape=(*IMAGE_SIZE, 3)),\n",
    "    )\n",
    "    return tf.data.Dataset.from_generator(\n",
    "        lambda: yield_dataset_in(filenames_5fold, index, data_dir, label_dir),\n",
    "        output_signature=output_signature,\n",
    "    )\n",
    "\n",
    "\n",
    "get_dataset_in(\n",
    "    get_filenames_5fold(get_filenames(TRAIN_DATA_DIR)),\n",
    "    0,\n",
    "    TRAIN_DATA_DIR,\n",
    "    TRAIN_LABEL_DIR,\n",
    ")\n"
   ]
  },
  {
   "cell_type": "code",
   "execution_count": 8,
   "metadata": {},
   "outputs": [
    {
     "data": {
      "text/plain": [
       "<FlatMapDataset element_spec=(TensorSpec(shape=(256, 256, 1), dtype=tf.float32, name=None), TensorSpec(shape=(256, 256, 3), dtype=tf.float32, name=None))>"
      ]
     },
     "execution_count": 8,
     "metadata": {},
     "output_type": "execute_result"
    }
   ],
   "source": [
    "def get_dataset_except(filenames_5fold, index, data_dir, label_dir):\n",
    "    output_signature = (\n",
    "        tf.TensorSpec(shape=(*IMAGE_SIZE, 1)),\n",
    "        tf.TensorSpec(shape=(*IMAGE_SIZE, 3)),\n",
    "    )\n",
    "    return tf.data.Dataset.from_generator(\n",
    "        lambda: yield_dataset_except(filenames_5fold, index, data_dir, label_dir),\n",
    "        output_signature=output_signature,\n",
    "    )\n",
    "\n",
    "\n",
    "get_dataset_in(\n",
    "    get_filenames_5fold(get_filenames(TRAIN_DATA_DIR)),\n",
    "    0,\n",
    "    TRAIN_DATA_DIR,\n",
    "    TRAIN_LABEL_DIR,\n",
    ")\n"
   ]
  },
  {
   "cell_type": "code",
   "execution_count": 9,
   "metadata": {},
   "outputs": [
    {
     "name": "stdout",
     "output_type": "stream",
     "text": [
      "<FlatMapDataset element_spec=(TensorSpec(shape=(256, 256, 1), dtype=tf.float32, name=None), TensorSpec(shape=(256, 256, 3), dtype=tf.float32, name=None))>\n",
      "<FlatMapDataset element_spec=(TensorSpec(shape=(256, 256, 1), dtype=tf.float32, name=None), TensorSpec(shape=(256, 256, 3), dtype=tf.float32, name=None))>\n"
     ]
    }
   ],
   "source": [
    "def get_train_set(data_dir, label_dir):\n",
    "    return get_dataset_except(\n",
    "        get_filenames_5fold(get_filenames(data_dir)), 4, data_dir, label_dir\n",
    "    )\n",
    "\n",
    "\n",
    "def get_validation_set(data_dir, label_dir):\n",
    "    return get_dataset_in(\n",
    "        get_filenames_5fold(get_filenames(data_dir)), 4, data_dir, label_dir\n",
    "    )\n",
    "\n",
    "\n",
    "train_dataset = get_train_set(TRAIN_DATA_DIR, TRAIN_LABEL_DIR)\n",
    "val_dataset = get_validation_set(VAL_DATA_DIR, VAL_LABEL_DIR)\n",
    "print(train_dataset)\n",
    "print(val_dataset)\n"
   ]
  },
  {
   "cell_type": "code",
   "execution_count": 10,
   "metadata": {},
   "outputs": [],
   "source": [
    "from typing import Callable, Union\n",
    "from tensorflow.keras import backend as K\n",
    "\n",
    "# https://github.com/maxvfischer/keras-image-segmentation-loss-functions/blob/master/losses/multiclass_losses.py\n",
    "def multiclass_weighted_cross_entropy(\n",
    "    class_weights: list, is_logits: bool = False\n",
    ") -> Callable[[tf.Tensor, tf.Tensor], tf.Tensor]:\n",
    "    \"\"\"\n",
    "    Multi-class weighted cross entropy.\n",
    "        WCE(p, p̂) = −Σp*log(p̂)*class_weights\n",
    "    Used as loss function for multi-class image segmentation with one-hot encoded masks.\n",
    "    :param class_weights: Weight coefficients (list of floats)\n",
    "    :param is_logits: If y_pred are logits (bool)\n",
    "    :return: Weighted cross entropy loss function (Callable[[tf.Tensor, tf.Tensor], tf.Tensor])\n",
    "    \"\"\"\n",
    "    if not isinstance(class_weights, tf.Tensor):\n",
    "        class_weights = tf.constant(class_weights)\n",
    "\n",
    "    def loss(y_true: tf.Tensor, y_pred: tf.Tensor) -> tf.Tensor:\n",
    "        \"\"\"\n",
    "        Computes the weighted cross entropy.\n",
    "        :param y_true: Ground truth (tf.Tensor, shape=(None, None, None, None))\n",
    "        :param y_pred: Predictions (tf.Tensor, shape=(<BATCH_SIZE>, <IMAGE_HEIGHT>, <IMAGE_WIDTH>, <N_CLASSES>))\n",
    "        :return: Weighted cross entropy (tf.Tensor, shape=(<BATCH_SIZE>,))\n",
    "        \"\"\"\n",
    "        assert len(class_weights) == y_pred.shape[-1], (\n",
    "            f\"Number of class_weights ({len(class_weights)}) needs to be the same as number \"\n",
    "            f\"of classes ({y_pred.shape[-1]})\"\n",
    "        )\n",
    "\n",
    "        if is_logits:\n",
    "            y_pred = softmax(y_pred, axis=-1)\n",
    "\n",
    "        y_pred = K.clip(\n",
    "            y_pred, K.epsilon(), 1 - K.epsilon()\n",
    "        )  # To avoid unwanted behaviour in K.log(y_pred)\n",
    "\n",
    "        # p * log(p̂) * class_weights\n",
    "        wce_loss = y_true * K.log(y_pred) * class_weights\n",
    "\n",
    "        # Average over each data point/image in batch\n",
    "        axis_to_reduce = range(1, K.ndim(wce_loss))\n",
    "        wce_loss = K.mean(wce_loss, axis=axis_to_reduce)\n",
    "\n",
    "        return -wce_loss\n",
    "\n",
    "    return loss\n"
   ]
  },
  {
   "cell_type": "markdown",
   "metadata": {},
   "source": [
    "### Loss\n",
    "\n",
    "주어진 데이터에는 배경(classs 0)이 많기 때문에 가중치를 적용한 cross entropy를 사용  \n",
    "가중치를 각각 [10, 100, 100]로 줌\n",
    "\n",
    "### Metrics\n",
    "\n",
    "- 배경을 제외한 Mean IoU\n",
    "- 배경을 포함한 Mean IoU\n"
   ]
  },
  {
   "cell_type": "code",
   "execution_count": 11,
   "metadata": {},
   "outputs": [],
   "source": [
    "model.compile(\n",
    "    tf.keras.optimizers.Adam(learning_rate=2e-4),\n",
    "    multiclass_weighted_cross_entropy([10.0, 100.0, 100.0]),\n",
    "    [\n",
    "        tf.keras.metrics.OneHotMeanIoU(\n",
    "            ignore_class=0, num_classes=3, name=\"MeanIOU_no_background\"\n",
    "        ),\n",
    "        tf.keras.metrics.OneHotMeanIoU(num_classes=3, name=\"MeanIOU\"),\n",
    "    ],\n",
    ")\n"
   ]
  },
  {
   "cell_type": "markdown",
   "metadata": {},
   "source": [
    "### 데이터 세트\n",
    "\n",
    "기존 이미지 중 20개를 훈련 세트로, 5개를 검증 세트로 설정함\n",
    "기존 이미지를 채널마다 다른 이미지로 저장하여 데이터세트 늘림\n",
    "단 학습시킬 때는 1 또는 2 값의 레이블이 있는 데이터만 사용함\n",
    "(Validate는 그렇게 하지 않음)\n"
   ]
  },
  {
   "cell_type": "markdown",
   "metadata": {},
   "source": [
    "### 훈련\n",
    "\n",
    "Ealry Stopping을 적용함  \n",
    "batch size를 8로 하고, 매 epoch마다 random shuffle함\n"
   ]
  },
  {
   "cell_type": "code",
   "execution_count": 12,
   "metadata": {},
   "outputs": [
    {
     "name": "stdout",
     "output_type": "stream",
     "text": [
      "Epoch 1/300\n"
     ]
    },
    {
     "name": "stderr",
     "output_type": "stream",
     "text": [
      "2022-11-20 15:57:57.414649: I tensorflow/stream_executor/cuda/cuda_dnn.cc:384] Loaded cuDNN version 8101\n",
      "2022-11-20 15:57:58.183618: I tensorflow/core/platform/default/subprocess.cc:304] Start cannot spawn child process: No such file or directory\n"
     ]
    },
    {
     "name": "stdout",
     "output_type": "stream",
     "text": [
      "     47/Unknown - 18s 188ms/step - loss: 2.4037 - MeanIOU_no_background: 0.0686 - MeanIOU: 0.2581"
     ]
    },
    {
     "name": "stderr",
     "output_type": "stream",
     "text": [
      "WARNING:absl:Found untraced functions such as _jit_compiled_convolution_op, _jit_compiled_convolution_op, _jit_compiled_convolution_op, _jit_compiled_convolution_op, _jit_compiled_convolution_op while saving (showing 5 of 24). These functions will not be directly callable after loading.\n"
     ]
    },
    {
     "name": "stdout",
     "output_type": "stream",
     "text": [
      "INFO:tensorflow:Assets written to: model/assets\n"
     ]
    },
    {
     "name": "stderr",
     "output_type": "stream",
     "text": [
      "INFO:tensorflow:Assets written to: model/assets\n"
     ]
    },
    {
     "name": "stdout",
     "output_type": "stream",
     "text": [
      "47/47 [==============================] - 28s 407ms/step - loss: 2.4037 - MeanIOU_no_background: 0.0686 - MeanIOU: 0.2581 - val_loss: 1.2222 - val_MeanIOU_no_background: 0.0000e+00 - val_MeanIOU: 0.3332\n",
      "Epoch 2/300\n",
      "47/47 [==============================] - ETA: 0s - loss: 0.4773 - MeanIOU_no_background: 0.0015 - MeanIOU: 0.3310"
     ]
    },
    {
     "name": "stderr",
     "output_type": "stream",
     "text": [
      "WARNING:absl:Found untraced functions such as _jit_compiled_convolution_op, _jit_compiled_convolution_op, _jit_compiled_convolution_op, _jit_compiled_convolution_op, _jit_compiled_convolution_op while saving (showing 5 of 24). These functions will not be directly callable after loading.\n"
     ]
    },
    {
     "name": "stdout",
     "output_type": "stream",
     "text": [
      "INFO:tensorflow:Assets written to: model/assets\n"
     ]
    },
    {
     "name": "stderr",
     "output_type": "stream",
     "text": [
      "INFO:tensorflow:Assets written to: model/assets\n"
     ]
    },
    {
     "name": "stdout",
     "output_type": "stream",
     "text": [
      "47/47 [==============================] - 16s 335ms/step - loss: 0.4773 - MeanIOU_no_background: 0.0015 - MeanIOU: 0.3310 - val_loss: 0.4467 - val_MeanIOU_no_background: 0.0000e+00 - val_MeanIOU: 0.3332\n",
      "Epoch 3/300\n",
      "47/47 [==============================] - 11s 211ms/step - loss: 0.3335 - MeanIOU_no_background: 3.5238e-04 - MeanIOU: 0.3322 - val_loss: 0.4762 - val_MeanIOU_no_background: 0.0000e+00 - val_MeanIOU: 0.3332\n",
      "Epoch 4/300\n",
      "47/47 [==============================] - 11s 212ms/step - loss: 0.3209 - MeanIOU_no_background: 6.5620e-05 - MeanIOU: 0.3322 - val_loss: 0.4950 - val_MeanIOU_no_background: 0.0000e+00 - val_MeanIOU: 0.3332\n",
      "Epoch 5/300\n",
      "47/47 [==============================] - 11s 211ms/step - loss: 0.2655 - MeanIOU_no_background: 0.0032 - MeanIOU: 0.3351 - val_loss: 0.4521 - val_MeanIOU_no_background: 0.0011 - val_MeanIOU: 0.3340\n",
      "Epoch 6/300\n",
      "47/47 [==============================] - ETA: 0s - loss: 0.2306 - MeanIOU_no_background: 0.0197 - MeanIOU: 0.3491"
     ]
    },
    {
     "name": "stderr",
     "output_type": "stream",
     "text": [
      "WARNING:absl:Found untraced functions such as _jit_compiled_convolution_op, _jit_compiled_convolution_op, _jit_compiled_convolution_op, _jit_compiled_convolution_op, _jit_compiled_convolution_op while saving (showing 5 of 24). These functions will not be directly callable after loading.\n"
     ]
    },
    {
     "name": "stdout",
     "output_type": "stream",
     "text": [
      "INFO:tensorflow:Assets written to: model/assets\n"
     ]
    },
    {
     "name": "stderr",
     "output_type": "stream",
     "text": [
      "INFO:tensorflow:Assets written to: model/assets\n"
     ]
    },
    {
     "name": "stdout",
     "output_type": "stream",
     "text": [
      "47/47 [==============================] - 16s 326ms/step - loss: 0.2306 - MeanIOU_no_background: 0.0197 - MeanIOU: 0.3491 - val_loss: 0.2798 - val_MeanIOU_no_background: 0.0542 - val_MeanIOU: 0.3459\n",
      "Epoch 7/300\n",
      "47/47 [==============================] - 11s 210ms/step - loss: 0.2102 - MeanIOU_no_background: 0.0599 - MeanIOU: 0.3721 - val_loss: 0.3425 - val_MeanIOU_no_background: 0.0923 - val_MeanIOU: 0.3481\n",
      "Epoch 8/300\n",
      "47/47 [==============================] - ETA: 0s - loss: 0.2035 - MeanIOU_no_background: 0.0851 - MeanIOU: 0.3846"
     ]
    },
    {
     "name": "stderr",
     "output_type": "stream",
     "text": [
      "WARNING:absl:Found untraced functions such as _jit_compiled_convolution_op, _jit_compiled_convolution_op, _jit_compiled_convolution_op, _jit_compiled_convolution_op, _jit_compiled_convolution_op while saving (showing 5 of 24). These functions will not be directly callable after loading.\n"
     ]
    },
    {
     "name": "stdout",
     "output_type": "stream",
     "text": [
      "INFO:tensorflow:Assets written to: model/assets\n"
     ]
    },
    {
     "name": "stderr",
     "output_type": "stream",
     "text": [
      "INFO:tensorflow:Assets written to: model/assets\n"
     ]
    },
    {
     "name": "stdout",
     "output_type": "stream",
     "text": [
      "47/47 [==============================] - 16s 325ms/step - loss: 0.2035 - MeanIOU_no_background: 0.0851 - MeanIOU: 0.3846 - val_loss: 0.2020 - val_MeanIOU_no_background: 0.1168 - val_MeanIOU: 0.3497\n",
      "Epoch 9/300\n",
      "47/47 [==============================] - ETA: 0s - loss: 0.1953 - MeanIOU_no_background: 0.0707 - MeanIOU: 0.3760"
     ]
    },
    {
     "name": "stderr",
     "output_type": "stream",
     "text": [
      "WARNING:absl:Found untraced functions such as _jit_compiled_convolution_op, _jit_compiled_convolution_op, _jit_compiled_convolution_op, _jit_compiled_convolution_op, _jit_compiled_convolution_op while saving (showing 5 of 24). These functions will not be directly callable after loading.\n"
     ]
    },
    {
     "name": "stdout",
     "output_type": "stream",
     "text": [
      "INFO:tensorflow:Assets written to: model/assets\n"
     ]
    },
    {
     "name": "stderr",
     "output_type": "stream",
     "text": [
      "INFO:tensorflow:Assets written to: model/assets\n"
     ]
    },
    {
     "name": "stdout",
     "output_type": "stream",
     "text": [
      "47/47 [==============================] - 16s 330ms/step - loss: 0.1953 - MeanIOU_no_background: 0.0707 - MeanIOU: 0.3760 - val_loss: 0.1394 - val_MeanIOU_no_background: 0.0839 - val_MeanIOU: 0.3511\n",
      "Epoch 10/300\n",
      "47/47 [==============================] - ETA: 0s - loss: 0.1855 - MeanIOU_no_background: 0.0359 - MeanIOU: 0.3576"
     ]
    },
    {
     "name": "stderr",
     "output_type": "stream",
     "text": [
      "WARNING:absl:Found untraced functions such as _jit_compiled_convolution_op, _jit_compiled_convolution_op, _jit_compiled_convolution_op, _jit_compiled_convolution_op, _jit_compiled_convolution_op while saving (showing 5 of 24). These functions will not be directly callable after loading.\n"
     ]
    },
    {
     "name": "stdout",
     "output_type": "stream",
     "text": [
      "INFO:tensorflow:Assets written to: model/assets\n"
     ]
    },
    {
     "name": "stderr",
     "output_type": "stream",
     "text": [
      "INFO:tensorflow:Assets written to: model/assets\n"
     ]
    },
    {
     "name": "stdout",
     "output_type": "stream",
     "text": [
      "47/47 [==============================] - 16s 327ms/step - loss: 0.1855 - MeanIOU_no_background: 0.0359 - MeanIOU: 0.3576 - val_loss: 0.0855 - val_MeanIOU_no_background: 0.0331 - val_MeanIOU: 0.3434\n",
      "Epoch 11/300\n",
      "47/47 [==============================] - 11s 211ms/step - loss: 0.1810 - MeanIOU_no_background: 0.0492 - MeanIOU: 0.3645 - val_loss: 0.1439 - val_MeanIOU_no_background: 0.0351 - val_MeanIOU: 0.3423\n",
      "Epoch 12/300\n",
      "47/47 [==============================] - 11s 210ms/step - loss: 0.1695 - MeanIOU_no_background: 0.0191 - MeanIOU: 0.3468 - val_loss: 0.0873 - val_MeanIOU_no_background: 0.0371 - val_MeanIOU: 0.3420\n",
      "Epoch 13/300\n",
      "47/47 [==============================] - 11s 210ms/step - loss: 0.1691 - MeanIOU_no_background: 0.0237 - MeanIOU: 0.3495 - val_loss: 0.1062 - val_MeanIOU_no_background: 0.0524 - val_MeanIOU: 0.3457\n",
      "Epoch 14/300\n",
      "47/47 [==============================] - ETA: 0s - loss: 0.1564 - MeanIOU_no_background: 0.0229 - MeanIOU: 0.3491"
     ]
    },
    {
     "name": "stderr",
     "output_type": "stream",
     "text": [
      "WARNING:absl:Found untraced functions such as _jit_compiled_convolution_op, _jit_compiled_convolution_op, _jit_compiled_convolution_op, _jit_compiled_convolution_op, _jit_compiled_convolution_op while saving (showing 5 of 24). These functions will not be directly callable after loading.\n"
     ]
    },
    {
     "name": "stdout",
     "output_type": "stream",
     "text": [
      "INFO:tensorflow:Assets written to: model/assets\n"
     ]
    },
    {
     "name": "stderr",
     "output_type": "stream",
     "text": [
      "INFO:tensorflow:Assets written to: model/assets\n"
     ]
    },
    {
     "name": "stdout",
     "output_type": "stream",
     "text": [
      "47/47 [==============================] - 16s 328ms/step - loss: 0.1564 - MeanIOU_no_background: 0.0229 - MeanIOU: 0.3491 - val_loss: 0.0677 - val_MeanIOU_no_background: 0.0557 - val_MeanIOU: 0.3487\n",
      "Epoch 15/300\n",
      "47/47 [==============================] - 11s 210ms/step - loss: 0.1541 - MeanIOU_no_background: 0.0582 - MeanIOU: 0.3685 - val_loss: 0.1066 - val_MeanIOU_no_background: 0.1235 - val_MeanIOU: 0.3591\n",
      "Epoch 16/300\n",
      "47/47 [==============================] - 11s 212ms/step - loss: 0.1482 - MeanIOU_no_background: 0.1231 - MeanIOU: 0.4023 - val_loss: 0.0958 - val_MeanIOU_no_background: 0.1546 - val_MeanIOU: 0.3690\n",
      "Epoch 17/300\n",
      "47/47 [==============================] - ETA: 0s - loss: 0.1488 - MeanIOU_no_background: 0.1698 - MeanIOU: 0.4285"
     ]
    },
    {
     "name": "stderr",
     "output_type": "stream",
     "text": [
      "WARNING:absl:Found untraced functions such as _jit_compiled_convolution_op, _jit_compiled_convolution_op, _jit_compiled_convolution_op, _jit_compiled_convolution_op, _jit_compiled_convolution_op while saving (showing 5 of 24). These functions will not be directly callable after loading.\n"
     ]
    },
    {
     "name": "stdout",
     "output_type": "stream",
     "text": [
      "INFO:tensorflow:Assets written to: model/assets\n"
     ]
    },
    {
     "name": "stderr",
     "output_type": "stream",
     "text": [
      "INFO:tensorflow:Assets written to: model/assets\n"
     ]
    },
    {
     "name": "stdout",
     "output_type": "stream",
     "text": [
      "47/47 [==============================] - 16s 326ms/step - loss: 0.1488 - MeanIOU_no_background: 0.1698 - MeanIOU: 0.4285 - val_loss: 0.0617 - val_MeanIOU_no_background: 0.1771 - val_MeanIOU: 0.3910\n",
      "Epoch 18/300\n",
      "47/47 [==============================] - ETA: 0s - loss: 0.1384 - MeanIOU_no_background: 0.1966 - MeanIOU: 0.4485"
     ]
    },
    {
     "name": "stderr",
     "output_type": "stream",
     "text": [
      "WARNING:absl:Found untraced functions such as _jit_compiled_convolution_op, _jit_compiled_convolution_op, _jit_compiled_convolution_op, _jit_compiled_convolution_op, _jit_compiled_convolution_op while saving (showing 5 of 24). These functions will not be directly callable after loading.\n"
     ]
    },
    {
     "name": "stdout",
     "output_type": "stream",
     "text": [
      "INFO:tensorflow:Assets written to: model/assets\n"
     ]
    },
    {
     "name": "stderr",
     "output_type": "stream",
     "text": [
      "INFO:tensorflow:Assets written to: model/assets\n"
     ]
    },
    {
     "name": "stdout",
     "output_type": "stream",
     "text": [
      "47/47 [==============================] - 16s 328ms/step - loss: 0.1384 - MeanIOU_no_background: 0.1966 - MeanIOU: 0.4485 - val_loss: 0.0510 - val_MeanIOU_no_background: 0.1990 - val_MeanIOU: 0.4012\n",
      "Epoch 19/300\n",
      "47/47 [==============================] - 11s 210ms/step - loss: 0.1329 - MeanIOU_no_background: 0.2314 - MeanIOU: 0.4725 - val_loss: 0.0548 - val_MeanIOU_no_background: 0.2002 - val_MeanIOU: 0.3836\n",
      "Epoch 20/300\n",
      "47/47 [==============================] - ETA: 0s - loss: 0.1302 - MeanIOU_no_background: 0.2308 - MeanIOU: 0.4705"
     ]
    },
    {
     "name": "stderr",
     "output_type": "stream",
     "text": [
      "WARNING:absl:Found untraced functions such as _jit_compiled_convolution_op, _jit_compiled_convolution_op, _jit_compiled_convolution_op, _jit_compiled_convolution_op, _jit_compiled_convolution_op while saving (showing 5 of 24). These functions will not be directly callable after loading.\n"
     ]
    },
    {
     "name": "stdout",
     "output_type": "stream",
     "text": [
      "INFO:tensorflow:Assets written to: model/assets\n"
     ]
    },
    {
     "name": "stderr",
     "output_type": "stream",
     "text": [
      "INFO:tensorflow:Assets written to: model/assets\n"
     ]
    },
    {
     "name": "stdout",
     "output_type": "stream",
     "text": [
      "47/47 [==============================] - 16s 322ms/step - loss: 0.1302 - MeanIOU_no_background: 0.2308 - MeanIOU: 0.4705 - val_loss: 0.0465 - val_MeanIOU_no_background: 0.1784 - val_MeanIOU: 0.3766\n",
      "Epoch 21/300\n",
      "47/47 [==============================] - ETA: 0s - loss: 0.1270 - MeanIOU_no_background: 0.2059 - MeanIOU: 0.4547"
     ]
    },
    {
     "name": "stderr",
     "output_type": "stream",
     "text": [
      "WARNING:absl:Found untraced functions such as _jit_compiled_convolution_op, _jit_compiled_convolution_op, _jit_compiled_convolution_op, _jit_compiled_convolution_op, _jit_compiled_convolution_op while saving (showing 5 of 24). These functions will not be directly callable after loading.\n"
     ]
    },
    {
     "name": "stdout",
     "output_type": "stream",
     "text": [
      "INFO:tensorflow:Assets written to: model/assets\n"
     ]
    },
    {
     "name": "stderr",
     "output_type": "stream",
     "text": [
      "INFO:tensorflow:Assets written to: model/assets\n"
     ]
    },
    {
     "name": "stdout",
     "output_type": "stream",
     "text": [
      "47/47 [==============================] - 16s 325ms/step - loss: 0.1270 - MeanIOU_no_background: 0.2059 - MeanIOU: 0.4547 - val_loss: 0.0434 - val_MeanIOU_no_background: 0.1691 - val_MeanIOU: 0.3757\n",
      "Epoch 22/300\n",
      "47/47 [==============================] - 11s 213ms/step - loss: 0.1235 - MeanIOU_no_background: 0.1921 - MeanIOU: 0.4503 - val_loss: 0.0492 - val_MeanIOU_no_background: 0.1624 - val_MeanIOU: 0.3750\n",
      "Epoch 23/300\n",
      "47/47 [==============================] - 11s 212ms/step - loss: 0.1237 - MeanIOU_no_background: 0.1901 - MeanIOU: 0.4484 - val_loss: 0.0499 - val_MeanIOU_no_background: 0.1659 - val_MeanIOU: 0.3669\n",
      "Epoch 24/300\n",
      "47/47 [==============================] - ETA: 0s - loss: 0.1274 - MeanIOU_no_background: 0.1912 - MeanIOU: 0.4452"
     ]
    },
    {
     "name": "stderr",
     "output_type": "stream",
     "text": [
      "WARNING:absl:Found untraced functions such as _jit_compiled_convolution_op, _jit_compiled_convolution_op, _jit_compiled_convolution_op, _jit_compiled_convolution_op, _jit_compiled_convolution_op while saving (showing 5 of 24). These functions will not be directly callable after loading.\n"
     ]
    },
    {
     "name": "stdout",
     "output_type": "stream",
     "text": [
      "INFO:tensorflow:Assets written to: model/assets\n"
     ]
    },
    {
     "name": "stderr",
     "output_type": "stream",
     "text": [
      "INFO:tensorflow:Assets written to: model/assets\n"
     ]
    },
    {
     "name": "stdout",
     "output_type": "stream",
     "text": [
      "47/47 [==============================] - 16s 324ms/step - loss: 0.1274 - MeanIOU_no_background: 0.1912 - MeanIOU: 0.4452 - val_loss: 0.0431 - val_MeanIOU_no_background: 0.1648 - val_MeanIOU: 0.3769\n",
      "Epoch 25/300\n",
      "47/47 [==============================] - ETA: 0s - loss: 0.1261 - MeanIOU_no_background: 0.1934 - MeanIOU: 0.4485"
     ]
    },
    {
     "name": "stderr",
     "output_type": "stream",
     "text": [
      "WARNING:absl:Found untraced functions such as _jit_compiled_convolution_op, _jit_compiled_convolution_op, _jit_compiled_convolution_op, _jit_compiled_convolution_op, _jit_compiled_convolution_op while saving (showing 5 of 24). These functions will not be directly callable after loading.\n"
     ]
    },
    {
     "name": "stdout",
     "output_type": "stream",
     "text": [
      "INFO:tensorflow:Assets written to: model/assets\n"
     ]
    },
    {
     "name": "stderr",
     "output_type": "stream",
     "text": [
      "INFO:tensorflow:Assets written to: model/assets\n"
     ]
    },
    {
     "name": "stdout",
     "output_type": "stream",
     "text": [
      "47/47 [==============================] - 16s 325ms/step - loss: 0.1261 - MeanIOU_no_background: 0.1934 - MeanIOU: 0.4485 - val_loss: 0.0381 - val_MeanIOU_no_background: 0.1815 - val_MeanIOU: 0.3894\n",
      "Epoch 26/300\n",
      "47/47 [==============================] - 11s 211ms/step - loss: 0.1227 - MeanIOU_no_background: 0.1955 - MeanIOU: 0.4583 - val_loss: 0.5464 - val_MeanIOU_no_background: 0.1774 - val_MeanIOU: 0.3113\n",
      "Epoch 27/300\n",
      "47/47 [==============================] - 11s 211ms/step - loss: 0.1560 - MeanIOU_no_background: 0.1938 - MeanIOU: 0.4325 - val_loss: 0.0988 - val_MeanIOU_no_background: 0.1425 - val_MeanIOU: 0.3649\n",
      "Epoch 28/300\n",
      "47/47 [==============================] - ETA: 0s - loss: 0.1340 - MeanIOU_no_background: 0.1974 - MeanIOU: 0.4469"
     ]
    },
    {
     "name": "stderr",
     "output_type": "stream",
     "text": [
      "WARNING:absl:Found untraced functions such as _jit_compiled_convolution_op, _jit_compiled_convolution_op, _jit_compiled_convolution_op, _jit_compiled_convolution_op, _jit_compiled_convolution_op while saving (showing 5 of 24). These functions will not be directly callable after loading.\n"
     ]
    },
    {
     "name": "stdout",
     "output_type": "stream",
     "text": [
      "INFO:tensorflow:Assets written to: model/assets\n"
     ]
    },
    {
     "name": "stderr",
     "output_type": "stream",
     "text": [
      "INFO:tensorflow:Assets written to: model/assets\n"
     ]
    },
    {
     "name": "stdout",
     "output_type": "stream",
     "text": [
      "47/47 [==============================] - 16s 326ms/step - loss: 0.1340 - MeanIOU_no_background: 0.1974 - MeanIOU: 0.4469 - val_loss: 0.0334 - val_MeanIOU_no_background: 0.1745 - val_MeanIOU: 0.3853\n",
      "Epoch 29/300\n",
      "47/47 [==============================] - 11s 210ms/step - loss: 0.1190 - MeanIOU_no_background: 0.2043 - MeanIOU: 0.4624 - val_loss: 0.0352 - val_MeanIOU_no_background: 0.1773 - val_MeanIOU: 0.3928\n",
      "Epoch 30/300\n",
      "47/47 [==============================] - 11s 210ms/step - loss: 0.1130 - MeanIOU_no_background: 0.2094 - MeanIOU: 0.4723 - val_loss: 0.0338 - val_MeanIOU_no_background: 0.1812 - val_MeanIOU: 0.3902\n",
      "Epoch 31/300\n",
      "47/47 [==============================] - 11s 211ms/step - loss: 0.1075 - MeanIOU_no_background: 0.2127 - MeanIOU: 0.4765 - val_loss: 0.0403 - val_MeanIOU_no_background: 0.1741 - val_MeanIOU: 0.3762\n",
      "Epoch 32/300\n",
      "47/47 [==============================] - ETA: 0s - loss: 0.1034 - MeanIOU_no_background: 0.2213 - MeanIOU: 0.4881"
     ]
    },
    {
     "name": "stderr",
     "output_type": "stream",
     "text": [
      "WARNING:absl:Found untraced functions such as _jit_compiled_convolution_op, _jit_compiled_convolution_op, _jit_compiled_convolution_op, _jit_compiled_convolution_op, _jit_compiled_convolution_op while saving (showing 5 of 24). These functions will not be directly callable after loading.\n"
     ]
    },
    {
     "name": "stdout",
     "output_type": "stream",
     "text": [
      "INFO:tensorflow:Assets written to: model/assets\n"
     ]
    },
    {
     "name": "stderr",
     "output_type": "stream",
     "text": [
      "INFO:tensorflow:Assets written to: model/assets\n"
     ]
    },
    {
     "name": "stdout",
     "output_type": "stream",
     "text": [
      "47/47 [==============================] - 16s 324ms/step - loss: 0.1034 - MeanIOU_no_background: 0.2213 - MeanIOU: 0.4881 - val_loss: 0.0321 - val_MeanIOU_no_background: 0.1797 - val_MeanIOU: 0.4007\n",
      "Epoch 33/300\n",
      "47/47 [==============================] - ETA: 0s - loss: 0.1010 - MeanIOU_no_background: 0.2274 - MeanIOU: 0.4942"
     ]
    },
    {
     "name": "stderr",
     "output_type": "stream",
     "text": [
      "WARNING:absl:Found untraced functions such as _jit_compiled_convolution_op, _jit_compiled_convolution_op, _jit_compiled_convolution_op, _jit_compiled_convolution_op, _jit_compiled_convolution_op while saving (showing 5 of 24). These functions will not be directly callable after loading.\n"
     ]
    },
    {
     "name": "stdout",
     "output_type": "stream",
     "text": [
      "INFO:tensorflow:Assets written to: model/assets\n"
     ]
    },
    {
     "name": "stderr",
     "output_type": "stream",
     "text": [
      "INFO:tensorflow:Assets written to: model/assets\n"
     ]
    },
    {
     "name": "stdout",
     "output_type": "stream",
     "text": [
      "47/47 [==============================] - 16s 326ms/step - loss: 0.1010 - MeanIOU_no_background: 0.2274 - MeanIOU: 0.4942 - val_loss: 0.0300 - val_MeanIOU_no_background: 0.1804 - val_MeanIOU: 0.4015\n",
      "Epoch 34/300\n",
      "47/47 [==============================] - 11s 209ms/step - loss: 0.0989 - MeanIOU_no_background: 0.2458 - MeanIOU: 0.5083 - val_loss: 0.0304 - val_MeanIOU_no_background: 0.1955 - val_MeanIOU: 0.4070\n",
      "Epoch 35/300\n",
      "47/47 [==============================] - ETA: 0s - loss: 0.0943 - MeanIOU_no_background: 0.3407 - MeanIOU: 0.5715"
     ]
    },
    {
     "name": "stderr",
     "output_type": "stream",
     "text": [
      "WARNING:absl:Found untraced functions such as _jit_compiled_convolution_op, _jit_compiled_convolution_op, _jit_compiled_convolution_op, _jit_compiled_convolution_op, _jit_compiled_convolution_op while saving (showing 5 of 24). These functions will not be directly callable after loading.\n"
     ]
    },
    {
     "name": "stdout",
     "output_type": "stream",
     "text": [
      "INFO:tensorflow:Assets written to: model/assets\n"
     ]
    },
    {
     "name": "stderr",
     "output_type": "stream",
     "text": [
      "INFO:tensorflow:Assets written to: model/assets\n"
     ]
    },
    {
     "name": "stdout",
     "output_type": "stream",
     "text": [
      "47/47 [==============================] - 16s 325ms/step - loss: 0.0943 - MeanIOU_no_background: 0.3407 - MeanIOU: 0.5715 - val_loss: 0.0274 - val_MeanIOU_no_background: 0.4105 - val_MeanIOU: 0.5182\n",
      "Epoch 36/300\n",
      "47/47 [==============================] - 11s 211ms/step - loss: 0.0780 - MeanIOU_no_background: 0.5562 - MeanIOU: 0.6677 - val_loss: 0.0315 - val_MeanIOU_no_background: 0.5855 - val_MeanIOU: 0.4832\n",
      "Epoch 37/300\n",
      "47/47 [==============================] - ETA: 0s - loss: 0.0613 - MeanIOU_no_background: 0.5994 - MeanIOU: 0.6873"
     ]
    },
    {
     "name": "stderr",
     "output_type": "stream",
     "text": [
      "WARNING:absl:Found untraced functions such as _jit_compiled_convolution_op, _jit_compiled_convolution_op, _jit_compiled_convolution_op, _jit_compiled_convolution_op, _jit_compiled_convolution_op while saving (showing 5 of 24). These functions will not be directly callable after loading.\n"
     ]
    },
    {
     "name": "stdout",
     "output_type": "stream",
     "text": [
      "INFO:tensorflow:Assets written to: model/assets\n"
     ]
    },
    {
     "name": "stderr",
     "output_type": "stream",
     "text": [
      "INFO:tensorflow:Assets written to: model/assets\n"
     ]
    },
    {
     "name": "stdout",
     "output_type": "stream",
     "text": [
      "47/47 [==============================] - 16s 324ms/step - loss: 0.0613 - MeanIOU_no_background: 0.5994 - MeanIOU: 0.6873 - val_loss: 0.0242 - val_MeanIOU_no_background: 0.5953 - val_MeanIOU: 0.5067\n",
      "Epoch 38/300\n",
      "47/47 [==============================] - ETA: 0s - loss: 0.0541 - MeanIOU_no_background: 0.6173 - MeanIOU: 0.7046"
     ]
    },
    {
     "name": "stderr",
     "output_type": "stream",
     "text": [
      "WARNING:absl:Found untraced functions such as _jit_compiled_convolution_op, _jit_compiled_convolution_op, _jit_compiled_convolution_op, _jit_compiled_convolution_op, _jit_compiled_convolution_op while saving (showing 5 of 24). These functions will not be directly callable after loading.\n"
     ]
    },
    {
     "name": "stdout",
     "output_type": "stream",
     "text": [
      "INFO:tensorflow:Assets written to: model/assets\n"
     ]
    },
    {
     "name": "stderr",
     "output_type": "stream",
     "text": [
      "INFO:tensorflow:Assets written to: model/assets\n"
     ]
    },
    {
     "name": "stdout",
     "output_type": "stream",
     "text": [
      "47/47 [==============================] - 16s 324ms/step - loss: 0.0541 - MeanIOU_no_background: 0.6173 - MeanIOU: 0.7046 - val_loss: 0.0237 - val_MeanIOU_no_background: 0.5717 - val_MeanIOU: 0.5154\n",
      "Epoch 39/300\n",
      "47/47 [==============================] - 11s 213ms/step - loss: 0.0504 - MeanIOU_no_background: 0.6236 - MeanIOU: 0.7168 - val_loss: 0.0328 - val_MeanIOU_no_background: 0.6267 - val_MeanIOU: 0.4598\n",
      "Epoch 40/300\n",
      "47/47 [==============================] - 12s 250ms/step - loss: 0.0488 - MeanIOU_no_background: 0.6250 - MeanIOU: 0.7192 - val_loss: 0.0240 - val_MeanIOU_no_background: 0.5775 - val_MeanIOU: 0.5139\n",
      "Epoch 41/300\n",
      "47/47 [==============================] - 12s 250ms/step - loss: 0.0460 - MeanIOU_no_background: 0.6292 - MeanIOU: 0.7254 - val_loss: 0.0251 - val_MeanIOU_no_background: 0.5879 - val_MeanIOU: 0.5055\n",
      "Epoch 42/300\n",
      "47/47 [==============================] - ETA: 0s - loss: 0.0443 - MeanIOU_no_background: 0.6326 - MeanIOU: 0.7283"
     ]
    },
    {
     "name": "stderr",
     "output_type": "stream",
     "text": [
      "WARNING:absl:Found untraced functions such as _jit_compiled_convolution_op, _jit_compiled_convolution_op, _jit_compiled_convolution_op, _jit_compiled_convolution_op, _jit_compiled_convolution_op while saving (showing 5 of 24). These functions will not be directly callable after loading.\n"
     ]
    },
    {
     "name": "stdout",
     "output_type": "stream",
     "text": [
      "INFO:tensorflow:Assets written to: model/assets\n"
     ]
    },
    {
     "name": "stderr",
     "output_type": "stream",
     "text": [
      "INFO:tensorflow:Assets written to: model/assets\n"
     ]
    },
    {
     "name": "stdout",
     "output_type": "stream",
     "text": [
      "47/47 [==============================] - 17s 359ms/step - loss: 0.0443 - MeanIOU_no_background: 0.6326 - MeanIOU: 0.7283 - val_loss: 0.0236 - val_MeanIOU_no_background: 0.5797 - val_MeanIOU: 0.5294\n",
      "Epoch 43/300\n",
      "47/47 [==============================] - 13s 250ms/step - loss: 0.0424 - MeanIOU_no_background: 0.6345 - MeanIOU: 0.7354 - val_loss: 0.0247 - val_MeanIOU_no_background: 0.5762 - val_MeanIOU: 0.5246\n",
      "Epoch 44/300\n",
      "47/47 [==============================] - 12s 250ms/step - loss: 0.0417 - MeanIOU_no_background: 0.6353 - MeanIOU: 0.7382 - val_loss: 0.0245 - val_MeanIOU_no_background: 0.5965 - val_MeanIOU: 0.5210\n",
      "Epoch 45/300\n",
      "47/47 [==============================] - 12s 250ms/step - loss: 0.0403 - MeanIOU_no_background: 0.6368 - MeanIOU: 0.7442 - val_loss: 0.0244 - val_MeanIOU_no_background: 0.5940 - val_MeanIOU: 0.5177\n",
      "Epoch 46/300\n",
      "47/47 [==============================] - 12s 249ms/step - loss: 0.0397 - MeanIOU_no_background: 0.6391 - MeanIOU: 0.7431 - val_loss: 0.0253 - val_MeanIOU_no_background: 0.5935 - val_MeanIOU: 0.4898\n",
      "Epoch 47/300\n",
      "47/47 [==============================] - ETA: 0s - loss: 0.0382 - MeanIOU_no_background: 0.6406 - MeanIOU: 0.7452"
     ]
    },
    {
     "name": "stderr",
     "output_type": "stream",
     "text": [
      "WARNING:absl:Found untraced functions such as _jit_compiled_convolution_op, _jit_compiled_convolution_op, _jit_compiled_convolution_op, _jit_compiled_convolution_op, _jit_compiled_convolution_op while saving (showing 5 of 24). These functions will not be directly callable after loading.\n"
     ]
    },
    {
     "name": "stdout",
     "output_type": "stream",
     "text": [
      "INFO:tensorflow:Assets written to: model/assets\n"
     ]
    },
    {
     "name": "stderr",
     "output_type": "stream",
     "text": [
      "INFO:tensorflow:Assets written to: model/assets\n"
     ]
    },
    {
     "name": "stdout",
     "output_type": "stream",
     "text": [
      "47/47 [==============================] - 17s 354ms/step - loss: 0.0382 - MeanIOU_no_background: 0.6406 - MeanIOU: 0.7452 - val_loss: 0.0204 - val_MeanIOU_no_background: 0.5867 - val_MeanIOU: 0.5365\n",
      "Epoch 48/300\n",
      "47/47 [==============================] - 13s 249ms/step - loss: 0.0392 - MeanIOU_no_background: 0.6390 - MeanIOU: 0.7429 - val_loss: 0.0240 - val_MeanIOU_no_background: 0.5899 - val_MeanIOU: 0.4995\n",
      "Epoch 49/300\n",
      "47/47 [==============================] - 12s 249ms/step - loss: 0.0373 - MeanIOU_no_background: 0.6401 - MeanIOU: 0.7494 - val_loss: 0.0229 - val_MeanIOU_no_background: 0.5950 - val_MeanIOU: 0.5223\n",
      "Epoch 50/300\n",
      "47/47 [==============================] - 12s 250ms/step - loss: 0.0362 - MeanIOU_no_background: 0.6426 - MeanIOU: 0.7512 - val_loss: 0.0222 - val_MeanIOU_no_background: 0.5903 - val_MeanIOU: 0.5104\n",
      "Epoch 51/300\n",
      "47/47 [==============================] - 12s 249ms/step - loss: 0.0357 - MeanIOU_no_background: 0.6443 - MeanIOU: 0.7531 - val_loss: 0.0265 - val_MeanIOU_no_background: 0.6175 - val_MeanIOU: 0.4737\n",
      "Epoch 52/300\n",
      "47/47 [==============================] - 12s 250ms/step - loss: 0.0355 - MeanIOU_no_background: 0.6445 - MeanIOU: 0.7549 - val_loss: 0.0284 - val_MeanIOU_no_background: 0.5904 - val_MeanIOU: 0.4820\n",
      "Epoch 53/300\n",
      "47/47 [==============================] - 12s 249ms/step - loss: 0.0357 - MeanIOU_no_background: 0.6447 - MeanIOU: 0.7515 - val_loss: 0.0303 - val_MeanIOU_no_background: 0.6190 - val_MeanIOU: 0.4597\n",
      "Epoch 54/300\n",
      "47/47 [==============================] - 12s 250ms/step - loss: 0.0351 - MeanIOU_no_background: 0.6454 - MeanIOU: 0.7544 - val_loss: 0.0205 - val_MeanIOU_no_background: 0.5805 - val_MeanIOU: 0.5575\n",
      "Epoch 55/300\n",
      "47/47 [==============================] - 12s 249ms/step - loss: 0.0332 - MeanIOU_no_background: 0.6466 - MeanIOU: 0.7617 - val_loss: 0.0266 - val_MeanIOU_no_background: 0.6071 - val_MeanIOU: 0.4840\n",
      "Epoch 56/300\n",
      "47/47 [==============================] - 12s 250ms/step - loss: 0.0356 - MeanIOU_no_background: 0.6447 - MeanIOU: 0.7532 - val_loss: 0.0286 - val_MeanIOU_no_background: 0.6126 - val_MeanIOU: 0.4736\n",
      "Epoch 57/300\n",
      "47/47 [==============================] - ETA: 0s - loss: 0.0323 - MeanIOU_no_background: 0.6472 - MeanIOU: 0.7653"
     ]
    },
    {
     "name": "stderr",
     "output_type": "stream",
     "text": [
      "WARNING:absl:Found untraced functions such as _jit_compiled_convolution_op, _jit_compiled_convolution_op, _jit_compiled_convolution_op, _jit_compiled_convolution_op, _jit_compiled_convolution_op while saving (showing 5 of 24). These functions will not be directly callable after loading.\n"
     ]
    },
    {
     "name": "stdout",
     "output_type": "stream",
     "text": [
      "INFO:tensorflow:Assets written to: model/assets\n"
     ]
    },
    {
     "name": "stderr",
     "output_type": "stream",
     "text": [
      "INFO:tensorflow:Assets written to: model/assets\n"
     ]
    },
    {
     "name": "stdout",
     "output_type": "stream",
     "text": [
      "47/47 [==============================] - 18s 364ms/step - loss: 0.0323 - MeanIOU_no_background: 0.6472 - MeanIOU: 0.7653 - val_loss: 0.0201 - val_MeanIOU_no_background: 0.5939 - val_MeanIOU: 0.5563\n",
      "Epoch 58/300\n",
      "47/47 [==============================] - 12s 247ms/step - loss: 0.0319 - MeanIOU_no_background: 0.6477 - MeanIOU: 0.7651 - val_loss: 0.0203 - val_MeanIOU_no_background: 0.6060 - val_MeanIOU: 0.5377\n",
      "Epoch 59/300\n",
      "47/47 [==============================] - 13s 254ms/step - loss: 0.0314 - MeanIOU_no_background: 0.6475 - MeanIOU: 0.7675 - val_loss: 0.0208 - val_MeanIOU_no_background: 0.6155 - val_MeanIOU: 0.5258\n",
      "Epoch 60/300\n",
      "47/47 [==============================] - ETA: 0s - loss: 0.0300 - MeanIOU_no_background: 0.6496 - MeanIOU: 0.7730"
     ]
    },
    {
     "name": "stderr",
     "output_type": "stream",
     "text": [
      "WARNING:absl:Found untraced functions such as _jit_compiled_convolution_op, _jit_compiled_convolution_op, _jit_compiled_convolution_op, _jit_compiled_convolution_op, _jit_compiled_convolution_op while saving (showing 5 of 24). These functions will not be directly callable after loading.\n"
     ]
    },
    {
     "name": "stdout",
     "output_type": "stream",
     "text": [
      "INFO:tensorflow:Assets written to: model/assets\n"
     ]
    },
    {
     "name": "stderr",
     "output_type": "stream",
     "text": [
      "INFO:tensorflow:Assets written to: model/assets\n"
     ]
    },
    {
     "name": "stdout",
     "output_type": "stream",
     "text": [
      "47/47 [==============================] - 17s 359ms/step - loss: 0.0300 - MeanIOU_no_background: 0.6496 - MeanIOU: 0.7730 - val_loss: 0.0184 - val_MeanIOU_no_background: 0.5812 - val_MeanIOU: 0.5814\n",
      "Epoch 61/300\n",
      "47/47 [==============================] - 13s 250ms/step - loss: 0.0302 - MeanIOU_no_background: 0.6487 - MeanIOU: 0.7739 - val_loss: 0.0223 - val_MeanIOU_no_background: 0.5879 - val_MeanIOU: 0.5193\n",
      "Epoch 62/300\n",
      "47/47 [==============================] - 12s 252ms/step - loss: 0.0301 - MeanIOU_no_background: 0.6499 - MeanIOU: 0.7715 - val_loss: 0.0202 - val_MeanIOU_no_background: 0.5977 - val_MeanIOU: 0.5459\n",
      "Epoch 63/300\n",
      "47/47 [==============================] - ETA: 0s - loss: 0.0291 - MeanIOU_no_background: 0.6501 - MeanIOU: 0.7776"
     ]
    },
    {
     "name": "stderr",
     "output_type": "stream",
     "text": [
      "WARNING:absl:Found untraced functions such as _jit_compiled_convolution_op, _jit_compiled_convolution_op, _jit_compiled_convolution_op, _jit_compiled_convolution_op, _jit_compiled_convolution_op while saving (showing 5 of 24). These functions will not be directly callable after loading.\n"
     ]
    },
    {
     "name": "stdout",
     "output_type": "stream",
     "text": [
      "INFO:tensorflow:Assets written to: model/assets\n"
     ]
    },
    {
     "name": "stderr",
     "output_type": "stream",
     "text": [
      "INFO:tensorflow:Assets written to: model/assets\n"
     ]
    },
    {
     "name": "stdout",
     "output_type": "stream",
     "text": [
      "47/47 [==============================] - 17s 357ms/step - loss: 0.0291 - MeanIOU_no_background: 0.6501 - MeanIOU: 0.7776 - val_loss: 0.0175 - val_MeanIOU_no_background: 0.6141 - val_MeanIOU: 0.5585\n",
      "Epoch 64/300\n",
      "47/47 [==============================] - 13s 250ms/step - loss: 0.0297 - MeanIOU_no_background: 0.6502 - MeanIOU: 0.7723 - val_loss: 0.0260 - val_MeanIOU_no_background: 0.6034 - val_MeanIOU: 0.4956\n",
      "Epoch 65/300\n",
      "47/47 [==============================] - 12s 249ms/step - loss: 0.0282 - MeanIOU_no_background: 0.6506 - MeanIOU: 0.7805 - val_loss: 0.0192 - val_MeanIOU_no_background: 0.5907 - val_MeanIOU: 0.5672\n",
      "Epoch 66/300\n",
      "47/47 [==============================] - 12s 249ms/step - loss: 0.0282 - MeanIOU_no_background: 0.6511 - MeanIOU: 0.7815 - val_loss: 0.0238 - val_MeanIOU_no_background: 0.6042 - val_MeanIOU: 0.4976\n",
      "Epoch 67/300\n",
      "47/47 [==============================] - 12s 249ms/step - loss: 0.0293 - MeanIOU_no_background: 0.6509 - MeanIOU: 0.7739 - val_loss: 0.0186 - val_MeanIOU_no_background: 0.5908 - val_MeanIOU: 0.5843\n",
      "Epoch 68/300\n",
      "47/47 [==============================] - 12s 249ms/step - loss: 0.0288 - MeanIOU_no_background: 0.6508 - MeanIOU: 0.7786 - val_loss: 0.0184 - val_MeanIOU_no_background: 0.5899 - val_MeanIOU: 0.5623\n",
      "Epoch 69/300\n",
      "47/47 [==============================] - 12s 250ms/step - loss: 0.0282 - MeanIOU_no_background: 0.6516 - MeanIOU: 0.7757 - val_loss: 0.0225 - val_MeanIOU_no_background: 0.5904 - val_MeanIOU: 0.5360\n",
      "Epoch 70/300\n",
      "47/47 [==============================] - 12s 249ms/step - loss: 0.0276 - MeanIOU_no_background: 0.6516 - MeanIOU: 0.7822 - val_loss: 0.0204 - val_MeanIOU_no_background: 0.5932 - val_MeanIOU: 0.5407\n",
      "Epoch 71/300\n",
      "47/47 [==============================] - 12s 251ms/step - loss: 0.0268 - MeanIOU_no_background: 0.6520 - MeanIOU: 0.7844 - val_loss: 0.0177 - val_MeanIOU_no_background: 0.5901 - val_MeanIOU: 0.5962\n",
      "Epoch 72/300\n",
      "47/47 [==============================] - 12s 249ms/step - loss: 0.0253 - MeanIOU_no_background: 0.6531 - MeanIOU: 0.7921 - val_loss: 0.0201 - val_MeanIOU_no_background: 0.5879 - val_MeanIOU: 0.5796\n",
      "Epoch 73/300\n",
      "47/47 [==============================] - 12s 251ms/step - loss: 0.0270 - MeanIOU_no_background: 0.6533 - MeanIOU: 0.7818 - val_loss: 0.0180 - val_MeanIOU_no_background: 0.6061 - val_MeanIOU: 0.5634\n"
     ]
    }
   ],
   "source": [
    "max_epochs = 300\n",
    "history = model.fit(\n",
    "    train_dataset.shuffle(2500).repeat(1).batch(8),\n",
    "    epochs=max_epochs,\n",
    "    validation_data=val_dataset.repeat(1).batch(8),\n",
    "    callbacks=[\n",
    "        tf.keras.callbacks.EarlyStopping(patience=10, restore_best_weights=True),\n",
    "        tf.keras.callbacks.ModelCheckpoint(\"model\", save_best_only=True),\n",
    "    ],\n",
    ")\n"
   ]
  },
  {
   "cell_type": "code",
   "execution_count": 13,
   "metadata": {},
   "outputs": [
    {
     "data": {
      "image/png": "[encoded data removed]",
      "text/plain": [
       "<Figure size 640x480 with 1 Axes>"
      ]
     },
     "metadata": {},
     "output_type": "display_data"
    }
   ],
   "source": [
    "import matplotlib.pyplot as plt\n",
    "\n",
    "real_epoch = len(history.history[\"loss\"])\n",
    "plt.plot(range(real_epoch), history.history[\"loss\"], \"b--\", label=\"Train\")\n",
    "plt.plot(range(real_epoch), history.history[\"val_loss\"], \"r-\", label=\"Validation\")\n",
    "plt.title(\"Weighted Cross Entropy\")\n",
    "plt.xlabel(\"Epoch\")\n",
    "plt.ylabel(\"Weighted Cross Entropy\")\n",
    "plt.ylim(0, 1)\n",
    "plt.legend()\n",
    "plt.show()\n"
   ]
  },
  {
   "cell_type": "code",
   "execution_count": 14,
   "metadata": {},
   "outputs": [
    {
     "data": {
      "image/png": "[encoded data removed]",
      "text/plain": [
       "<Figure size 640x480 with 1 Axes>"
      ]
     },
     "metadata": {},
     "output_type": "display_data"
    }
   ],
   "source": [
    "plt.plot(range(real_epoch), history.history[\"MeanIOU\"], \"b--\", label=\"Train\")\n",
    "plt.plot(range(real_epoch), history.history[\"val_MeanIOU\"], \"r-\", label=\"Validation\")\n",
    "plt.title(\"Mean IoU\")\n",
    "plt.xlabel(\"Epoch\")\n",
    "plt.ylabel(\"Mean IoU\")\n",
    "plt.legend()\n",
    "plt.show()\n"
   ]
  },
  {
   "cell_type": "code",
   "execution_count": 15,
   "metadata": {},
   "outputs": [
    {
     "data": {
      "image/png": "[encoded data removed]",
      "text/plain": [
       "<Figure size 640x480 with 1 Axes>"
      ]
     },
     "metadata": {},
     "output_type": "display_data"
    }
   ],
   "source": [
    "plt.plot(\n",
    "    range(real_epoch), history.history[\"MeanIOU_no_background\"], \"b--\", label=\"Train\"\n",
    ")\n",
    "plt.plot(\n",
    "    range(real_epoch),\n",
    "    history.history[\"val_MeanIOU_no_background\"],\n",
    "    \"r-\",\n",
    "    label=\"Validation\",\n",
    ")\n",
    "plt.title(\"Mean IoU without background\")\n",
    "plt.xlabel(\"Epoch\")\n",
    "plt.ylabel(\"Mean IoU\")\n",
    "plt.legend()\n",
    "plt.show()\n"
   ]
  },
  {
   "cell_type": "code",
   "execution_count": 16,
   "metadata": {},
   "outputs": [],
   "source": [
    "best_model = tf.keras.models.load_model(\n",
    "    \"model\",\n",
    "    custom_objects={\"loss\": multiclass_weighted_cross_entropy([10.0, 100.0, 100.0])},\n",
    ")\n"
   ]
  },
  {
   "cell_type": "markdown",
   "metadata": {},
   "source": [
    "### 결과 및 한계\n",
    "\n",
    "지난 발표보다는 성적이 좋아짐, 그렇지만 지나치게 오버피팅 됨   \n",
    "Data augmentation 또는 Dataset을 늘리는 방법을 찾아봐야 함  \n"
   ]
  },
  {
   "cell_type": "code",
   "execution_count": 17,
   "metadata": {},
   "outputs": [
    {
     "name": "stdout",
     "output_type": "stream",
     "text": [
      "1/1 [==============================] - 1s 1s/step\n",
      "float32\n"
     ]
    },
    {
     "data": {
      "image/png": "[encoded data removed]",
      "text/plain": [
       "<Figure size 1500x600 with 2 Axes>"
      ]
     },
     "metadata": {},
     "output_type": "display_data"
    }
   ],
   "source": [
    "with open(\"dataset/train/data/HFH_001_057.npy\", \"rb\") as f:\n",
    "    arr = np.load(f).astype(np.float32)[np.newaxis, ...]\n",
    "    preds = best_model.predict(arr)\n",
    "    preds = preds.squeeze().argmax(axis=2)\n",
    "    print(arr.dtype)\n",
    "    plt.figure(figsize=(15, 6))\n",
    "    plt.subplot(1, 2, 1)\n",
    "    plt.imshow(preds, cmap=\"plasma\")\n",
    "    plt.title(\"y_pred\")\n",
    "    plt.axis(\"off\")\n",
    "\n",
    "with open(\"dataset/train/label/HFH_001_057.npy\", \"rb\") as f:\n",
    "    arr = np.load(f).astype(np.float32)\n",
    "    target = arr.squeeze().argmax(axis=2)\n",
    "    plt.subplot(1, 2, 2)\n",
    "    plt.imshow(target, cmap=\"plasma\")\n",
    "    plt.title(\"y_true\")\n",
    "    plt.axis(\"off\")\n"
   ]
  },
  {
   "cell_type": "code",
   "execution_count": 18,
   "metadata": {},
   "outputs": [
    {
     "name": "stdout",
     "output_type": "stream",
     "text": [
      "1/1 [==============================] - 0s 31ms/step\n",
      "float32\n"
     ]
    },
    {
     "data": {
      "image/png": "[encoded data removed]",
      "text/plain": [
       "<Figure size 1500x600 with 2 Axes>"
      ]
     },
     "metadata": {},
     "output_type": "display_data"
    }
   ],
   "source": [
    "with open(\"dataset/train/data/HFH_021_057.npy\", \"rb\") as f:\n",
    "    arr = np.load(f).astype(np.float32)[np.newaxis, ...]\n",
    "    preds = best_model.predict(arr)\n",
    "    preds = preds.squeeze().argmax(axis=2)\n",
    "    print(arr.dtype)\n",
    "    plt.figure(figsize=(15, 6))\n",
    "    plt.subplot(1, 2, 1)\n",
    "    plt.imshow(preds, cmap=\"plasma\")\n",
    "    plt.title(\"y_pred\")\n",
    "    plt.axis(\"off\")\n",
    "\n",
    "with open(\"dataset/train/label/HFH_021_057.npy\", \"rb\") as f:\n",
    "    arr = np.load(f).astype(np.float32)\n",
    "    target = arr.squeeze().argmax(axis=2)\n",
    "    plt.subplot(1, 2, 2)\n",
    "    plt.imshow(target, cmap=\"plasma\")\n",
    "    plt.title(\"y_true\")\n",
    "    plt.axis(\"off\")\n"
   ]
  }
 ],
 "metadata": {
  "kernelspec": {
   "display_name": "Python 3.9.13 ('keras')",
   "language": "python",
   "name": "python3"
  },
  "language_info": {
   "codemirror_mode": {
    "name": "ipython",
    "version": 3
   },
   "file_extension": ".py",
   "mimetype": "text/x-python",
   "name": "python",
   "nbconvert_exporter": "python",
   "pygments_lexer": "ipython3",
   "version": "3.9.13"
  },
  "orig_nbformat": 4,
  "vscode": {
   "interpreter": {
    "hash": "1adc45b2727d29ffe2ebdf1744bac2997f1014da1e47286e1a4198fcda79fd8a"
   }
  }
 },
 "nbformat": 4,
 "nbformat_minor": 2
}
