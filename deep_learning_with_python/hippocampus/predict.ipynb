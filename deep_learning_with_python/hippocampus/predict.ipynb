{
 "cells": [
  {
   "cell_type": "code",
   "execution_count": null,
   "metadata": {},
   "outputs": [],
   "source": [
    "from typing import Callable, Union\n",
    "from tensorflow.keras import backend as K\n",
    "import tensorflow as tf\n",
    "\n",
    "# https://github.com/maxvfischer/keras-image-segmentation-loss-functions/blob/master/losses/multiclass_losses.py\n",
    "def multiclass_weighted_cross_entropy(\n",
    "    class_weights: list, is_logits: bool = False\n",
    ") -> Callable[[tf.Tensor, tf.Tensor], tf.Tensor]:\n",
    "    \"\"\"\n",
    "    Multi-class weighted cross entropy.\n",
    "        WCE(p, p̂) = −Σp*log(p̂)*class_weights\n",
    "    Used as loss function for multi-class image segmentation with one-hot encoded masks.\n",
    "    :param class_weights: Weight coefficients (list of floats)\n",
    "    :param is_logits: If y_pred are logits (bool)\n",
    "    :return: Weighted cross entropy loss function (Callable[[tf.Tensor, tf.Tensor], tf.Tensor])\n",
    "    \"\"\"\n",
    "    if not isinstance(class_weights, tf.Tensor):\n",
    "        class_weights = tf.constant(class_weights)\n",
    "\n",
    "    def loss(y_true: tf.Tensor, y_pred: tf.Tensor) -> tf.Tensor:\n",
    "        \"\"\"\n",
    "        Computes the weighted cross entropy.\n",
    "        :param y_true: Ground truth (tf.Tensor, shape=(None, None, None, None))\n",
    "        :param y_pred: Predictions (tf.Tensor, shape=(<BATCH_SIZE>, <IMAGE_HEIGHT>, <IMAGE_WIDTH>, <N_CLASSES>))\n",
    "        :return: Weighted cross entropy (tf.Tensor, shape=(<BATCH_SIZE>,))\n",
    "        \"\"\"\n",
    "        assert len(class_weights) == y_pred.shape[-1], (\n",
    "            f\"Number of class_weights ({len(class_weights)}) needs to be the same as number \"\n",
    "            f\"of classes ({y_pred.shape[-1]})\"\n",
    "        )\n",
    "\n",
    "        if is_logits:\n",
    "            y_pred = softmax(y_pred, axis=-1)\n",
    "\n",
    "        y_pred = K.clip(\n",
    "            y_pred, K.epsilon(), 1 - K.epsilon()\n",
    "        )  # To avoid unwanted behaviour in K.log(y_pred)\n",
    "\n",
    "        # p * log(p̂) * class_weights\n",
    "        wce_loss = y_true * K.log(y_pred) * class_weights\n",
    "\n",
    "        # Average over each data point/image in batch\n",
    "        axis_to_reduce = range(1, K.ndim(wce_loss))\n",
    "        wce_loss = K.mean(wce_loss, axis=axis_to_reduce)\n",
    "\n",
    "        return -wce_loss\n",
    "\n",
    "    return loss\n"
   ]
  },
  {
   "cell_type": "code",
   "execution_count": null,
   "metadata": {},
   "outputs": [],
   "source": [
    "import os\n",
    "\n",
    "best_model = tf.keras.models.load_model(\n",
    "    \"model\",\n",
    "    custom_objects={\"loss\": multiclass_weighted_cross_entropy([10.0, 100.0, 100.0])},\n",
    ")\n",
    "best_model.summary()"
   ]
  },
  {
   "cell_type": "code",
   "execution_count": 3,
   "metadata": {},
   "outputs": [
    {
     "name": "stderr",
     "output_type": "stream",
     "text": [
      "  0%|          | 0/124 [00:00<?, ?it/s]2022-11-20 22:37:13.679825: I tensorflow/stream_executor/cuda/cuda_dnn.cc:384] Loaded cuDNN version 8101\n",
      "2022-11-20 22:37:14.593174: I tensorflow/core/platform/default/subprocess.cc:304] Start cannot spawn child process: No such file or directory\n",
      "100%|██████████| 124/124 [00:15<00:00,  8.15it/s]\n",
      "100%|██████████| 108/108 [00:10<00:00, 10.27it/s]\n",
      "100%|██████████| 86/86 [00:08<00:00, 10.47it/s]"
     ]
    },
    {
     "name": "stdout",
     "output_type": "stream",
     "text": [
      "124\n",
      "(256, 256)\n",
      "124\n",
      "(256, 256)\n"
     ]
    },
    {
     "name": "stderr",
     "output_type": "stream",
     "text": [
      "\n"
     ]
    }
   ],
   "source": [
    "import matplotlib.pyplot as plt\n",
    "import numpy as np\n",
    "from ipywidgets import interact, widgets\n",
    "from tqdm import tqdm\n",
    "\n",
    "TEST_DATA_DIR = os.path.join(os.curdir, \"dataset\", \"test\")\n",
    "\n",
    "\n",
    "def get_filenames(index):\n",
    "    return [\n",
    "        os.path.join(TEST_DATA_DIR, filename)\n",
    "        for filename in sorted(os.listdir(TEST_DATA_DIR))\n",
    "        if int(filename.split(\"_\")[1]) == index\n",
    "    ]\n",
    "\n",
    "\n",
    "def get_images_and_predictions(index):\n",
    "    images = []\n",
    "    predictions = []\n",
    "    filenames = get_filenames(index)\n",
    "    for filename in tqdm(filenames):\n",
    "        with open(filename, \"rb\") as f:\n",
    "            image = np.load(f)\n",
    "            images.append(image)\n",
    "            prediction = best_model.predict(image[np.newaxis, ...], verbose=0)\n",
    "            prediction = prediction.squeeze().argmax(axis=-1)\n",
    "            predictions.append(prediction)\n",
    "    return images, predictions\n",
    "\n",
    "\n",
    "images30, predictions30 = get_images_and_predictions(30)\n",
    "images40, predictions40 = get_images_and_predictions(40)\n",
    "images50, predictions50 = get_images_and_predictions(50)\n",
    "print(len(images30))\n",
    "print(images30[0].shape)\n",
    "print(len(predictions30))\n",
    "print(predictions30[0].shape)\n"
   ]
  },
  {
   "cell_type": "code",
   "execution_count": null,
   "metadata": {},
   "outputs": [],
   "source": [
    "fig30, axs30 = plt.subplots(1, 3, figsize=(15, 5))\n",
    "fig40, axs40 = plt.subplots(1, 3, figsize=(15, 5))\n",
    "fig50, axs50 = plt.subplots(1, 3, figsize=(15, 5))"
   ]
  },
  {
   "cell_type": "code",
   "execution_count": 5,
   "metadata": {},
   "outputs": [
    {
     "data": {
      "application/vnd.jupyter.widget-view+json": {
       "model_id": "21341d1a33554140ad30484cba6a482b",
       "version_major": 2,
       "version_minor": 0
      },
      "text/plain": [
       "interactive(children=(IntSlider(value=40, description='x', max=123), Output()), _dom_classes=('widget-interact…"
      ]
     },
     "metadata": {},
     "output_type": "display_data"
    }
   ],
   "source": [
    "def show(images, predictions, fig, axs, title):\n",
    "    fig.suptitle(title)\n",
    "    axs[0].set_title(\"Data\")\n",
    "    axs[2].set_title(\"Label\")\n",
    "    def frame30(x):\n",
    "        index = int(x)\n",
    "        axs[0].imshow(images[index])\n",
    "        axs[1].clear()\n",
    "        axs[1].imshow(images[index], alpha=0.5)\n",
    "        axs[1].imshow(predictions[index], alpha=0.5, cmap=\"hot\")\n",
    "        axs[2].imshow(predictions[index], cmap=\"hot\")\n",
    "        display(fig)\n",
    "    interact(frame30, x=widgets.IntSlider(min=0, max=len(images)-1, step=1, value=40))\n",
    "\n",
    "show(images30, predictions30, fig30, axs30, \"HFH 30\")\n"
   ]
  },
  {
   "cell_type": "code",
   "execution_count": 6,
   "metadata": {},
   "outputs": [
    {
     "data": {
      "application/vnd.jupyter.widget-view+json": {
       "model_id": "99e12c882fe947659fea6790d05e2fad",
       "version_major": 2,
       "version_minor": 0
      },
      "text/plain": [
       "interactive(children=(IntSlider(value=40, description='x', max=107), Output()), _dom_classes=('widget-interact…"
      ]
     },
     "metadata": {},
     "output_type": "display_data"
    }
   ],
   "source": [
    "show(images40, predictions40, fig40, axs40, \"HFH 40\")"
   ]
  },
  {
   "cell_type": "code",
   "execution_count": 7,
   "metadata": {},
   "outputs": [
    {
     "data": {
      "application/vnd.jupyter.widget-view+json": {
       "model_id": "4b8d310b12a64f93b156112ce58f42c4",
       "version_major": 2,
       "version_minor": 0
      },
      "text/plain": [
       "interactive(children=(IntSlider(value=40, description='x', max=85), Output()), _dom_classes=('widget-interact'…"
      ]
     },
     "metadata": {},
     "output_type": "display_data"
    }
   ],
   "source": [
    "\n",
    "show(images50, predictions50, fig50, axs50, \"HFH 50\")\n"
   ]
  }
 ],
 "metadata": {
  "kernelspec": {
   "display_name": "Python 3.9.13 ('keras')",
   "language": "python",
   "name": "python3"
  },
  "language_info": {
   "codemirror_mode": {
    "name": "ipython",
    "version": 3
   },
   "file_extension": ".py",
   "mimetype": "text/x-python",
   "name": "python",
   "nbconvert_exporter": "python",
   "pygments_lexer": "ipython3",
   "version": "3.9.13"
  },
  "orig_nbformat": 4,
  "vscode": {
   "interpreter": {
    "hash": "1adc45b2727d29ffe2ebdf1744bac2997f1014da1e47286e1a4198fcda79fd8a"
   }
  }
 },
 "nbformat": 4,
 "nbformat_minor": 2
}
