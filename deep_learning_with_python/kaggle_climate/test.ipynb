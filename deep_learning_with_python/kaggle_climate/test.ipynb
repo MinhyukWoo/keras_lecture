{
 "cells": [
  {
   "cell_type": "code",
   "execution_count": 1,
   "metadata": {},
   "outputs": [
    {
     "data": {
      "text/plain": [
       "['BASEL.csv',\n",
       " 'BUDAPEST.csv',\n",
       " 'DE.csv',\n",
       " 'DRESDEN.csv',\n",
       " 'DUSSELDORF.csv',\n",
       " 'HEATHROW.csv',\n",
       " 'KASSEL.csv',\n",
       " 'LJUBLJANA.csv',\n",
       " 'MAASTRICHT.csv',\n",
       " 'MALMO.csv',\n",
       " 'MONTELIMAR.csv',\n",
       " 'MUENCHEN.csv',\n",
       " 'OSLO.csv',\n",
       " 'PERPIGNAN.csv',\n",
       " 'ROMA.csv',\n",
       " 'SONNBLICK.csv',\n",
       " 'STOCKHOLM.csv',\n",
       " 'TOURS.csv']"
      ]
     },
     "execution_count": 1,
     "metadata": {},
     "output_type": "execute_result"
    }
   ],
   "source": [
    "import os\n",
    "import pandas as pd\n",
    "\n",
    "CSV_DIR = os.path.join(os.curdir, \"dataset\", \"sorted\")\n",
    "csv_filenames = sorted(os.listdir(CSV_DIR))\n",
    "csv_filenames"
   ]
  },
  {
   "cell_type": "code",
   "execution_count": 2,
   "metadata": {},
   "outputs": [
    {
     "name": "stdout",
     "output_type": "stream",
     "text": [
      "18\n",
      "Index(['DATE', 'BASEL_humidity', 'BASEL_pressure', 'BASEL_global_radiation',\n",
      "       'BASEL_precipitation', 'BASEL_sunshine', 'BASEL_temp_mean',\n",
      "       'BASEL_temp_min', 'BASEL_temp_max'],\n",
      "      dtype='object')\n",
      "Index(['DATE', 'BUDAPEST_humidity', 'BUDAPEST_pressure',\n",
      "       'BUDAPEST_global_radiation', 'BUDAPEST_precipitation',\n",
      "       'BUDAPEST_sunshine', 'BUDAPEST_temp_mean', 'BUDAPEST_temp_max'],\n",
      "      dtype='object')\n",
      "Index(['DATE', 'DE_BILT_wind_speed', 'DE_BILT_wind_gust', 'DE_BILT_humidity',\n",
      "       'DE_BILT_pressure', 'DE_BILT_global_radiation', 'DE_BILT_precipitation',\n",
      "       'DE_BILT_sunshine', 'DE_BILT_temp_mean', 'DE_BILT_temp_min',\n",
      "       'DE_BILT_temp_max'],\n",
      "      dtype='object')\n",
      "Index(['DATE', 'DRESDEN_wind_speed', 'DRESDEN_wind_gust', 'DRESDEN_humidity',\n",
      "       'DRESDEN_global_radiation', 'DRESDEN_precipitation', 'DRESDEN_sunshine',\n",
      "       'DRESDEN_temp_mean', 'DRESDEN_temp_min', 'DRESDEN_temp_max'],\n",
      "      dtype='object')\n",
      "Index(['DATE', 'DUSSELDORF_wind_speed', 'DUSSELDORF_wind_gust',\n",
      "       'DUSSELDORF_humidity', 'DUSSELDORF_pressure',\n",
      "       'DUSSELDORF_global_radiation', 'DUSSELDORF_precipitation',\n",
      "       'DUSSELDORF_sunshine', 'DUSSELDORF_temp_mean', 'DUSSELDORF_temp_min',\n",
      "       'DUSSELDORF_temp_max'],\n",
      "      dtype='object')\n",
      "Index(['DATE', 'HEATHROW_humidity', 'HEATHROW_pressure',\n",
      "       'HEATHROW_global_radiation', 'HEATHROW_precipitation',\n",
      "       'HEATHROW_sunshine', 'HEATHROW_temp_mean', 'HEATHROW_temp_min',\n",
      "       'HEATHROW_temp_max'],\n",
      "      dtype='object')\n",
      "Index(['DATE', 'KASSEL_wind_gust', 'KASSEL_humidity', 'KASSEL_pressure',\n",
      "       'KASSEL_global_radiation', 'KASSEL_precipitation', 'KASSEL_sunshine',\n",
      "       'KASSEL_temp_mean', 'KASSEL_temp_min', 'KASSEL_temp_max'],\n",
      "      dtype='object')\n",
      "Index(['DATE', 'LJUBLJANA_wind_speed', 'LJUBLJANA_humidity',\n",
      "       'LJUBLJANA_pressure', 'LJUBLJANA_global_radiation',\n",
      "       'LJUBLJANA_precipitation', 'LJUBLJANA_sunshine', 'LJUBLJANA_temp_mean',\n",
      "       'LJUBLJANA_temp_min', 'LJUBLJANA_temp_max'],\n",
      "      dtype='object')\n",
      "Index(['DATE', 'MAASTRICHT_wind_speed', 'MAASTRICHT_wind_gust',\n",
      "       'MAASTRICHT_humidity', 'MAASTRICHT_pressure',\n",
      "       'MAASTRICHT_global_radiation', 'MAASTRICHT_precipitation',\n",
      "       'MAASTRICHT_sunshine', 'MAASTRICHT_temp_mean', 'MAASTRICHT_temp_min',\n",
      "       'MAASTRICHT_temp_max'],\n",
      "      dtype='object')\n",
      "Index(['DATE', 'MALMO_precipitation', 'MALMO_temp_mean', 'MALMO_temp_min',\n",
      "       'MALMO_temp_max'],\n",
      "      dtype='object')\n",
      "Index(['DATE', 'MONTELIMAR_humidity', 'MONTELIMAR_pressure',\n",
      "       'MONTELIMAR_global_radiation', 'MONTELIMAR_precipitation',\n",
      "       'MONTELIMAR_temp_mean', 'MONTELIMAR_temp_min', 'MONTELIMAR_temp_max'],\n",
      "      dtype='object')\n",
      "Index(['DATE', 'MUENCHEN_wind_speed', 'MUENCHEN_wind_gust',\n",
      "       'MUENCHEN_humidity', 'MUENCHEN_pressure', 'MUENCHEN_global_radiation',\n",
      "       'MUENCHEN_precipitation', 'MUENCHEN_sunshine', 'MUENCHEN_temp_mean',\n",
      "       'MUENCHEN_temp_min', 'MUENCHEN_temp_max'],\n",
      "      dtype='object')\n",
      "Index(['DATE', 'OSLO_wind_speed', 'OSLO_wind_gust', 'OSLO_humidity',\n",
      "       'OSLO_pressure', 'OSLO_global_radiation', 'OSLO_precipitation',\n",
      "       'OSLO_sunshine', 'OSLO_temp_mean', 'OSLO_temp_min', 'OSLO_temp_max'],\n",
      "      dtype='object')\n",
      "Index(['DATE', 'PERPIGNAN_humidity', 'PERPIGNAN_pressure',\n",
      "       'PERPIGNAN_global_radiation', 'PERPIGNAN_precipitation',\n",
      "       'PERPIGNAN_temp_mean', 'PERPIGNAN_temp_min', 'PERPIGNAN_temp_max'],\n",
      "      dtype='object')\n",
      "Index(['DATE', 'ROMA_humidity', 'ROMA_pressure', 'ROMA_global_radiation',\n",
      "       'ROMA_sunshine', 'ROMA_temp_mean', 'ROMA_temp_min', 'ROMA_temp_max'],\n",
      "      dtype='object')\n",
      "Index(['DATE', 'SONNBLICK_humidity', 'SONNBLICK_global_radiation',\n",
      "       'SONNBLICK_precipitation', 'SONNBLICK_sunshine', 'SONNBLICK_temp_mean',\n",
      "       'SONNBLICK_temp_min', 'SONNBLICK_temp_max'],\n",
      "      dtype='object')\n",
      "Index(['DATE', 'STOCKHOLM_pressure', 'STOCKHOLM_precipitation',\n",
      "       'STOCKHOLM_sunshine', 'STOCKHOLM_temp_mean', 'STOCKHOLM_temp_min',\n",
      "       'STOCKHOLM_temp_max'],\n",
      "      dtype='object')\n",
      "Index(['DATE', 'TOURS_humidity', 'TOURS_pressure', 'TOURS_global_radiation',\n",
      "       'TOURS_precipitation', 'TOURS_temp_mean', 'TOURS_temp_min',\n",
      "       'TOURS_temp_max'],\n",
      "      dtype='object')\n"
     ]
    }
   ],
   "source": [
    "csv_dataset = [\n",
    "    pd.read_csv(os.path.join(CSV_DIR, filename)) for filename in csv_filenames\n",
    "]\n",
    "print(len(csv_dataset))\n",
    "for csv_data in csv_dataset:\n",
    "    print(csv_data.columns)"
   ]
  },
  {
   "cell_type": "code",
   "execution_count": null,
   "metadata": {},
   "outputs": [],
   "source": []
  }
 ],
 "metadata": {
  "kernelspec": {
   "display_name": "Python 3.9.13 ('keras')",
   "language": "python",
   "name": "python3"
  },
  "language_info": {
   "codemirror_mode": {
    "name": "ipython",
    "version": 3
   },
   "file_extension": ".py",
   "mimetype": "text/x-python",
   "name": "python",
   "nbconvert_exporter": "python",
   "pygments_lexer": "ipython3",
   "version": "3.9.13"
  },
  "orig_nbformat": 4,
  "vscode": {
   "interpreter": {
    "hash": "1adc45b2727d29ffe2ebdf1744bac2997f1014da1e47286e1a4198fcda79fd8a"
   }
  }
 },
 "nbformat": 4,
 "nbformat_minor": 2
}
