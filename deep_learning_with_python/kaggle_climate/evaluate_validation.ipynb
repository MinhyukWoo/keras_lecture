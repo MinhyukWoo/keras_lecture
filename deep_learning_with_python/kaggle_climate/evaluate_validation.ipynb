{
 "cells": [
  {
   "cell_type": "code",
   "execution_count": 5,
   "metadata": {},
   "outputs": [
    {
     "data": {
      "text/plain": [
       "['./model/BASEL',\n",
       " './model/BUDAPEST',\n",
       " './model/DE',\n",
       " './model/DRESDEN',\n",
       " './model/DUSSELDORF',\n",
       " './model/HEATHROW',\n",
       " './model/KASSEL',\n",
       " './model/LJUBLJANA',\n",
       " './model/MAASTRICHT',\n",
       " './model/MALMO',\n",
       " './model/MONTELIMAR',\n",
       " './model/MUENCHEN',\n",
       " './model/OSLO',\n",
       " './model/PERPIGNAN',\n",
       " './model/ROMA',\n",
       " './model/SONNBLICK',\n",
       " './model/STOCKHOLM',\n",
       " './model/TOURS']"
      ]
     },
     "execution_count": 5,
     "metadata": {},
     "output_type": "execute_result"
    }
   ],
   "source": [
    "import tensorflow as tf\n",
    "import os\n",
    "\n",
    "model_dirs = [\n",
    "    os.path.join(os.curdir, \"model\", name)\n",
    "    for name in sorted(os.listdir(os.path.join(os.curdir, \"model\")))\n",
    "]\n",
    "model_dirs\n"
   ]
  },
  {
   "cell_type": "code",
   "execution_count": 7,
   "metadata": {},
   "outputs": [
    {
     "name": "stdout",
     "output_type": "stream",
     "text": [
      "Model: \"BUDAPEST_model\"\n",
      "_________________________________________________________________\n",
      " Layer (type)                Output Shape              Param #   \n",
      "=================================================================\n",
      " input_2 (InputLayer)        [(None, 6, 7)]            0         \n",
      "                                                                 \n",
      " lstm_2 (LSTM)               (None, 6, 16)             1536      \n",
      "                                                                 \n",
      " lstm_3 (LSTM)               (None, 16)                2112      \n",
      "                                                                 \n",
      " dense_1 (Dense)             (None, 1)                 17        \n",
      "                                                                 \n",
      "=================================================================\n",
      "Total params: 3,665\n",
      "Trainable params: 3,665\n",
      "Non-trainable params: 0\n",
      "_________________________________________________________________\n"
     ]
    }
   ],
   "source": [
    "models = [tf.keras.models.load_model(model_dir) for model_dir in model_dirs]\n",
    "models[1].summary()"
   ]
  },
  {
   "cell_type": "code",
   "execution_count": 8,
   "metadata": {},
   "outputs": [
    {
     "name": "stdout",
     "output_type": "stream",
     "text": [
      "18\n"
     ]
    }
   ],
   "source": [
    "import pandas as pd\n",
    "\n",
    "CSV_DIR = os.path.join(os.curdir, \"dataset\", \"sorted\")\n",
    "csv_filenames = sorted(os.listdir(CSV_DIR))\n",
    "csv_dataset = [\n",
    "    pd.read_csv(os.path.join(CSV_DIR, filename)) for filename in csv_filenames\n",
    "]\n",
    "print(len(csv_dataset))"
   ]
  },
  {
   "cell_type": "code",
   "execution_count": 9,
   "metadata": {},
   "outputs": [
    {
     "name": "stdout",
     "output_type": "stream",
     "text": [
      "18\n",
      "(<BatchDataset element_spec=(TensorSpec(shape=(None, None, 7), dtype=tf.float64, name=None), TensorSpec(shape=(None, 1), dtype=tf.float64, name=None))>, <BatchDataset element_spec=(TensorSpec(shape=(None, None, 7), dtype=tf.float64, name=None), TensorSpec(shape=(None, 1), dtype=tf.float64, name=None))>, <BatchDataset element_spec=(TensorSpec(shape=(None, None, 7), dtype=tf.float64, name=None), TensorSpec(shape=(None, 1), dtype=tf.float64, name=None))>)\n",
      "tf.Tensor(\n",
      "[[ 1.34424888  1.34682202 -1.20851298 -0.38199123 -1.07646018 -1.09549112\n",
      "  -0.80998751 -1.33429094]\n",
      " [ 1.15869866  1.7487146  -1.15505695 -0.43793346 -1.07646018 -1.00108475\n",
      "  -0.64465741 -1.23109558]\n",
      " [ 0.602048    1.69847803 -0.8877768  -0.43793346 -0.22197883 -1.18989749\n",
      "  -1.03543765 -1.23109558]\n",
      " [ 0.41649778  1.04540259 -0.74879112  0.2147259   0.51703206 -0.96062487\n",
      "  -0.97531762 -0.92150951]\n",
      " [ 1.43702399  0.8444563  -0.87708559 -0.30740159 -0.22197883 -0.67740576\n",
      "  -0.47932731 -0.79538185]\n",
      " [ 0.97314844  0.81933801 -0.82362956 -0.43793346  0.23990298 -0.920165\n",
      "  -0.76489749 -0.99030641]], shape=(6, 8), dtype=float64)\n",
      "tf.Tensor([4.7], shape=(1,), dtype=float64)\n"
     ]
    }
   ],
   "source": [
    "\n",
    "TRAIN_END_INDEX = 2922\n",
    "VALIDATION_END_INDEX = 3288\n",
    "\n",
    "\n",
    "\n",
    "def get_dataset(\n",
    "    dataset: pd.DataFrame,\n",
    "    sequence_length,\n",
    "    batch_size,\n",
    "    train_end_index,\n",
    "    validation_end_index,\n",
    "):\n",
    "    data = dataset\n",
    "    for col in dataset.columns:\n",
    "        if \"temp_mean\" in col:\n",
    "            target = pd.DataFrame(dataset[col])\n",
    "            data = data.drop(columns=[\"DATE\"])\n",
    "            break\n",
    "    scaled_data = (data - data.mean(axis=0)) / data.std(axis=0)\n",
    "    train_dataset = tf.keras.utils.timeseries_dataset_from_array(\n",
    "        scaled_data[:-sequence_length],\n",
    "        targets=target[sequence_length:],\n",
    "        sequence_length=sequence_length,\n",
    "        batch_size=batch_size,\n",
    "        start_index=0,\n",
    "        end_index=train_end_index,\n",
    "    )\n",
    "    validation_dataset = tf.keras.utils.timeseries_dataset_from_array(\n",
    "        scaled_data[:-sequence_length],\n",
    "        targets=target[sequence_length:],\n",
    "        sequence_length=sequence_length,\n",
    "        batch_size=batch_size,\n",
    "        start_index=train_end_index,\n",
    "        end_index=validation_end_index,\n",
    "    )\n",
    "    test_dataset = tf.keras.utils.timeseries_dataset_from_array(\n",
    "        scaled_data[:-sequence_length],\n",
    "        targets=target[sequence_length:],\n",
    "        sequence_length=sequence_length,\n",
    "        batch_size=batch_size,\n",
    "        start_index=validation_end_index,\n",
    "    )\n",
    "    return (train_dataset, validation_dataset, test_dataset)\n",
    "\n",
    "\n",
    "sequence_length = 6\n",
    "\n",
    "batch_dataset = [\n",
    "    get_dataset(csv_data, sequence_length, 32, TRAIN_END_INDEX, VALIDATION_END_INDEX)\n",
    "    for csv_data in csv_dataset\n",
    "]\n",
    "\n",
    "print(len(batch_dataset))\n",
    "print(batch_dataset[1])\n",
    "for data, label in batch_dataset[0][0]:\n",
    "    print(data[0])\n",
    "    print(label[0])\n",
    "    break\n"
   ]
  },
  {
   "cell_type": "code",
   "execution_count": 16,
   "metadata": {},
   "outputs": [
    {
     "name": "stdout",
     "output_type": "stream",
     "text": [
      "12/12 [==============================] - 0s 19ms/step - loss: 2.9261 - MAE: 1.3783\n",
      "12/12 [==============================] - 0s 15ms/step - loss: 3.3409 - MAE: 1.4149\n",
      "12/12 [==============================] - 0s 14ms/step - loss: 3.0563 - MAE: 1.4134\n",
      "12/12 [==============================] - 0s 14ms/step - loss: 4.3554 - MAE: 1.6294\n",
      "12/12 [==============================] - 0s 14ms/step - loss: 2.7715 - MAE: 1.3507\n",
      "12/12 [==============================] - 0s 14ms/step - loss: 2.3024 - MAE: 1.1987\n",
      "12/12 [==============================] - 0s 13ms/step - loss: 3.1839 - MAE: 1.4045\n",
      "12/12 [==============================] - 0s 13ms/step - loss: 4.2634 - MAE: 1.6330\n",
      "12/12 [==============================] - 0s 11ms/step - loss: 3.3705 - MAE: 1.4513\n",
      "12/12 [==============================] - 0s 11ms/step - loss: 2.6106 - MAE: 1.2442\n",
      "12/12 [==============================] - 0s 11ms/step - loss: 3.3972 - MAE: 1.4352\n",
      "12/12 [==============================] - 0s 10ms/step - loss: 3.9827 - MAE: 1.5770\n",
      "12/12 [==============================] - 0s 11ms/step - loss: 3.0948 - MAE: 1.3714\n",
      "12/12 [==============================] - 0s 10ms/step - loss: 4.0208 - MAE: 1.5499\n",
      "12/12 [==============================] - 0s 10ms/step - loss: 2.6665 - MAE: 1.2119\n",
      "12/12 [==============================] - 0s 10ms/step - loss: 3.5823 - MAE: 1.4519\n",
      "12/12 [==============================] - 0s 14ms/step - loss: 2.9993 - MAE: 1.3677\n",
      "12/12 [==============================] - 0s 14ms/step - loss: 3.9956 - MAE: 1.6014\n"
     ]
    },
    {
     "data": {
      "text/plain": [
       "{'BASEL_model': {'loss': 2.9261019229888916, 'MAE': 1.3783124685287476},\n",
       " 'BUDAPEST_model': {'loss': 3.340862274169922, 'MAE': 1.4148924350738525},\n",
       " 'DE_model': {'loss': 3.0563292503356934, 'MAE': 1.4133985042572021},\n",
       " 'DRESDEN_model': {'loss': 4.355435848236084, 'MAE': 1.629381537437439},\n",
       " 'DUSSELDORF_model': {'loss': 2.771543025970459, 'MAE': 1.3507333993911743},\n",
       " 'HEATHROW_model': {'loss': 2.3024299144744873, 'MAE': 1.198699712753296},\n",
       " 'KASSEL_model': {'loss': 3.183945417404175, 'MAE': 1.404491662979126},\n",
       " 'LJUBLJANA_model': {'loss': 4.263371467590332, 'MAE': 1.6330246925354004},\n",
       " 'MAASTRICHT_model': {'loss': 3.3704922199249268, 'MAE': 1.451335072517395},\n",
       " 'MALMO_model': {'loss': 2.6106021404266357, 'MAE': 1.244170069694519},\n",
       " 'MONTELIMAR_model': {'loss': 3.397240161895752, 'MAE': 1.4352141618728638},\n",
       " 'MUENCHEN_model': {'loss': 3.982684373855591, 'MAE': 1.5770020484924316},\n",
       " 'OSLO_model': {'loss': 3.0948243141174316, 'MAE': 1.3713586330413818},\n",
       " 'PERPIGNAN_model': {'loss': 4.020787239074707, 'MAE': 1.5498923063278198},\n",
       " 'ROMA_model': {'loss': 2.666489362716675, 'MAE': 1.211921215057373},\n",
       " 'SONNBLICK_model': {'loss': 3.582275152206421, 'MAE': 1.4519184827804565},\n",
       " 'STOCKHOLM_model': {'loss': 2.9992945194244385, 'MAE': 1.3677287101745605},\n",
       " 'TOURS_model': {'loss': 3.995615005493164, 'MAE': 1.6013978719711304}}"
      ]
     },
     "execution_count": 16,
     "metadata": {},
     "output_type": "execute_result"
    }
   ],
   "source": [
    "model_losses = dict()\n",
    "for model, batch_data in zip(models, batch_dataset):\n",
    "    loss, mae = model.evaluate(batch_data[1])\n",
    "    model_losses[model.name] = {\"loss\": loss, \"MAE\": mae}\n",
    "model_losses"
   ]
  },
  {
   "cell_type": "code",
   "execution_count": 18,
   "metadata": {},
   "outputs": [
    {
     "data": {
      "text/html": [
       "<div>\n",
       "<style scoped>\n",
       "    .dataframe tbody tr th:only-of-type {\n",
       "        vertical-align: middle;\n",
       "    }\n",
       "\n",
       "    .dataframe tbody tr th {\n",
       "        vertical-align: top;\n",
       "    }\n",
       "\n",
       "    .dataframe thead th {\n",
       "        text-align: right;\n",
       "    }\n",
       "</style>\n",
       "<table border=\"1\" class=\"dataframe\">\n",
       "  <thead>\n",
       "    <tr style=\"text-align: right;\">\n",
       "      <th></th>\n",
       "      <th>BASEL_model</th>\n",
       "      <th>BUDAPEST_model</th>\n",
       "      <th>DE_model</th>\n",
       "      <th>DRESDEN_model</th>\n",
       "      <th>DUSSELDORF_model</th>\n",
       "      <th>HEATHROW_model</th>\n",
       "      <th>KASSEL_model</th>\n",
       "      <th>LJUBLJANA_model</th>\n",
       "      <th>MAASTRICHT_model</th>\n",
       "      <th>MALMO_model</th>\n",
       "      <th>MONTELIMAR_model</th>\n",
       "      <th>MUENCHEN_model</th>\n",
       "      <th>OSLO_model</th>\n",
       "      <th>PERPIGNAN_model</th>\n",
       "      <th>ROMA_model</th>\n",
       "      <th>SONNBLICK_model</th>\n",
       "      <th>STOCKHOLM_model</th>\n",
       "      <th>TOURS_model</th>\n",
       "    </tr>\n",
       "  </thead>\n",
       "  <tbody>\n",
       "    <tr>\n",
       "      <th>loss</th>\n",
       "      <td>2.926102</td>\n",
       "      <td>3.340862</td>\n",
       "      <td>3.056329</td>\n",
       "      <td>4.355436</td>\n",
       "      <td>2.771543</td>\n",
       "      <td>2.30243</td>\n",
       "      <td>3.183945</td>\n",
       "      <td>4.263371</td>\n",
       "      <td>3.370492</td>\n",
       "      <td>2.610602</td>\n",
       "      <td>3.397240</td>\n",
       "      <td>3.982684</td>\n",
       "      <td>3.094824</td>\n",
       "      <td>4.020787</td>\n",
       "      <td>2.666489</td>\n",
       "      <td>3.582275</td>\n",
       "      <td>2.999295</td>\n",
       "      <td>3.995615</td>\n",
       "    </tr>\n",
       "    <tr>\n",
       "      <th>MAE</th>\n",
       "      <td>1.378312</td>\n",
       "      <td>1.414892</td>\n",
       "      <td>1.413399</td>\n",
       "      <td>1.629382</td>\n",
       "      <td>1.350733</td>\n",
       "      <td>1.19870</td>\n",
       "      <td>1.404492</td>\n",
       "      <td>1.633025</td>\n",
       "      <td>1.451335</td>\n",
       "      <td>1.244170</td>\n",
       "      <td>1.435214</td>\n",
       "      <td>1.577002</td>\n",
       "      <td>1.371359</td>\n",
       "      <td>1.549892</td>\n",
       "      <td>1.211921</td>\n",
       "      <td>1.451918</td>\n",
       "      <td>1.367729</td>\n",
       "      <td>1.601398</td>\n",
       "    </tr>\n",
       "  </tbody>\n",
       "</table>\n",
       "</div>"
      ],
      "text/plain": [
       "      BASEL_model  BUDAPEST_model  DE_model  DRESDEN_model  DUSSELDORF_model  \\\n",
       "loss     2.926102        3.340862  3.056329       4.355436          2.771543   \n",
       "MAE      1.378312        1.414892  1.413399       1.629382          1.350733   \n",
       "\n",
       "      HEATHROW_model  KASSEL_model  LJUBLJANA_model  MAASTRICHT_model  \\\n",
       "loss         2.30243      3.183945         4.263371          3.370492   \n",
       "MAE          1.19870      1.404492         1.633025          1.451335   \n",
       "\n",
       "      MALMO_model  MONTELIMAR_model  MUENCHEN_model  OSLO_model  \\\n",
       "loss     2.610602          3.397240        3.982684    3.094824   \n",
       "MAE      1.244170          1.435214        1.577002    1.371359   \n",
       "\n",
       "      PERPIGNAN_model  ROMA_model  SONNBLICK_model  STOCKHOLM_model  \\\n",
       "loss         4.020787    2.666489         3.582275         2.999295   \n",
       "MAE          1.549892    1.211921         1.451918         1.367729   \n",
       "\n",
       "      TOURS_model  \n",
       "loss     3.995615  \n",
       "MAE      1.601398  "
      ]
     },
     "execution_count": 18,
     "metadata": {},
     "output_type": "execute_result"
    }
   ],
   "source": [
    "model_loss_df = pd.DataFrame(model_losses)\n",
    "model_loss_df"
   ]
  },
  {
   "cell_type": "code",
   "execution_count": 19,
   "metadata": {},
   "outputs": [
    {
     "data": {
      "text/plain": [
       "loss    3.328907\n",
       "MAE     1.426937\n",
       "dtype: float64"
      ]
     },
     "execution_count": 19,
     "metadata": {},
     "output_type": "execute_result"
    }
   ],
   "source": [
    "model_loss_df.mean(axis=1)"
   ]
  }
 ],
 "metadata": {
  "kernelspec": {
   "display_name": "Python 3.9.13 ('keras')",
   "language": "python",
   "name": "python3"
  },
  "language_info": {
   "codemirror_mode": {
    "name": "ipython",
    "version": 3
   },
   "file_extension": ".py",
   "mimetype": "text/x-python",
   "name": "python",
   "nbconvert_exporter": "python",
   "pygments_lexer": "ipython3",
   "version": "3.9.13"
  },
  "orig_nbformat": 4,
  "vscode": {
   "interpreter": {
    "hash": "1adc45b2727d29ffe2ebdf1744bac2997f1014da1e47286e1a4198fcda79fd8a"
   }
  }
 },
 "nbformat": 4,
 "nbformat_minor": 2
}
